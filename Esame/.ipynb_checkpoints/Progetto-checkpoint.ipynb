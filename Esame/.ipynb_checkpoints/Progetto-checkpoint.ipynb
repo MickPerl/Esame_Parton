{
 "cells": [
  {
   "cell_type": "markdown",
   "metadata": {},
   "source": [
    "Importiamo tutte le librerie che ci interessano"
   ]
  },
  {
   "cell_type": "code",
   "execution_count": 38,
   "metadata": {},
   "outputs": [],
   "source": [
    "import gym\n",
    "import random\n",
    "import numpy as np\n",
    "from keras.layers import Input, Conv2D, Dense, MaxPooling2D , Flatten\n",
    "from keras.models import Model, Sequential, load_model\n",
    "from collections import deque\n",
    "from keras.optimizers import Adam\n",
    "import keras\n",
    "import matplotlib.pyplot as plt"
   ]
  },
  {
   "cell_type": "markdown",
   "metadata": {},
   "source": [
    "Creo l'ambiente SpaceInvaders-vo"
   ]
  },
  {
   "cell_type": "code",
   "execution_count": 39,
   "metadata": {},
   "outputs": [],
   "source": [
    "env = gym.make('SpaceInvaders-v0')"
   ]
  },
  {
   "cell_type": "markdown",
   "metadata": {},
   "source": [
    "Creiamo la nostra rete neurale"
   ]
  },
  {
   "cell_type": "code",
   "execution_count": 40,
   "metadata": {},
   "outputs": [],
   "source": [
    "class DQN:\n",
    "    def __init__(self, input_shape, output_shape, discount=0.99, update_target_every=10, memory_size=2000):\n",
    "        self.input_shape=input_shape\n",
    "        self.output_shape=output_shape\n",
    "        self.discount=discount\n",
    "        self.update_target_every=update_target_every\n",
    "        self.policy_net=self.create_model()\n",
    "        self.memory=deque(maxlen=memory_size)\n",
    "        self.target_counter=0 \n",
    "    \n",
    "    def create_model(self):\n",
    "        model=Sequential()\n",
    "        model.add(Conv2D(input_shape=self.input_shape, filters=16, kernel_size=(8,8), strides=(4,4), padding=\"valid\", \n",
    "                        activation=\"relu\", use_bias=True,))\n",
    "        model.add(Conv2D(filters=16, kernel_size=(4,4), strides=(2,2), padding=\"valid\", \n",
    "                       activation=\"relu\", use_bias=True,))\n",
    "        #model.add(Conv2D(filters=32, kernel_size=(2,2), padding=\"valid\", \n",
    "        #                activation=\"relu\", use_bias=True,))\n",
    "        model.add(Flatten())\n",
    "        model.add(Dense(128, activation=\"relu\"))\n",
    "        model.add(Dense(self.output_shape)) # era softmax\n",
    "        adm=Adam(lr=0.001, beta_1=0.9, beta_2=0.999, amsgrad=False)\n",
    "        model.compile(loss=\"mse\", optimizer=adm, metrics=[\"accuracy\"] )\n",
    "        return model        "
   ]
  },
  {
   "cell_type": "markdown",
   "metadata": {},
   "source": [
    "Definiamo tre metodi per preprocessare la nostra immagine croppandola e portandola ad una scala di grigi"
   ]
  },
  {
   "cell_type": "code",
   "execution_count": 41,
   "metadata": {},
   "outputs": [],
   "source": [
    "def to_greyscale(img):\n",
    "        return np.mean(img , axis=2).astype(np.uint8)"
   ]
  },
  {
   "cell_type": "code",
   "execution_count": 42,
   "metadata": {},
   "outputs": [],
   "source": [
    "def downsample(img):\n",
    "        return img[::2 , ::2]"
   ]
  },
  {
   "cell_type": "code",
   "execution_count": 43,
   "metadata": {},
   "outputs": [],
   "source": [
    "def crop(img):\n",
    "    return img[10:100 ,:]"
   ]
  },
  {
   "cell_type": "code",
   "execution_count": 44,
   "metadata": {},
   "outputs": [
    {
     "data": {
      "text/plain": [
       "<matplotlib.image.AxesImage at 0x18d08c78d08>"
      ]
     },
     "execution_count": 44,
     "metadata": {},
     "output_type": "execute_result"
    },
    {
     "data": {
      "image/png": "[encoded data removed]",
      "text/plain": [
       "<Figure size 432x288 with 1 Axes>"
      ]
     },
     "metadata": {
      "needs_background": "light"
     },
     "output_type": "display_data"
    }
   ],
   "source": [
    "img = env.reset()\n",
    "plt.imshow(preprocess(img))\n",
    "#print(preprocess(img).shape)"
   ]
  },
  {
   "cell_type": "code",
   "execution_count": 45,
   "metadata": {},
   "outputs": [
    {
     "data": {
      "text/plain": [
       "<matplotlib.image.AxesImage at 0x18d6d761c48>"
      ]
     },
     "execution_count": 45,
     "metadata": {},
     "output_type": "execute_result"
    },
    {
     "data": {
      "image/png": "[encoded data removed]",
      "text/plain": [
       "<Figure size 432x288 with 1 Axes>"
      ]
     },
     "metadata": {
      "needs_background": "light"
     },
     "output_type": "display_data"
    }
   ],
   "source": [
    "plt.imshow(to_greyscale(downsample(img)))"
   ]
  },
  {
   "cell_type": "code",
   "execution_count": 18,
   "metadata": {},
   "outputs": [],
   "source": [
    "def preprocess(img):\n",
    "        return crop(to_greyscale(downsample(img)))/255"
   ]
  },
  {
   "cell_type": "markdown",
   "metadata": {},
   "source": [
    "Definiamo un metodo per trasformare ogni ricompensa in (-1, 0, +1)"
   ]
  },
  {
   "cell_type": "code",
   "execution_count": 46,
   "metadata": {},
   "outputs": [],
   "source": [
    "def transform_reward(reward):\n",
    "    return np.sign(reward)"
   ]
  },
  {
   "cell_type": "markdown",
   "metadata": {},
   "source": []
  },
  {
   "cell_type": "code",
   "execution_count": 47,
   "metadata": {},
   "outputs": [],
   "source": [
    "class Memory:\n",
    "    def __init__(self , memory = [] , maxsize = 10000):\n",
    "            self.iteration = 0\n",
    "            self.memory = memory\n",
    "            self.maxsize = maxsize"
   ]
  },
  {
   "cell_type": "markdown",
   "metadata": {},
   "source": []
  },
  {
   "cell_type": "code",
   "execution_count": 22,
   "metadata": {},
   "outputs": [],
   "source": [
    "def iteration(env  , model  , mem):\n",
    "    env.reset()\n",
    "    epsilon =  (0.995)**(mem.iteration)\n",
    "    o,r,d,i = env.step(0)\n",
    "    env.render()\n",
    "    processed_state = preprocess(o)\n",
    "    processed_state = processed_state.reshape((1,90,80,1))\n",
    "    mem.memory = []\n",
    "    for i in range(mem.maxsize):\n",
    "        if  random.random() < epsilon:\n",
    "            ac = env.action_space.sample()\n",
    "        else:\n",
    "            ac = np.argmax(model.policy_net.predict(processed_state))\n",
    "        next_state,reward,done,info = env.step(ac)\n",
    "        if done:\n",
    "            next_processed_state = preprocess(next_state)\n",
    "            next_processed_state = next_processed_state.reshape((1,90,80,1))\n",
    "            mem.memory.append((processed_state,ac  , next_processed_state , reward, done ))\n",
    "            break\n",
    "        env.render()\n",
    "        next_processed_state = preprocess(next_state)\n",
    "        next_processed_state = next_processed_state.reshape((1,90,80,1))\n",
    "        mem.memory.append((processed_state,ac  , next_processed_state , reward, done ))\n",
    "        processed_state=next_processed_state\n",
    "    mem.iteration=mem.iteration+1   "
   ]
  },
  {
   "cell_type": "code",
   "execution_count": 23,
   "metadata": {},
   "outputs": [
    {
     "name": "stdout",
     "output_type": "stream",
     "text": [
      "WARNING:tensorflow:From D:\\Anaconda\\lib\\site-packages\\keras\\backend\\tensorflow_backend.py:74: The name tf.get_default_graph is deprecated. Please use tf.compat.v1.get_default_graph instead.\n",
      "\n",
      "WARNING:tensorflow:From D:\\Anaconda\\lib\\site-packages\\keras\\backend\\tensorflow_backend.py:517: The name tf.placeholder is deprecated. Please use tf.compat.v1.placeholder instead.\n",
      "\n",
      "WARNING:tensorflow:From D:\\Anaconda\\lib\\site-packages\\keras\\backend\\tensorflow_backend.py:4138: The name tf.random_uniform is deprecated. Please use tf.random.uniform instead.\n",
      "\n",
      "WARNING:tensorflow:From D:\\Anaconda\\lib\\site-packages\\keras\\optimizers.py:790: The name tf.train.Optimizer is deprecated. Please use tf.compat.v1.train.Optimizer instead.\n",
      "\n"
     ]
    }
   ],
   "source": [
    "mem = Memory()\n",
    "dqn = DQN((90,80,1),6)"
   ]
  },
  {
   "cell_type": "code",
   "execution_count": 24,
   "metadata": {},
   "outputs": [
    {
     "name": "stdout",
     "output_type": "stream",
     "text": [
      "_________________________________________________________________\n",
      "Layer (type)                 Output Shape              Param #   \n",
      "=================================================================\n",
      "conv2d_1 (Conv2D)            (None, 21, 19, 16)        1040      \n",
      "_________________________________________________________________\n",
      "conv2d_2 (Conv2D)            (None, 9, 8, 16)          4112      \n",
      "_________________________________________________________________\n",
      "flatten_1 (Flatten)          (None, 1152)              0         \n",
      "_________________________________________________________________\n",
      "dense_1 (Dense)              (None, 128)               147584    \n",
      "_________________________________________________________________\n",
      "dense_2 (Dense)              (None, 6)                 774       \n",
      "=================================================================\n",
      "Total params: 153,510\n",
      "Trainable params: 153,510\n",
      "Non-trainable params: 0\n",
      "_________________________________________________________________\n"
     ]
    }
   ],
   "source": [
    "dqn.policy_net.summary()"
   ]
  },
  {
   "cell_type": "code",
   "execution_count": 25,
   "metadata": {},
   "outputs": [
    {
     "name": "stdout",
     "output_type": "stream",
     "text": [
      "WARNING:tensorflow:From D:\\Anaconda\\lib\\site-packages\\keras\\backend\\tensorflow_backend.py:2741: The name tf.Session is deprecated. Please use tf.compat.v1.Session instead.\n",
      "\n",
      "WARNING:tensorflow:From D:\\Anaconda\\lib\\site-packages\\keras\\backend\\tensorflow_backend.py:174: The name tf.get_default_session is deprecated. Please use tf.compat.v1.get_default_session instead.\n",
      "\n",
      "WARNING:tensorflow:From D:\\Anaconda\\lib\\site-packages\\keras\\backend\\tensorflow_backend.py:181: The name tf.ConfigProto is deprecated. Please use tf.compat.v1.ConfigProto instead.\n",
      "\n",
      "WARNING:tensorflow:From D:\\Anaconda\\lib\\site-packages\\keras\\backend\\tensorflow_backend.py:190: The name tf.global_variables is deprecated. Please use tf.compat.v1.global_variables instead.\n",
      "\n",
      "WARNING:tensorflow:From D:\\Anaconda\\lib\\site-packages\\keras\\backend\\tensorflow_backend.py:199: The name tf.is_variable_initialized is deprecated. Please use tf.compat.v1.is_variable_initialized instead.\n",
      "\n",
      "WARNING:tensorflow:From D:\\Anaconda\\lib\\site-packages\\keras\\backend\\tensorflow_backend.py:206: The name tf.variables_initializer is deprecated. Please use tf.compat.v1.variables_initializer instead.\n",
      "\n"
     ]
    }
   ],
   "source": [
    "iteration(env , dqn , mem)"
   ]
  },
  {
   "cell_type": "code",
   "execution_count": 26,
   "metadata": {},
   "outputs": [],
   "source": [
    "env.close()"
   ]
  },
  {
   "cell_type": "code",
   "execution_count": 27,
   "metadata": {},
   "outputs": [
    {
     "data": {
      "text/plain": [
       "851"
      ]
     },
     "execution_count": 27,
     "metadata": {},
     "output_type": "execute_result"
    }
   ],
   "source": [
    "len(mem.memory)"
   ]
  },
  {
   "cell_type": "code",
   "execution_count": 18,
   "metadata": {},
   "outputs": [],
   "source": [
    "iteration(env , dqn , mem)"
   ]
  },
  {
   "cell_type": "code",
   "execution_count": 19,
   "metadata": {},
   "outputs": [
    {
     "data": {
      "text/plain": [
       "909"
      ]
     },
     "execution_count": 19,
     "metadata": {},
     "output_type": "execute_result"
    }
   ],
   "source": [
    "len(mem.memory)"
   ]
  },
  {
   "cell_type": "code",
   "execution_count": 20,
   "metadata": {},
   "outputs": [
    {
     "data": {
      "text/plain": [
       "2"
      ]
     },
     "execution_count": 20,
     "metadata": {},
     "output_type": "execute_result"
    }
   ],
   "source": [
    "mem.iteration"
   ]
  },
  {
   "cell_type": "code",
   "execution_count": null,
   "metadata": {},
   "outputs": [],
   "source": [
    "dqn.policy_net.predict(mem.memory[0][0])"
   ]
  },
  {
   "cell_type": "code",
   "execution_count": null,
   "metadata": {},
   "outputs": [],
   "source": [
    "for index, _  in enumerate(mem.memory):\n",
    "    print(index , dqn.policy_net.predict(mem.memory[index][0]))"
   ]
  },
  {
   "cell_type": "code",
   "execution_count": null,
   "metadata": {},
   "outputs": [],
   "source": [
    "for index, _  in enumerate(mem.memory):\n",
    "    print(index ,mem.memory[index][3])"
   ]
  },
  {
   "cell_type": "code",
   "execution_count": null,
   "metadata": {},
   "outputs": [],
   "source": [
    "env.close()"
   ]
  },
  {
   "cell_type": "code",
   "execution_count": 36,
   "metadata": {},
   "outputs": [],
   "source": [
    "def train ( mem , model,gamma = 0.99 ):\n",
    "    i=0\n",
    "    for state , action , next_state , reward ,done in mem.memory:\n",
    "        i+=1\n",
    "        if i >40:\n",
    "            #rewards = np.zeros(6)\n",
    "            #rewards[action]=reward\n",
    "            #q_values = np.zeros(6)\n",
    "            #q_values[best]=1\n",
    "            #target = rewards+ (  gamma * q_values)\n",
    "            #target = target.reshape(1,6)\n",
    "            target =model.policy_net.predict(state)[0]\n",
    "            if not done:\n",
    "                best = np.argmax(model.policy_net.predict(next_state))\n",
    "                target[best]= reward + gamma* np.max(model.policy_net.predict(next_state)[0])\n",
    "            target =target.reshape(1,6)\n",
    "            model.policy_net.fit(state , target , verbose=0)"
   ]
  },
  {
   "cell_type": "code",
   "execution_count": 22,
   "metadata": {},
   "outputs": [
    {
     "name": "stdout",
     "output_type": "stream",
     "text": [
      "WARNING:tensorflow:From D:\\Anaconda\\lib\\site-packages\\keras\\backend\\tensorflow_backend.py:986: The name tf.assign_add is deprecated. Please use tf.compat.v1.assign_add instead.\n",
      "\n",
      "WARNING:tensorflow:From D:\\Anaconda\\lib\\site-packages\\keras\\backend\\tensorflow_backend.py:973: The name tf.assign is deprecated. Please use tf.compat.v1.assign instead.\n",
      "\n"
     ]
    }
   ],
   "source": [
    "train(mem , dqn)"
   ]
  },
  {
   "cell_type": "code",
   "execution_count": 23,
   "metadata": {},
   "outputs": [],
   "source": [
    "iteration(env,dqn,mem)\n",
    "env.close()"
   ]
  },
  {
   "cell_type": "code",
   "execution_count": 24,
   "metadata": {},
   "outputs": [
    {
     "data": {
      "text/plain": [
       "968"
      ]
     },
     "execution_count": 24,
     "metadata": {},
     "output_type": "execute_result"
    }
   ],
   "source": [
    "len(mem.memory)"
   ]
  },
  {
   "cell_type": "code",
   "execution_count": 29,
   "metadata": {},
   "outputs": [],
   "source": [
    "mem = Memory()\n",
    "dqn = DQN((90,80,1),6)"
   ]
  },
  {
   "cell_type": "code",
   "execution_count": null,
   "metadata": {},
   "outputs": [
    {
     "name": "stdout",
     "output_type": "stream",
     "text": [
      "iterazione: 1\t memoria: 876\t esplorazione: 0.990025\n",
      "WARNING:tensorflow:From D:\\Anaconda\\lib\\site-packages\\keras\\backend\\tensorflow_backend.py:986: The name tf.assign_add is deprecated. Please use tf.compat.v1.assign_add instead.\n",
      "\n",
      "WARNING:tensorflow:From D:\\Anaconda\\lib\\site-packages\\keras\\backend\\tensorflow_backend.py:973: The name tf.assign is deprecated. Please use tf.compat.v1.assign instead.\n",
      "\n",
      "iterazione: 2\t memoria: 961\t esplorazione: 0.985074875\n",
      "iterazione: 3\t memoria: 598\t esplorazione: 0.980149500625\n",
      "iterazione: 4\t memoria: 740\t esplorazione: 0.975248753121875\n",
      "iterazione: 5\t memoria: 1594\t esplorazione: 0.9703725093562656\n",
      "iterazione: 6\t memoria: 418\t esplorazione: 0.9655206468094842\n",
      "iterazione: 7\t memoria: 689\t esplorazione: 0.9606930435754368\n",
      "iterazione: 8\t memoria: 500\t esplorazione: 0.9558895783575596\n",
      "iterazione: 9\t memoria: 386\t esplorazione: 0.9511101304657719\n",
      "iterazione: 10\t memoria: 561\t esplorazione: 0.946354579813443\n",
      "iterazione: 11\t memoria: 532\t esplorazione: 0.9416228069143757\n",
      "iterazione: 12\t memoria: 750\t esplorazione: 0.9369146928798039\n",
      "iterazione: 13\t memoria: 761\t esplorazione: 0.9322301194154049\n",
      "iterazione: 14\t memoria: 755\t esplorazione: 0.9275689688183278\n",
      "iterazione: 15\t memoria: 544\t esplorazione: 0.9229311239742362\n",
      "iterazione: 16\t memoria: 733\t esplorazione: 0.918316468354365\n",
      "iterazione: 17\t memoria: 732\t esplorazione: 0.9137248860125932\n",
      "iterazione: 18\t memoria: 511\t esplorazione: 0.9091562615825302\n",
      "iterazione: 19\t memoria: 494\t esplorazione: 0.9046104802746175\n",
      "iterazione: 20\t memoria: 722\t esplorazione: 0.9000874278732445\n",
      "iterazione: 21\t memoria: 1097\t esplorazione: 0.8955869907338783\n",
      "iterazione: 22\t memoria: 586\t esplorazione: 0.8911090557802088\n",
      "iterazione: 23\t memoria: 614\t esplorazione: 0.8866535105013078\n",
      "iterazione: 24\t memoria: 389\t esplorazione: 0.8822202429488012\n",
      "iterazione: 25\t memoria: 693\t esplorazione: 0.8778091417340572\n",
      "iterazione: 26\t memoria: 434\t esplorazione: 0.873420096025387\n",
      "iterazione: 27\t memoria: 482\t esplorazione: 0.86905299554526\n",
      "iterazione: 28\t memoria: 1012\t esplorazione: 0.8647077305675337\n",
      "iterazione: 29\t memoria: 391\t esplorazione: 0.8603841919146961\n",
      "iterazione: 30\t memoria: 958\t esplorazione: 0.8560822709551226\n",
      "iterazione: 31\t memoria: 1019\t esplorazione: 0.8518018596003469\n",
      "iterazione: 32\t memoria: 938\t esplorazione: 0.8475428503023452\n",
      "iterazione: 33\t memoria: 529\t esplorazione: 0.8433051360508335\n",
      "iterazione: 34\t memoria: 419\t esplorazione: 0.8390886103705792\n",
      "iterazione: 35\t memoria: 678\t esplorazione: 0.8348931673187264\n",
      "iterazione: 36\t memoria: 427\t esplorazione: 0.8307187014821328\n",
      "iterazione: 37\t memoria: 959\t esplorazione: 0.826565107974722\n",
      "iterazione: 38\t memoria: 534\t esplorazione: 0.8224322824348484\n",
      "iterazione: 39\t memoria: 583\t esplorazione: 0.8183201210226743\n",
      "iterazione: 40\t memoria: 1008\t esplorazione: 0.8142285204175609\n",
      "iterazione: 41\t memoria: 829\t esplorazione: 0.810157377815473\n",
      "iterazione: 42\t memoria: 646\t esplorazione: 0.8061065909263957\n",
      "iterazione: 43\t memoria: 560\t esplorazione: 0.8020760579717637\n",
      "iterazione: 44\t memoria: 357\t esplorazione: 0.7980656776819048\n",
      "iterazione: 45\t memoria: 920\t esplorazione: 0.7940753492934953\n",
      "iterazione: 46\t memoria: 941\t esplorazione: 0.7901049725470278\n",
      "iterazione: 47\t memoria: 996\t esplorazione: 0.7861544476842928\n",
      "iterazione: 48\t memoria: 336\t esplorazione: 0.7822236754458712\n",
      "iterazione: 49\t memoria: 516\t esplorazione: 0.7783125570686419\n",
      "iterazione: 50\t memoria: 971\t esplorazione: 0.7744209942832987\n",
      "iterazione: 51\t memoria: 330\t esplorazione: 0.7705488893118821\n",
      "iterazione: 52\t memoria: 320\t esplorazione: 0.7666961448653228\n",
      "iterazione: 53\t memoria: 381\t esplorazione: 0.7628626641409961\n",
      "iterazione: 54\t memoria: 627\t esplorazione: 0.7590483508202912\n",
      "iterazione: 55\t memoria: 581\t esplorazione: 0.7552531090661897\n",
      "iterazione: 56\t memoria: 897\t esplorazione: 0.7514768435208588\n",
      "iterazione: 57\t memoria: 966\t esplorazione: 0.7477194593032545\n",
      "iterazione: 58\t memoria: 954\t esplorazione: 0.7439808620067382\n",
      "iterazione: 59\t memoria: 791\t esplorazione: 0.7402609576967045\n",
      "iterazione: 60\t memoria: 935\t esplorazione: 0.736559652908221\n",
      "iterazione: 61\t memoria: 779\t esplorazione: 0.7328768546436799\n",
      "iterazione: 62\t memoria: 675\t esplorazione: 0.7292124703704614\n",
      "iterazione: 63\t memoria: 940\t esplorazione: 0.7255664080186092\n",
      "iterazione: 64\t memoria: 610\t esplorazione: 0.7219385759785161\n",
      "iterazione: 65\t memoria: 331\t esplorazione: 0.7183288830986235\n",
      "iterazione: 66\t memoria: 395\t esplorazione: 0.7147372386831304\n",
      "iterazione: 67\t memoria: 537\t esplorazione: 0.7111635524897147\n",
      "iterazione: 68\t memoria: 493\t esplorazione: 0.7076077347272661\n",
      "iterazione: 69\t memoria: 399\t esplorazione: 0.7040696960536298\n",
      "iterazione: 70\t memoria: 693\t esplorazione: 0.7005493475733616\n",
      "iterazione: 71\t memoria: 354\t esplorazione: 0.6970466008354949\n",
      "iterazione: 72\t memoria: 689\t esplorazione: 0.6935613678313174\n",
      "iterazione: 73\t memoria: 1270\t esplorazione: 0.6900935609921608\n",
      "iterazione: 74\t memoria: 368\t esplorazione: 0.6866430931872\n",
      "iterazione: 75\t memoria: 1087\t esplorazione: 0.683209877721264\n",
      "iterazione: 76\t memoria: 599\t esplorazione: 0.6797938283326577\n",
      "iterazione: 77\t memoria: 743\t esplorazione: 0.6763948591909944\n",
      "iterazione: 78\t memoria: 514\t esplorazione: 0.6730128848950394\n",
      "iterazione: 79\t memoria: 377\t esplorazione: 0.6696478204705641\n",
      "iterazione: 80\t memoria: 551\t esplorazione: 0.6662995813682113\n",
      "iterazione: 81\t memoria: 578\t esplorazione: 0.6629680834613703\n",
      "iterazione: 82\t memoria: 920\t esplorazione: 0.6596532430440635\n",
      "iterazione: 83\t memoria: 653\t esplorazione: 0.6563549768288431\n",
      "iterazione: 84\t memoria: 644\t esplorazione: 0.6530732019446989\n",
      "iterazione: 85\t memoria: 941\t esplorazione: 0.6498078359349754\n",
      "iterazione: 86\t memoria: 864\t esplorazione: 0.6465587967553006\n",
      "iterazione: 87\t memoria: 822\t esplorazione: 0.6433260027715241\n",
      "iterazione: 88\t memoria: 1305\t esplorazione: 0.6401093727576664\n",
      "iterazione: 89\t memoria: 814\t esplorazione: 0.6369088258938781\n",
      "iterazione: 90\t memoria: 850\t esplorazione: 0.6337242817644086\n",
      "iterazione: 91\t memoria: 624\t esplorazione: 0.6305556603555866\n",
      "iterazione: 92\t memoria: 621\t esplorazione: 0.6274028820538087\n",
      "iterazione: 93\t memoria: 648\t esplorazione: 0.6242658676435396\n",
      "iterazione: 94\t memoria: 515\t esplorazione: 0.6211445383053219\n",
      "iterazione: 95\t memoria: 633\t esplorazione: 0.6180388156137954\n",
      "iterazione: 96\t memoria: 670\t esplorazione: 0.6149486215357264\n",
      "iterazione: 97\t memoria: 1422\t esplorazione: 0.6118738784280477\n",
      "iterazione: 98\t memoria: 529\t esplorazione: 0.6088145090359075\n",
      "iterazione: 99\t memoria: 716\t esplorazione: 0.6057704364907279\n",
      "iterazione: 100\t memoria: 682\t esplorazione: 0.6027415843082743\n",
      "iterazione: 101\t memoria: 412\t esplorazione: 0.599727876386733\n",
      "iterazione: 102\t memoria: 919\t esplorazione: 0.5967292370047993\n",
      "iterazione: 103\t memoria: 809\t esplorazione: 0.5937455908197753\n",
      "iterazione: 104\t memoria: 927\t esplorazione: 0.5907768628656764\n",
      "iterazione: 105\t memoria: 1622\t esplorazione: 0.587822978551348\n",
      "iterazione: 106\t memoria: 696\t esplorazione: 0.5848838636585912\n",
      "iterazione: 107\t memoria: 665\t esplorazione: 0.5819594443402983\n",
      "iterazione: 108\t memoria: 692\t esplorazione: 0.5790496471185969\n",
      "iterazione: 109\t memoria: 610\t esplorazione: 0.5761543988830038\n",
      "iterazione: 110\t memoria: 377\t esplorazione: 0.5732736268885888\n",
      "iterazione: 111\t memoria: 645\t esplorazione: 0.5704072587541459\n",
      "iterazione: 112\t memoria: 355\t esplorazione: 0.5675552224603752\n",
      "iterazione: 113\t memoria: 742\t esplorazione: 0.5647174463480732\n",
      "iterazione: 114\t memoria: 603\t esplorazione: 0.5618938591163328\n",
      "iterazione: 115\t memoria: 383\t esplorazione: 0.5590843898207511\n",
      "iterazione: 116\t memoria: 847\t esplorazione: 0.5562889678716475\n",
      "iterazione: 117\t memoria: 940\t esplorazione: 0.5535075230322892\n",
      "iterazione: 118\t memoria: 1137\t esplorazione: 0.5507399854171278\n",
      "iterazione: 119\t memoria: 307\t esplorazione: 0.5479862854900421\n",
      "iterazione: 120\t memoria: 465\t esplorazione: 0.5452463540625919\n",
      "iterazione: 121\t memoria: 1076\t esplorazione: 0.542520122292279\n",
      "iterazione: 122\t memoria: 528\t esplorazione: 0.5398075216808176\n",
      "iterazione: 123\t memoria: 491\t esplorazione: 0.5371084840724134\n",
      "iterazione: 124\t memoria: 741\t esplorazione: 0.5344229416520514\n",
      "iterazione: 125\t memoria: 684\t esplorazione: 0.5317508269437912\n"
     ]
    },
    {
     "name": "stdout",
     "output_type": "stream",
     "text": [
      "iterazione: 126\t memoria: 328\t esplorazione: 0.5290920728090721\n",
      "iterazione: 127\t memoria: 499\t esplorazione: 0.5264466124450268\n",
      "iterazione: 128\t memoria: 723\t esplorazione: 0.5238143793828016\n",
      "iterazione: 129\t memoria: 429\t esplorazione: 0.5211953074858876\n",
      "iterazione: 130\t memoria: 1672\t esplorazione: 0.5185893309484582\n",
      "iterazione: 131\t memoria: 883\t esplorazione: 0.515996384293716\n",
      "iterazione: 132\t memoria: 676\t esplorazione: 0.5134164023722474\n",
      "iterazione: 133\t memoria: 634\t esplorazione: 0.5108493203603861\n",
      "iterazione: 134\t memoria: 454\t esplorazione: 0.5082950737585842\n",
      "iterazione: 135\t memoria: 629\t esplorazione: 0.5057535983897913\n",
      "iterazione: 136\t memoria: 516\t esplorazione: 0.5032248303978423\n",
      "iterazione: 137\t memoria: 712\t esplorazione: 0.5007087062458531\n",
      "iterazione: 138\t memoria: 666\t esplorazione: 0.4982051627146238\n",
      "iterazione: 139\t memoria: 661\t esplorazione: 0.4957141369010507\n",
      "iterazione: 140\t memoria: 958\t esplorazione: 0.4932355662165454\n",
      "iterazione: 141\t memoria: 720\t esplorazione: 0.4907693883854627\n",
      "iterazione: 142\t memoria: 635\t esplorazione: 0.4883155414435354\n",
      "iterazione: 143\t memoria: 712\t esplorazione: 0.4858739637363177\n",
      "iterazione: 144\t memoria: 1093\t esplorazione: 0.4834445939176361\n",
      "iterazione: 145\t memoria: 792\t esplorazione: 0.4810273709480479\n",
      "iterazione: 146\t memoria: 381\t esplorazione: 0.4786222340933077\n",
      "iterazione: 147\t memoria: 1134\t esplorazione: 0.47622912292284114\n",
      "iterazione: 148\t memoria: 299\t esplorazione: 0.4738479773082269\n",
      "iterazione: 149\t memoria: 658\t esplorazione: 0.4714787374216858\n",
      "iterazione: 150\t memoria: 638\t esplorazione: 0.46912134373457737\n",
      "iterazione: 151\t memoria: 637\t esplorazione: 0.46677573701590447\n",
      "iterazione: 152\t memoria: 315\t esplorazione: 0.46444185833082496\n",
      "iterazione: 153\t memoria: 660\t esplorazione: 0.46211964903917085\n",
      "iterazione: 154\t memoria: 622\t esplorazione: 0.459809050793975\n",
      "iterazione: 155\t memoria: 798\t esplorazione: 0.4575100055400051\n",
      "iterazione: 156\t memoria: 1127\t esplorazione: 0.45522245551230506\n",
      "iterazione: 157\t memoria: 656\t esplorazione: 0.45294634323474353\n",
      "iterazione: 158\t memoria: 531\t esplorazione: 0.45068161151856984\n",
      "iterazione: 159\t memoria: 817\t esplorazione: 0.44842820346097695\n",
      "iterazione: 160\t memoria: 459\t esplorazione: 0.4461860624436721\n",
      "iterazione: 161\t memoria: 478\t esplorazione: 0.4439551321314537\n",
      "iterazione: 162\t memoria: 1357\t esplorazione: 0.4417353564707965\n",
      "iterazione: 163\t memoria: 652\t esplorazione: 0.43952667968844245\n",
      "iterazione: 164\t memoria: 662\t esplorazione: 0.43732904629000025\n",
      "iterazione: 165\t memoria: 662\t esplorazione: 0.43514240105855023\n",
      "iterazione: 166\t memoria: 533\t esplorazione: 0.4329666890532575\n",
      "iterazione: 167\t memoria: 632\t esplorazione: 0.4308018556079912\n",
      "iterazione: 168\t memoria: 1223\t esplorazione: 0.42864784632995123\n",
      "iterazione: 169\t memoria: 1690\t esplorazione: 0.4265046070983015\n",
      "iterazione: 170\t memoria: 706\t esplorazione: 0.42437208406280996\n",
      "iterazione: 171\t memoria: 1098\t esplorazione: 0.4222502236424959\n",
      "iterazione: 172\t memoria: 697\t esplorazione: 0.42013897252428345\n",
      "iterazione: 173\t memoria: 639\t esplorazione: 0.418038277661662\n",
      "iterazione: 174\t memoria: 674\t esplorazione: 0.4159480862733537\n",
      "iterazione: 175\t memoria: 1088\t esplorazione: 0.41386834584198695\n",
      "iterazione: 176\t memoria: 617\t esplorazione: 0.41179900411277703\n",
      "iterazione: 177\t memoria: 649\t esplorazione: 0.40974000909221314\n",
      "iterazione: 178\t memoria: 1097\t esplorazione: 0.40769130904675205\n",
      "iterazione: 179\t memoria: 396\t esplorazione: 0.4056528525015183\n",
      "iterazione: 180\t memoria: 697\t esplorazione: 0.4036245882390107\n",
      "iterazione: 181\t memoria: 1089\t esplorazione: 0.40160646529781563\n",
      "iterazione: 182\t memoria: 482\t esplorazione: 0.3995984329713266\n",
      "iterazione: 183\t memoria: 1122\t esplorazione: 0.39760044080646995\n",
      "iterazione: 184\t memoria: 949\t esplorazione: 0.39561243860243755\n",
      "iterazione: 185\t memoria: 484\t esplorazione: 0.3936343764094254\n",
      "iterazione: 186\t memoria: 689\t esplorazione: 0.39166620452737827\n",
      "iterazione: 187\t memoria: 514\t esplorazione: 0.3897078735047414\n",
      "iterazione: 188\t memoria: 1124\t esplorazione: 0.38775933413721764\n",
      "iterazione: 189\t memoria: 1158\t esplorazione: 0.38582053746653155\n",
      "iterazione: 190\t memoria: 1086\t esplorazione: 0.3838914347791989\n",
      "iterazione: 191\t memoria: 939\t esplorazione: 0.38197197760530294\n",
      "iterazione: 192\t memoria: 513\t esplorazione: 0.3800621177172764\n",
      "iterazione: 193\t memoria: 633\t esplorazione: 0.37816180712869\n",
      "iterazione: 194\t memoria: 389\t esplorazione: 0.37627099809304654\n",
      "iterazione: 195\t memoria: 1639\t esplorazione: 0.3743896431025813\n",
      "iterazione: 196\t memoria: 639\t esplorazione: 0.37251769488706843\n",
      "iterazione: 197\t memoria: 636\t esplorazione: 0.37065510641263305\n",
      "iterazione: 198\t memoria: 684\t esplorazione: 0.3688018308805699\n",
      "iterazione: 199\t memoria: 628\t esplorazione: 0.36695782172616703\n",
      "iterazione: 200\t memoria: 396\t esplorazione: 0.3651230326175362\n",
      "iterazione: 201\t memoria: 1129\t esplorazione: 0.36329741745444855\n",
      "iterazione: 202\t memoria: 1241\t esplorazione: 0.3614809303671763\n",
      "iterazione: 203\t memoria: 631\t esplorazione: 0.3596735257153404\n",
      "iterazione: 204\t memoria: 1145\t esplorazione: 0.35787515808676373\n",
      "iterazione: 205\t memoria: 1398\t esplorazione: 0.35608578229632987\n",
      "iterazione: 206\t memoria: 434\t esplorazione: 0.35430535338484825\n",
      "iterazione: 207\t memoria: 515\t esplorazione: 0.352533826617924\n",
      "iterazione: 208\t memoria: 638\t esplorazione: 0.3507711574848344\n",
      "iterazione: 209\t memoria: 642\t esplorazione: 0.3490173016974102\n",
      "iterazione: 210\t memoria: 376\t esplorazione: 0.34727221518892315\n",
      "iterazione: 211\t memoria: 1104\t esplorazione: 0.34553585411297855\n",
      "iterazione: 212\t memoria: 1240\t esplorazione: 0.34380817484241366\n",
      "iterazione: 213\t memoria: 1186\t esplorazione: 0.34208913396820156\n",
      "iterazione: 214\t memoria: 1105\t esplorazione: 0.34037868829836054\n",
      "iterazione: 215\t memoria: 632\t esplorazione: 0.33867679485686875\n",
      "iterazione: 216\t memoria: 1395\t esplorazione: 0.33698341088258443\n",
      "iterazione: 217\t memoria: 1662\t esplorazione: 0.3352984938281715\n",
      "iterazione: 218\t memoria: 650\t esplorazione: 0.33362200135903064\n",
      "iterazione: 219\t memoria: 1103\t esplorazione: 0.33195389135223546\n",
      "iterazione: 220\t memoria: 1115\t esplorazione: 0.3302941218954743\n",
      "iterazione: 221\t memoria: 1141\t esplorazione: 0.3286426512859969\n",
      "iterazione: 222\t memoria: 1105\t esplorazione: 0.32699943802956694\n",
      "iterazione: 223\t memoria: 608\t esplorazione: 0.3253644408394191\n",
      "iterazione: 224\t memoria: 517\t esplorazione: 0.323737618635222\n",
      "iterazione: 225\t memoria: 648\t esplorazione: 0.3221189305420459\n",
      "iterazione: 226\t memoria: 1167\t esplorazione: 0.32050833588933564\n",
      "iterazione: 227\t memoria: 507\t esplorazione: 0.31890579420988896\n",
      "iterazione: 228\t memoria: 1075\t esplorazione: 0.3173112652388395\n",
      "iterazione: 229\t memoria: 1124\t esplorazione: 0.3157247089126453\n",
      "iterazione: 230\t memoria: 1100\t esplorazione: 0.3141460853680821\n",
      "iterazione: 231\t memoria: 629\t esplorazione: 0.31257535494124167\n",
      "iterazione: 232\t memoria: 649\t esplorazione: 0.3110124781665355\n",
      "iterazione: 233\t memoria: 644\t esplorazione: 0.3094574157757028\n",
      "iterazione: 234\t memoria: 314\t esplorazione: 0.30791012869682427\n",
      "iterazione: 235\t memoria: 1138\t esplorazione: 0.30637057805334017\n",
      "iterazione: 236\t memoria: 937\t esplorazione: 0.3048387251630735\n",
      "iterazione: 237\t memoria: 1219\t esplorazione: 0.30331453153725807\n",
      "iterazione: 238\t memoria: 553\t esplorazione: 0.3017979588795718\n",
      "iterazione: 239\t memoria: 619\t esplorazione: 0.30028896908517394\n",
      "iterazione: 240\t memoria: 629\t esplorazione: 0.2987875242397481\n",
      "iterazione: 241\t memoria: 494\t esplorazione: 0.2972935866185493\n",
      "iterazione: 242\t memoria: 667\t esplorazione: 0.29580711868545656\n",
      "iterazione: 243\t memoria: 914\t esplorazione: 0.2943280830920293\n",
      "iterazione: 244\t memoria: 638\t esplorazione: 0.29285644267656913\n",
      "iterazione: 245\t memoria: 613\t esplorazione: 0.2913921604631863\n",
      "iterazione: 246\t memoria: 1078\t esplorazione: 0.2899351996608704\n",
      "iterazione: 247\t memoria: 1076\t esplorazione: 0.288485523662566\n",
      "iterazione: 248\t memoria: 1112\t esplorazione: 0.2870430960442532\n",
      "iterazione: 249\t memoria: 530\t esplorazione: 0.2856078805640319\n",
      "iterazione: 250\t memoria: 1100\t esplorazione: 0.28417984116121175\n",
      "iterazione: 251\t memoria: 629\t esplorazione: 0.2827589419554057\n",
      "iterazione: 252\t memoria: 639\t esplorazione: 0.28134514724562865\n"
     ]
    },
    {
     "name": "stdout",
     "output_type": "stream",
     "text": [
      "iterazione: 253\t memoria: 1070\t esplorazione: 0.2799384215094005\n",
      "iterazione: 254\t memoria: 615\t esplorazione: 0.27853872940185354\n",
      "iterazione: 255\t memoria: 705\t esplorazione: 0.27714603575484426\n",
      "iterazione: 256\t memoria: 1069\t esplorazione: 0.27576030557607\n",
      "iterazione: 257\t memoria: 1125\t esplorazione: 0.2743815040481897\n",
      "iterazione: 258\t memoria: 635\t esplorazione: 0.2730095965279487\n",
      "iterazione: 259\t memoria: 808\t esplorazione: 0.271644548545309\n",
      "iterazione: 260\t memoria: 1159\t esplorazione: 0.27028632580258244\n",
      "iterazione: 261\t memoria: 732\t esplorazione: 0.2689348941735695\n",
      "iterazione: 262\t memoria: 656\t esplorazione: 0.2675902197027017\n",
      "iterazione: 263\t memoria: 677\t esplorazione: 0.26625226860418816\n",
      "iterazione: 264\t memoria: 500\t esplorazione: 0.26492100726116724\n",
      "iterazione: 265\t memoria: 703\t esplorazione: 0.26359640222486136\n",
      "iterazione: 266\t memoria: 1107\t esplorazione: 0.2622784202137371\n",
      "iterazione: 267\t memoria: 711\t esplorazione: 0.26096702811266836\n",
      "iterazione: 268\t memoria: 625\t esplorazione: 0.259662192972105\n",
      "iterazione: 269\t memoria: 1095\t esplorazione: 0.2583638820072445\n",
      "iterazione: 270\t memoria: 718\t esplorazione: 0.2570720625972083\n",
      "iterazione: 271\t memoria: 1104\t esplorazione: 0.25578670228422223\n",
      "iterazione: 272\t memoria: 1120\t esplorazione: 0.2545077687728011\n",
      "iterazione: 273\t memoria: 488\t esplorazione: 0.25323522992893716\n",
      "iterazione: 274\t memoria: 660\t esplorazione: 0.25196905377929246\n",
      "iterazione: 275\t memoria: 1122\t esplorazione: 0.25070920851039596\n",
      "iterazione: 276\t memoria: 1083\t esplorazione: 0.249455662467844\n",
      "iterazione: 277\t memoria: 400\t esplorazione: 0.24820838415550478\n",
      "iterazione: 278\t memoria: 816\t esplorazione: 0.24696734223472724\n",
      "iterazione: 279\t memoria: 650\t esplorazione: 0.2457325055235536\n",
      "iterazione: 280\t memoria: 1049\t esplorazione: 0.24450384299593586\n",
      "iterazione: 281\t memoria: 636\t esplorazione: 0.24328132378095618\n",
      "iterazione: 282\t memoria: 1071\t esplorazione: 0.2420649171620514\n",
      "iterazione: 283\t memoria: 914\t esplorazione: 0.24085459257624112\n",
      "iterazione: 284\t memoria: 736\t esplorazione: 0.23965031961335992\n",
      "iterazione: 285\t memoria: 624\t esplorazione: 0.23845206801529312\n",
      "iterazione: 286\t memoria: 845\t esplorazione: 0.23725980767521665\n",
      "iterazione: 287\t memoria: 653\t esplorazione: 0.23607350863684057\n",
      "iterazione: 288\t memoria: 622\t esplorazione: 0.23489314109365636\n",
      "iterazione: 289\t memoria: 1085\t esplorazione: 0.23371867538818808\n",
      "iterazione: 290\t memoria: 619\t esplorazione: 0.23255008201124713\n",
      "iterazione: 291\t memoria: 1114\t esplorazione: 0.2313873316011909\n",
      "iterazione: 292\t memoria: 940\t esplorazione: 0.23023039494318495\n",
      "iterazione: 293\t memoria: 1216\t esplorazione: 0.22907924296846902\n",
      "iterazione: 294\t memoria: 1108\t esplorazione: 0.22793384675362668\n",
      "iterazione: 295\t memoria: 1164\t esplorazione: 0.22679417751985856\n",
      "iterazione: 296\t memoria: 1646\t esplorazione: 0.22566020663225925\n",
      "iterazione: 297\t memoria: 950\t esplorazione: 0.22453190559909794\n",
      "iterazione: 298\t memoria: 669\t esplorazione: 0.22340924607110246\n",
      "iterazione: 299\t memoria: 1108\t esplorazione: 0.22229219984074694\n",
      "iterazione: 300\t memoria: 1078\t esplorazione: 0.2211807388415432\n",
      "iterazione: 301\t memoria: 671\t esplorazione: 0.2200748351473355\n",
      "iterazione: 302\t memoria: 916\t esplorazione: 0.2189744609715988\n",
      "iterazione: 303\t memoria: 1241\t esplorazione: 0.21787958866674081\n",
      "iterazione: 304\t memoria: 1102\t esplorazione: 0.2167901907234071\n",
      "iterazione: 305\t memoria: 1104\t esplorazione: 0.2157062397697901\n",
      "iterazione: 306\t memoria: 933\t esplorazione: 0.21462770857094113\n",
      "iterazione: 307\t memoria: 942\t esplorazione: 0.21355457002808642\n",
      "iterazione: 308\t memoria: 647\t esplorazione: 0.212486797177946\n",
      "iterazione: 309\t memoria: 955\t esplorazione: 0.21142436319205626\n",
      "iterazione: 310\t memoria: 670\t esplorazione: 0.21036724137609597\n",
      "iterazione: 311\t memoria: 580\t esplorazione: 0.20931540516921548\n",
      "iterazione: 312\t memoria: 971\t esplorazione: 0.20826882814336942\n",
      "iterazione: 313\t memoria: 696\t esplorazione: 0.20722748400265256\n",
      "iterazione: 314\t memoria: 681\t esplorazione: 0.2061913465826393\n",
      "iterazione: 315\t memoria: 617\t esplorazione: 0.20516038984972612\n",
      "iterazione: 316\t memoria: 1161\t esplorazione: 0.20413458790047748\n",
      "iterazione: 317\t memoria: 664\t esplorazione: 0.20311391496097508\n",
      "iterazione: 318\t memoria: 1115\t esplorazione: 0.20209834538617022\n",
      "iterazione: 319\t memoria: 956\t esplorazione: 0.20108785365923937\n",
      "iterazione: 320\t memoria: 1142\t esplorazione: 0.20008241439094315\n",
      "iterazione: 321\t memoria: 1173\t esplorazione: 0.19908200231898845\n",
      "iterazione: 322\t memoria: 1083\t esplorazione: 0.1980865923073935\n",
      "iterazione: 323\t memoria: 1070\t esplorazione: 0.19709615934585653\n",
      "iterazione: 324\t memoria: 1146\t esplorazione: 0.19611067854912725\n",
      "iterazione: 325\t memoria: 639\t esplorazione: 0.19513012515638162\n",
      "iterazione: 326\t memoria: 1067\t esplorazione: 0.1941544745305997\n",
      "iterazione: 327\t memoria: 1084\t esplorazione: 0.1931837021579467\n",
      "iterazione: 328\t memoria: 495\t esplorazione: 0.19221778364715697\n",
      "iterazione: 329\t memoria: 643\t esplorazione: 0.19125669472892118\n",
      "iterazione: 330\t memoria: 1108\t esplorazione: 0.19030041125527658\n",
      "iterazione: 331\t memoria: 530\t esplorazione: 0.1893489091990002\n",
      "iterazione: 332\t memoria: 658\t esplorazione: 0.1884021646530052\n",
      "iterazione: 333\t memoria: 642\t esplorazione: 0.18746015382974016\n",
      "iterazione: 334\t memoria: 1098\t esplorazione: 0.18652285306059146\n",
      "iterazione: 335\t memoria: 632\t esplorazione: 0.18559023879528852\n",
      "iterazione: 336\t memoria: 1092\t esplorazione: 0.18466228760131206\n",
      "iterazione: 337\t memoria: 1145\t esplorazione: 0.1837389761633055\n",
      "iterazione: 338\t memoria: 1107\t esplorazione: 0.18282028128248898\n",
      "iterazione: 339\t memoria: 970\t esplorazione: 0.18190617987607652\n",
      "iterazione: 340\t memoria: 493\t esplorazione: 0.18099664897669615\n",
      "iterazione: 341\t memoria: 953\t esplorazione: 0.18009166573181265\n",
      "iterazione: 342\t memoria: 923\t esplorazione: 0.1791912074031536\n",
      "iterazione: 343\t memoria: 657\t esplorazione: 0.17829525136613783\n",
      "iterazione: 344\t memoria: 1122\t esplorazione: 0.17740377510930713\n",
      "iterazione: 345\t memoria: 1104\t esplorazione: 0.1765167562337606\n",
      "iterazione: 346\t memoria: 1102\t esplorazione: 0.1756341724525918\n",
      "iterazione: 347\t memoria: 1099\t esplorazione: 0.17475600159032884\n",
      "iterazione: 348\t memoria: 623\t esplorazione: 0.1738822215823772\n",
      "iterazione: 349\t memoria: 928\t esplorazione: 0.17301281047446532\n",
      "iterazione: 350\t memoria: 1255\t esplorazione: 0.172147746422093\n",
      "iterazione: 351\t memoria: 1134\t esplorazione: 0.1712870076899825\n",
      "iterazione: 352\t memoria: 1120\t esplorazione: 0.1704305726515326\n",
      "iterazione: 353\t memoria: 1086\t esplorazione: 0.16957841978827493\n",
      "iterazione: 354\t memoria: 637\t esplorazione: 0.16873052768933355\n",
      "iterazione: 355\t memoria: 527\t esplorazione: 0.1678868750508869\n",
      "iterazione: 356\t memoria: 1058\t esplorazione: 0.16704744067563246\n",
      "iterazione: 357\t memoria: 652\t esplorazione: 0.1662122034722543\n",
      "iterazione: 358\t memoria: 933\t esplorazione: 0.16538114245489302\n",
      "iterazione: 359\t memoria: 1074\t esplorazione: 0.16455423674261857\n",
      "iterazione: 360\t memoria: 693\t esplorazione: 0.16373146555890547\n",
      "iterazione: 361\t memoria: 1076\t esplorazione: 0.16291280823111093\n",
      "iterazione: 362\t memoria: 1101\t esplorazione: 0.1620982441899554\n",
      "iterazione: 363\t memoria: 1095\t esplorazione: 0.1612877529690056\n",
      "iterazione: 364\t memoria: 760\t esplorazione: 0.16048131420416056\n",
      "iterazione: 365\t memoria: 675\t esplorazione: 0.15967890763313977\n",
      "iterazione: 366\t memoria: 1102\t esplorazione: 0.15888051309497409\n",
      "iterazione: 367\t memoria: 637\t esplorazione: 0.1580861105294992\n",
      "iterazione: 368\t memoria: 1257\t esplorazione: 0.1572956799768517\n",
      "iterazione: 369\t memoria: 944\t esplorazione: 0.15650920157696743\n",
      "iterazione: 370\t memoria: 636\t esplorazione: 0.1557266555690826\n",
      "iterazione: 371\t memoria: 745\t esplorazione: 0.1549480222912372\n",
      "iterazione: 372\t memoria: 758\t esplorazione: 0.15417328217978102\n",
      "iterazione: 373\t memoria: 619\t esplorazione: 0.1534024157688821\n",
      "iterazione: 374\t memoria: 684\t esplorazione: 0.1526354036900377\n",
      "iterazione: 375\t memoria: 997\t esplorazione: 0.1518722266715875\n",
      "iterazione: 376\t memoria: 528\t esplorazione: 0.15111286553822956\n",
      "iterazione: 377\t memoria: 964\t esplorazione: 0.15035730121053842\n",
      "iterazione: 378\t memoria: 817\t esplorazione: 0.14960551470448571\n",
      "iterazione: 379\t memoria: 1055\t esplorazione: 0.14885748713096328\n"
     ]
    },
    {
     "name": "stdout",
     "output_type": "stream",
     "text": [
      "iterazione: 380\t memoria: 826\t esplorazione: 0.14811319969530848\n",
      "iterazione: 381\t memoria: 655\t esplorazione: 0.14737263369683193\n",
      "iterazione: 382\t memoria: 922\t esplorazione: 0.14663577052834778\n",
      "iterazione: 383\t memoria: 766\t esplorazione: 0.14590259167570604\n",
      "iterazione: 384\t memoria: 682\t esplorazione: 0.14517307871732751\n",
      "iterazione: 385\t memoria: 714\t esplorazione: 0.14444721332374086\n",
      "iterazione: 386\t memoria: 414\t esplorazione: 0.14372497725712216\n",
      "iterazione: 387\t memoria: 1449\t esplorazione: 0.14300635237083656\n",
      "iterazione: 388\t memoria: 656\t esplorazione: 0.14229132060898236\n",
      "iterazione: 389\t memoria: 762\t esplorazione: 0.14157986400593744\n",
      "iterazione: 390\t memoria: 955\t esplorazione: 0.14087196468590776\n",
      "iterazione: 391\t memoria: 776\t esplorazione: 0.14016760486247823\n",
      "iterazione: 392\t memoria: 776\t esplorazione: 0.13946676683816583\n",
      "iterazione: 393\t memoria: 699\t esplorazione: 0.138769433003975\n",
      "iterazione: 394\t memoria: 892\t esplorazione: 0.13807558583895513\n",
      "iterazione: 395\t memoria: 1117\t esplorazione: 0.13738520790976036\n",
      "iterazione: 396\t memoria: 1021\t esplorazione: 0.13669828187021155\n",
      "iterazione: 397\t memoria: 1092\t esplorazione: 0.13601479046086049\n",
      "iterazione: 398\t memoria: 507\t esplorazione: 0.1353347165085562\n",
      "iterazione: 399\t memoria: 663\t esplorazione: 0.1346580429260134\n",
      "iterazione: 400\t memoria: 1035\t esplorazione: 0.13398475271138333\n",
      "iterazione: 401\t memoria: 905\t esplorazione: 0.13331482894782642\n",
      "iterazione: 402\t memoria: 950\t esplorazione: 0.13264825480308728\n",
      "iterazione: 403\t memoria: 395\t esplorazione: 0.13198501352907185\n",
      "iterazione: 404\t memoria: 1112\t esplorazione: 0.1313250884614265\n",
      "iterazione: 405\t memoria: 805\t esplorazione: 0.13066846301911936\n",
      "iterazione: 406\t memoria: 811\t esplorazione: 0.13001512070402377\n",
      "iterazione: 407\t memoria: 681\t esplorazione: 0.12936504510050365\n",
      "iterazione: 408\t memoria: 832\t esplorazione: 0.12871821987500112\n",
      "iterazione: 409\t memoria: 637\t esplorazione: 0.12807462877562611\n",
      "iterazione: 410\t memoria: 943\t esplorazione: 0.12743425563174798\n",
      "iterazione: 411\t memoria: 1247\t esplorazione: 0.12679708435358925\n",
      "iterazione: 412\t memoria: 672\t esplorazione: 0.1261630989318213\n",
      "iterazione: 413\t memoria: 351\t esplorazione: 0.1255322834371622\n",
      "iterazione: 414\t memoria: 979\t esplorazione: 0.12490462201997637\n",
      "iterazione: 415\t memoria: 846\t esplorazione: 0.1242800989098765\n",
      "iterazione: 416\t memoria: 798\t esplorazione: 0.12365869841532712\n",
      "iterazione: 417\t memoria: 837\t esplorazione: 0.12304040492325048\n",
      "iterazione: 418\t memoria: 1359\t esplorazione: 0.12242520289863422\n",
      "iterazione: 419\t memoria: 1473\t esplorazione: 0.12181307688414106\n",
      "iterazione: 420\t memoria: 811\t esplorazione: 0.12120401149972035\n",
      "iterazione: 421\t memoria: 806\t esplorazione: 0.12059799144222175\n",
      "iterazione: 422\t memoria: 982\t esplorazione: 0.11999500148501063\n",
      "iterazione: 423\t memoria: 909\t esplorazione: 0.11939502647758558\n",
      "iterazione: 424\t memoria: 759\t esplorazione: 0.11879805134519765\n",
      "iterazione: 425\t memoria: 726\t esplorazione: 0.11820406108847166\n",
      "iterazione: 426\t memoria: 834\t esplorazione: 0.11761304078302931\n",
      "iterazione: 427\t memoria: 748\t esplorazione: 0.11702497557911416\n",
      "iterazione: 428\t memoria: 534\t esplorazione: 0.11643985070121858\n",
      "iterazione: 429\t memoria: 875\t esplorazione: 0.1158576514477125\n",
      "iterazione: 430\t memoria: 933\t esplorazione: 0.11527836319047394\n",
      "iterazione: 431\t memoria: 1302\t esplorazione: 0.11470197137452157\n",
      "iterazione: 432\t memoria: 1065\t esplorazione: 0.11412846151764895\n",
      "iterazione: 433\t memoria: 766\t esplorazione: 0.11355781921006071\n",
      "iterazione: 434\t memoria: 1437\t esplorazione: 0.1129900301140104\n",
      "iterazione: 435\t memoria: 821\t esplorazione: 0.11242507996344035\n",
      "iterazione: 436\t memoria: 994\t esplorazione: 0.11186295456362315\n",
      "iterazione: 437\t memoria: 998\t esplorazione: 0.11130363979080503\n",
      "iterazione: 438\t memoria: 819\t esplorazione: 0.110747121591851\n",
      "iterazione: 439\t memoria: 1347\t esplorazione: 0.11019338598389175\n",
      "iterazione: 440\t memoria: 966\t esplorazione: 0.10964241905397229\n",
      "iterazione: 441\t memoria: 838\t esplorazione: 0.10909420695870244\n",
      "iterazione: 442\t memoria: 809\t esplorazione: 0.10854873592390892\n",
      "iterazione: 443\t memoria: 835\t esplorazione: 0.10800599224428938\n",
      "iterazione: 444\t memoria: 829\t esplorazione: 0.10746596228306793\n",
      "iterazione: 445\t memoria: 644\t esplorazione: 0.10692863247165259\n",
      "iterazione: 446\t memoria: 1072\t esplorazione: 0.10639398930929432\n",
      "iterazione: 447\t memoria: 823\t esplorazione: 0.10586201936274785\n",
      "iterazione: 448\t memoria: 933\t esplorazione: 0.1053327092659341\n",
      "iterazione: 449\t memoria: 831\t esplorazione: 0.10480604571960443\n",
      "iterazione: 450\t memoria: 1377\t esplorazione: 0.10428201549100642\n",
      "iterazione: 451\t memoria: 686\t esplorazione: 0.10376060541355138\n",
      "iterazione: 452\t memoria: 1102\t esplorazione: 0.10324180238648363\n",
      "iterazione: 453\t memoria: 1124\t esplorazione: 0.10272559337455121\n",
      "iterazione: 454\t memoria: 964\t esplorazione: 0.10221196540767845\n",
      "iterazione: 455\t memoria: 719\t esplorazione: 0.10170090558064006\n",
      "iterazione: 456\t memoria: 946\t esplorazione: 0.10119240105273686\n",
      "iterazione: 457\t memoria: 763\t esplorazione: 0.10068643904747317\n",
      "iterazione: 458\t memoria: 941\t esplorazione: 0.1001830068522358\n",
      "iterazione: 459\t memoria: 1151\t esplorazione: 0.09968209181797463\n",
      "iterazione: 460\t memoria: 831\t esplorazione: 0.09918368135888475\n",
      "iterazione: 461\t memoria: 781\t esplorazione: 0.09868776295209034\n",
      "iterazione: 462\t memoria: 825\t esplorazione: 0.09819432413732988\n",
      "iterazione: 463\t memoria: 864\t esplorazione: 0.09770335251664322\n",
      "iterazione: 464\t memoria: 625\t esplorazione: 0.09721483575406001\n",
      "iterazione: 465\t memoria: 955\t esplorazione: 0.09672876157528972\n",
      "iterazione: 466\t memoria: 808\t esplorazione: 0.09624511776741326\n",
      "iterazione: 467\t memoria: 833\t esplorazione: 0.0957638921785762\n",
      "iterazione: 468\t memoria: 647\t esplorazione: 0.09528507271768331\n",
      "iterazione: 469\t memoria: 747\t esplorazione: 0.0948086473540949\n",
      "iterazione: 470\t memoria: 835\t esplorazione: 0.09433460411732442\n",
      "iterazione: 471\t memoria: 925\t esplorazione: 0.0938629310967378\n",
      "iterazione: 472\t memoria: 833\t esplorazione: 0.09339361644125412\n",
      "iterazione: 473\t memoria: 654\t esplorazione: 0.09292664835904783\n",
      "iterazione: 474\t memoria: 949\t esplorazione: 0.0924620151172526\n",
      "iterazione: 475\t memoria: 953\t esplorazione: 0.09199970504166634\n",
      "iterazione: 476\t memoria: 629\t esplorazione: 0.091539706516458\n",
      "iterazione: 477\t memoria: 941\t esplorazione: 0.09108200798387571\n",
      "iterazione: 478\t memoria: 1113\t esplorazione: 0.09062659794395633\n",
      "iterazione: 479\t memoria: 861\t esplorazione: 0.09017346495423655\n",
      "iterazione: 480\t memoria: 985\t esplorazione: 0.08972259762946537\n",
      "iterazione: 481\t memoria: 981\t esplorazione: 0.08927398464131804\n",
      "iterazione: 482\t memoria: 802\t esplorazione: 0.08882761471811144\n",
      "iterazione: 483\t memoria: 825\t esplorazione: 0.0883834766445209\n",
      "iterazione: 484\t memoria: 1024\t esplorazione: 0.08794155926129829\n",
      "iterazione: 485\t memoria: 985\t esplorazione: 0.0875018514649918\n",
      "iterazione: 486\t memoria: 580\t esplorazione: 0.08706434220766683\n",
      "iterazione: 487\t memoria: 1072\t esplorazione: 0.0866290204966285\n",
      "iterazione: 488\t memoria: 973\t esplorazione: 0.08619587539414536\n",
      "iterazione: 489\t memoria: 903\t esplorazione: 0.08576489601717463\n",
      "iterazione: 490\t memoria: 626\t esplorazione: 0.08533607153708876\n",
      "iterazione: 491\t memoria: 1065\t esplorazione: 0.08490939117940331\n",
      "iterazione: 492\t memoria: 956\t esplorazione: 0.0844848442235063\n",
      "iterazione: 493\t memoria: 943\t esplorazione: 0.08406242000238877\n",
      "iterazione: 494\t memoria: 1464\t esplorazione: 0.08364210790237682\n",
      "iterazione: 495\t memoria: 968\t esplorazione: 0.08322389736286494\n",
      "iterazione: 496\t memoria: 728\t esplorazione: 0.0828077778760506\n",
      "iterazione: 497\t memoria: 832\t esplorazione: 0.08239373898667036\n",
      "iterazione: 498\t memoria: 765\t esplorazione: 0.081981770291737\n",
      "iterazione: 499\t memoria: 797\t esplorazione: 0.08157186144027832\n",
      "iterazione: 500\t memoria: 662\t esplorazione: 0.08116400213307692\n",
      "iterazione: 501\t memoria: 837\t esplorazione: 0.08075818212241154\n",
      "iterazione: 502\t memoria: 931\t esplorazione: 0.08035439121179949\n",
      "iterazione: 503\t memoria: 951\t esplorazione: 0.07995261925574049\n",
      "iterazione: 504\t memoria: 985\t esplorazione: 0.07955285615946178\n",
      "iterazione: 505\t memoria: 790\t esplorazione: 0.07915509187866447\n",
      "iterazione: 506\t memoria: 1325\t esplorazione: 0.07875931641927116\n"
     ]
    },
    {
     "name": "stdout",
     "output_type": "stream",
     "text": [
      "iterazione: 507\t memoria: 422\t esplorazione: 0.0783655198371748\n",
      "iterazione: 508\t memoria: 954\t esplorazione: 0.07797369223798892\n",
      "iterazione: 509\t memoria: 529\t esplorazione: 0.07758382377679898\n",
      "iterazione: 510\t memoria: 1004\t esplorazione: 0.07719590465791498\n",
      "iterazione: 511\t memoria: 668\t esplorazione: 0.07680992513462541\n",
      "iterazione: 512\t memoria: 835\t esplorazione: 0.07642587550895227\n",
      "iterazione: 513\t memoria: 1033\t esplorazione: 0.07604374613140752\n",
      "iterazione: 514\t memoria: 827\t esplorazione: 0.07566352740075048\n",
      "iterazione: 515\t memoria: 992\t esplorazione: 0.07528520976374672\n",
      "iterazione: 516\t memoria: 753\t esplorazione: 0.074908783714928\n",
      "iterazione: 517\t memoria: 902\t esplorazione: 0.07453423979635335\n",
      "iterazione: 518\t memoria: 785\t esplorazione: 0.07416156859737158\n",
      "iterazione: 519\t memoria: 800\t esplorazione: 0.07379076075438473\n",
      "iterazione: 520\t memoria: 1099\t esplorazione: 0.0734218069506128\n",
      "iterazione: 521\t memoria: 807\t esplorazione: 0.07305469791585974\n",
      "iterazione: 522\t memoria: 779\t esplorazione: 0.07268942442628044\n",
      "iterazione: 523\t memoria: 988\t esplorazione: 0.07232597730414904\n",
      "iterazione: 524\t memoria: 971\t esplorazione: 0.07196434741762829\n",
      "iterazione: 525\t memoria: 947\t esplorazione: 0.07160452568054015\n",
      "iterazione: 526\t memoria: 682\t esplorazione: 0.07124650305213745\n",
      "iterazione: 527\t memoria: 793\t esplorazione: 0.07089027053687676\n",
      "iterazione: 528\t memoria: 1119\t esplorazione: 0.07053581918419238\n",
      "iterazione: 529\t memoria: 788\t esplorazione: 0.07018314008827141\n",
      "iterazione: 530\t memoria: 818\t esplorazione: 0.06983222438783006\n",
      "iterazione: 531\t memoria: 857\t esplorazione: 0.0694830632658909\n",
      "iterazione: 532\t memoria: 1127\t esplorazione: 0.06913564794956145\n",
      "iterazione: 533\t memoria: 974\t esplorazione: 0.06878996970981364\n",
      "iterazione: 534\t memoria: 796\t esplorazione: 0.06844601986126457\n",
      "iterazione: 535\t memoria: 743\t esplorazione: 0.06810378976195826\n",
      "iterazione: 536\t memoria: 695\t esplorazione: 0.06776327081314847\n",
      "iterazione: 537\t memoria: 1459\t esplorazione: 0.06742445445908272\n",
      "iterazione: 538\t memoria: 839\t esplorazione: 0.06708733218678731\n",
      "iterazione: 539\t memoria: 1042\t esplorazione: 0.06675189552585337\n",
      "iterazione: 540\t memoria: 838\t esplorazione: 0.06641813604822411\n",
      "iterazione: 541\t memoria: 805\t esplorazione: 0.06608604536798299\n",
      "iterazione: 542\t memoria: 949\t esplorazione: 0.06575561514114306\n",
      "iterazione: 543\t memoria: 990\t esplorazione: 0.06542683706543735\n",
      "iterazione: 544\t memoria: 824\t esplorazione: 0.06509970288011016\n",
      "iterazione: 545\t memoria: 861\t esplorazione: 0.06477420436570962\n",
      "iterazione: 546\t memoria: 826\t esplorazione: 0.06445033334388106\n",
      "iterazione: 547\t memoria: 790\t esplorazione: 0.06412808167716166\n",
      "iterazione: 548\t memoria: 1468\t esplorazione: 0.06380744126877586\n",
      "iterazione: 549\t memoria: 992\t esplorazione: 0.06348840406243197\n",
      "iterazione: 550\t memoria: 755\t esplorazione: 0.0631709620421198\n",
      "iterazione: 551\t memoria: 810\t esplorazione: 0.06285510723190921\n",
      "iterazione: 552\t memoria: 771\t esplorazione: 0.06254083169574966\n",
      "iterazione: 553\t memoria: 1376\t esplorazione: 0.062228127537270916\n",
      "iterazione: 554\t memoria: 377\t esplorazione: 0.06191698689958456\n",
      "iterazione: 555\t memoria: 805\t esplorazione: 0.061607401965086635\n",
      "iterazione: 556\t memoria: 772\t esplorazione: 0.061299364955261205\n",
      "iterazione: 557\t memoria: 853\t esplorazione: 0.0609928681304849\n",
      "iterazione: 558\t memoria: 1044\t esplorazione: 0.06068790378983247\n",
      "iterazione: 559\t memoria: 806\t esplorazione: 0.06038446427088331\n",
      "iterazione: 560\t memoria: 799\t esplorazione: 0.060082541949528896\n",
      "iterazione: 561\t memoria: 857\t esplorazione: 0.05978212923978125\n",
      "iterazione: 562\t memoria: 816\t esplorazione: 0.05948321859358234\n",
      "iterazione: 563\t memoria: 846\t esplorazione: 0.05918580250061443\n",
      "iterazione: 564\t memoria: 938\t esplorazione: 0.05888987348811136\n",
      "iterazione: 565\t memoria: 674\t esplorazione: 0.0585954241206708\n",
      "iterazione: 566\t memoria: 812\t esplorazione: 0.058302447000067446\n",
      "iterazione: 567\t memoria: 929\t esplorazione: 0.05801093476506711\n",
      "iterazione: 568\t memoria: 983\t esplorazione: 0.05772088009124177\n",
      "iterazione: 569\t memoria: 1016\t esplorazione: 0.057432275690785566\n",
      "iterazione: 570\t memoria: 803\t esplorazione: 0.05714511431233164\n",
      "iterazione: 571\t memoria: 794\t esplorazione: 0.05685938874076998\n",
      "iterazione: 572\t memoria: 801\t esplorazione: 0.05657509179706613\n",
      "iterazione: 573\t memoria: 746\t esplorazione: 0.0562922163380808\n",
      "iterazione: 574\t memoria: 892\t esplorazione: 0.05601075525639039\n",
      "iterazione: 575\t memoria: 660\t esplorazione: 0.05573070148010844\n",
      "iterazione: 576\t memoria: 798\t esplorazione: 0.0554520479727079\n",
      "iterazione: 577\t memoria: 1076\t esplorazione: 0.05517478773284436\n",
      "iterazione: 578\t memoria: 950\t esplorazione: 0.05489891379418014\n",
      "iterazione: 579\t memoria: 828\t esplorazione: 0.054624419225209234\n",
      "iterazione: 580\t memoria: 1011\t esplorazione: 0.05435129712908319\n",
      "iterazione: 581\t memoria: 863\t esplorazione: 0.05407954064343777\n",
      "iterazione: 582\t memoria: 1000\t esplorazione: 0.053809142940220586\n",
      "iterazione: 583\t memoria: 879\t esplorazione: 0.05354009722551948\n",
      "iterazione: 584\t memoria: 802\t esplorazione: 0.05327239673939188\n",
      "iterazione: 585\t memoria: 781\t esplorazione: 0.053006034755694924\n",
      "iterazione: 586\t memoria: 959\t esplorazione: 0.05274100458191645\n",
      "iterazione: 587\t memoria: 793\t esplorazione: 0.05247729955900687\n",
      "iterazione: 588\t memoria: 825\t esplorazione: 0.05221491306121183\n",
      "iterazione: 589\t memoria: 842\t esplorazione: 0.05195383849590577\n",
      "iterazione: 590\t memoria: 810\t esplorazione: 0.051694069303426245\n",
      "iterazione: 591\t memoria: 821\t esplorazione: 0.051435598956909113\n",
      "iterazione: 592\t memoria: 949\t esplorazione: 0.05117842096212456\n",
      "iterazione: 593\t memoria: 748\t esplorazione: 0.050922528857313944\n",
      "iterazione: 594\t memoria: 1411\t esplorazione: 0.050667916213027374\n",
      "iterazione: 595\t memoria: 785\t esplorazione: 0.050414576631962235\n",
      "iterazione: 596\t memoria: 881\t esplorazione: 0.05016250374880243\n",
      "iterazione: 597\t memoria: 851\t esplorazione: 0.04991169123005841\n",
      "iterazione: 598\t memoria: 841\t esplorazione: 0.049662132773908116\n",
      "iterazione: 599\t memoria: 771\t esplorazione: 0.04941382211003858\n",
      "iterazione: 600\t memoria: 763\t esplorazione: 0.04916675299948838\n",
      "iterazione: 601\t memoria: 983\t esplorazione: 0.04892091923449094\n",
      "iterazione: 602\t memoria: 943\t esplorazione: 0.04867631463831849\n",
      "iterazione: 603\t memoria: 1009\t esplorazione: 0.048432933065126894\n",
      "iterazione: 604\t memoria: 957\t esplorazione: 0.04819076839980126\n",
      "iterazione: 605\t memoria: 1357\t esplorazione: 0.047949814557802256\n",
      "iterazione: 606\t memoria: 976\t esplorazione: 0.04771006548501324\n",
      "iterazione: 607\t memoria: 797\t esplorazione: 0.04747151515758818\n",
      "iterazione: 608\t memoria: 811\t esplorazione: 0.04723415758180023\n",
      "iterazione: 609\t memoria: 792\t esplorazione: 0.046997986793891236\n",
      "iterazione: 610\t memoria: 838\t esplorazione: 0.04676299685992178\n",
      "iterazione: 611\t memoria: 839\t esplorazione: 0.04652918187562217\n",
      "iterazione: 612\t memoria: 551\t esplorazione: 0.04629653596624406\n",
      "iterazione: 613\t memoria: 831\t esplorazione: 0.04606505328641284\n",
      "iterazione: 614\t memoria: 836\t esplorazione: 0.04583472801998077\n",
      "iterazione: 615\t memoria: 1075\t esplorazione: 0.04560555437988087\n",
      "iterazione: 616\t memoria: 1425\t esplorazione: 0.045377526607981465\n",
      "iterazione: 617\t memoria: 860\t esplorazione: 0.04515063897494156\n",
      "iterazione: 618\t memoria: 828\t esplorazione: 0.04492488578006685\n",
      "iterazione: 619\t memoria: 991\t esplorazione: 0.04470026135116651\n",
      "iterazione: 620\t memoria: 841\t esplorazione: 0.04447676004441068\n",
      "iterazione: 621\t memoria: 1435\t esplorazione: 0.044254376244188626\n",
      "iterazione: 622\t memoria: 980\t esplorazione: 0.04403310436296769\n",
      "iterazione: 623\t memoria: 957\t esplorazione: 0.043812938841152844\n",
      "iterazione: 624\t memoria: 903\t esplorazione: 0.043593874146947084\n",
      "iterazione: 625\t memoria: 960\t esplorazione: 0.043375904776212344\n",
      "iterazione: 626\t memoria: 955\t esplorazione: 0.043159025252331285\n",
      "iterazione: 627\t memoria: 784\t esplorazione: 0.042943230126069626\n",
      "iterazione: 628\t memoria: 830\t esplorazione: 0.04272851397543928\n",
      "iterazione: 629\t memoria: 985\t esplorazione: 0.04251487140556208\n",
      "iterazione: 630\t memoria: 841\t esplorazione: 0.04230229704853427\n",
      "iterazione: 631\t memoria: 872\t esplorazione: 0.0420907855632916\n",
      "iterazione: 632\t memoria: 794\t esplorazione: 0.041880331635475145\n"
     ]
    },
    {
     "name": "stdout",
     "output_type": "stream",
     "text": [
      "iterazione: 633\t memoria: 782\t esplorazione: 0.041670929977297766\n",
      "iterazione: 634\t memoria: 835\t esplorazione: 0.04146257532741128\n",
      "iterazione: 635\t memoria: 1383\t esplorazione: 0.04125526245077422\n",
      "iterazione: 636\t memoria: 931\t esplorazione: 0.04104898613852035\n",
      "iterazione: 637\t memoria: 973\t esplorazione: 0.040843741207827744\n",
      "iterazione: 638\t memoria: 938\t esplorazione: 0.04063952250178861\n",
      "iterazione: 639\t memoria: 857\t esplorazione: 0.040436324889279666\n",
      "iterazione: 640\t memoria: 806\t esplorazione: 0.040234143264833266\n",
      "iterazione: 641\t memoria: 866\t esplorazione: 0.0400329725485091\n",
      "iterazione: 642\t memoria: 821\t esplorazione: 0.03983280768576655\n",
      "iterazione: 643\t memoria: 617\t esplorazione: 0.03963364364733772\n",
      "iterazione: 644\t memoria: 832\t esplorazione: 0.03943547542910103\n",
      "iterazione: 645\t memoria: 1040\t esplorazione: 0.03923829805195553\n",
      "iterazione: 646\t memoria: 1075\t esplorazione: 0.03904210656169575\n",
      "iterazione: 647\t memoria: 797\t esplorazione: 0.03884689602888727\n",
      "iterazione: 648\t memoria: 790\t esplorazione: 0.038652661548742834\n",
      "iterazione: 649\t memoria: 1004\t esplorazione: 0.03845939824099912\n",
      "iterazione: 650\t memoria: 889\t esplorazione: 0.03826710124979412\n",
      "iterazione: 651\t memoria: 610\t esplorazione: 0.038075765743545154\n",
      "iterazione: 652\t memoria: 1293\t esplorazione: 0.03788538691482743\n",
      "iterazione: 653\t memoria: 1060\t esplorazione: 0.03769595998025329\n",
      "iterazione: 654\t memoria: 855\t esplorazione: 0.03750748018035202\n",
      "iterazione: 655\t memoria: 985\t esplorazione: 0.03731994277945026\n",
      "iterazione: 656\t memoria: 1462\t esplorazione: 0.037133343065553014\n",
      "iterazione: 657\t memoria: 947\t esplorazione: 0.03694767635022524\n",
      "iterazione: 658\t memoria: 808\t esplorazione: 0.03676293796847412\n",
      "iterazione: 659\t memoria: 886\t esplorazione: 0.03657912327863175\n",
      "iterazione: 660\t memoria: 950\t esplorazione: 0.036396227662238594\n",
      "iterazione: 661\t memoria: 955\t esplorazione: 0.0362142465239274\n",
      "iterazione: 662\t memoria: 998\t esplorazione: 0.03603317529130776\n",
      "iterazione: 663\t memoria: 857\t esplorazione: 0.03585300941485122\n",
      "iterazione: 664\t memoria: 839\t esplorazione: 0.03567374436777696\n",
      "iterazione: 665\t memoria: 794\t esplorazione: 0.035495375645938076\n",
      "iterazione: 666\t memoria: 624\t esplorazione: 0.03531789876770839\n",
      "iterazione: 667\t memoria: 812\t esplorazione: 0.035141309273869846\n",
      "iterazione: 668\t memoria: 875\t esplorazione: 0.034965602727500496\n",
      "iterazione: 669\t memoria: 802\t esplorazione: 0.03479077471386299\n",
      "iterazione: 670\t memoria: 953\t esplorazione: 0.03461682084029368\n",
      "iterazione: 671\t memoria: 873\t esplorazione: 0.03444373673609221\n",
      "iterazione: 672\t memoria: 795\t esplorazione: 0.03427151805241175\n",
      "iterazione: 673\t memoria: 844\t esplorazione: 0.03410016046214969\n",
      "iterazione: 674\t memoria: 850\t esplorazione: 0.03392965965983894\n",
      "iterazione: 675\t memoria: 812\t esplorazione: 0.03376001136153975\n",
      "iterazione: 676\t memoria: 865\t esplorazione: 0.03359121130473205\n",
      "iterazione: 677\t memoria: 914\t esplorazione: 0.03342325524820839\n",
      "iterazione: 678\t memoria: 1558\t esplorazione: 0.033256138971967344\n",
      "iterazione: 679\t memoria: 961\t esplorazione: 0.03308985827710751\n",
      "iterazione: 680\t memoria: 1021\t esplorazione: 0.03292440898572197\n",
      "iterazione: 681\t memoria: 949\t esplorazione: 0.03275978694079336\n",
      "iterazione: 682\t memoria: 840\t esplorazione: 0.03259598800608939\n",
      "iterazione: 683\t memoria: 944\t esplorazione: 0.03243300806605895\n",
      "iterazione: 684\t memoria: 837\t esplorazione: 0.032270843025728656\n",
      "iterazione: 685\t memoria: 815\t esplorazione: 0.03210948881060001\n",
      "iterazione: 686\t memoria: 788\t esplorazione: 0.03194894136654701\n",
      "iterazione: 687\t memoria: 825\t esplorazione: 0.031789196659714275\n",
      "iterazione: 688\t memoria: 980\t esplorazione: 0.0316302506764157\n",
      "iterazione: 689\t memoria: 1074\t esplorazione: 0.031472099423033625\n",
      "iterazione: 690\t memoria: 790\t esplorazione: 0.031314738925918455\n",
      "iterazione: 691\t memoria: 889\t esplorazione: 0.031158165231288865\n",
      "iterazione: 692\t memoria: 804\t esplorazione: 0.03100237440513242\n",
      "iterazione: 693\t memoria: 807\t esplorazione: 0.030847362533106756\n",
      "iterazione: 694\t memoria: 846\t esplorazione: 0.030693125720441222\n",
      "iterazione: 695\t memoria: 972\t esplorazione: 0.030539660091839015\n",
      "iterazione: 696\t memoria: 1416\t esplorazione: 0.03038696179137982\n",
      "iterazione: 697\t memoria: 804\t esplorazione: 0.030235026982422922\n",
      "iterazione: 698\t memoria: 841\t esplorazione: 0.030083851847510806\n",
      "iterazione: 699\t memoria: 1001\t esplorazione: 0.029933432588273252\n",
      "iterazione: 700\t memoria: 603\t esplorazione: 0.029783765425331888\n",
      "iterazione: 701\t memoria: 989\t esplorazione: 0.029634846598205228\n",
      "iterazione: 702\t memoria: 813\t esplorazione: 0.0294866723652142\n",
      "iterazione: 703\t memoria: 945\t esplorazione: 0.02933923900338813\n",
      "iterazione: 704\t memoria: 835\t esplorazione: 0.029192542808371188\n",
      "iterazione: 705\t memoria: 1016\t esplorazione: 0.02904658009432933\n",
      "iterazione: 706\t memoria: 859\t esplorazione: 0.028901347193857688\n",
      "iterazione: 707\t memoria: 835\t esplorazione: 0.028756840457888396\n",
      "iterazione: 708\t memoria: 837\t esplorazione: 0.028613056255598956\n",
      "iterazione: 709\t memoria: 967\t esplorazione: 0.02846999097432096\n",
      "iterazione: 710\t memoria: 816\t esplorazione: 0.028327641019449356\n",
      "iterazione: 711\t memoria: 879\t esplorazione: 0.028186002814352108\n",
      "iterazione: 712\t memoria: 756\t esplorazione: 0.028045072800280346\n",
      "iterazione: 713\t memoria: 987\t esplorazione: 0.027904847436278947\n",
      "iterazione: 714\t memoria: 836\t esplorazione: 0.027765323199097552\n",
      "iterazione: 715\t memoria: 979\t esplorazione: 0.027626496583102064\n",
      "iterazione: 716\t memoria: 1088\t esplorazione: 0.02748836410018655\n",
      "iterazione: 717\t memoria: 1457\t esplorazione: 0.02735092227968562\n",
      "iterazione: 718\t memoria: 972\t esplorazione: 0.02721416766828719\n",
      "iterazione: 719\t memoria: 843\t esplorazione: 0.027078096829945757\n"
     ]
    }
   ],
   "source": [
    "for i in range(10000):\n",
    "    train(mem , dqn)\n",
    "    iteration(env,dqn,mem)\n",
    "    env.close()\n",
    "    print(f\"iterazione: {mem.iteration}\\t memoria: { len(mem.memory)}\\t esplorazione: {(0.995)**(mem.iteration+1)}\")\n",
    "    #print(\"memoria\" , len(mem.memory))\n",
    "    #print(\"esplorazione\" ,(0.995)**(mem.iteration+1))"
   ]
  },
  {
   "cell_type": "code",
   "execution_count": 32,
   "metadata": {},
   "outputs": [],
   "source": [
    "def play_network(env , model):\n",
    "    env.reset()\n",
    "    o,r,d,i = env.step(0)\n",
    "    env.render()\n",
    "    processed_state = preprocess(o)\n",
    "    processed_state = processed_state.reshape((1,90,80,1))\n",
    "    for i in range(10000):\n",
    "        ac = np.argmax(model.policy_net.predict(processed_state))\n",
    "        next_state,reward,done,info = env.step(ac)\n",
    "        if done:\n",
    "            break\n",
    "        env.render() "
   ]
  },
  {
   "cell_type": "code",
   "execution_count": 34,
   "metadata": {},
   "outputs": [],
   "source": [
    "play_network(env , dqn)"
   ]
  },
  {
   "cell_type": "code",
   "execution_count": 56,
   "metadata": {},
   "outputs": [],
   "source": [
    "env.close()"
   ]
  },
  {
   "cell_type": "code",
   "execution_count": null,
   "metadata": {},
   "outputs": [],
   "source": [
    "#salviamo la rete\n",
    "dqn.policy_net.save(\"modello_prova.h5\")"
   ]
  },
  {
   "cell_type": "code",
   "execution_count": null,
   "metadata": {},
   "outputs": [],
   "source": [
    "plt.imshow(mem.memory[540][0].reshape((90,80)))"
   ]
  },
  {
   "cell_type": "code",
   "execution_count": null,
   "metadata": {},
   "outputs": [],
   "source": []
  }
 ],
 "metadata": {
  "kernelspec": {
   "display_name": "Python 3",
   "language": "python",
   "name": "python3"
  }
 },
 "nbformat": 4,
 "nbformat_minor": 2
}
