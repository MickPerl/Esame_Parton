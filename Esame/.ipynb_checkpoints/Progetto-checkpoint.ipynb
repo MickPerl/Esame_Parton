{
 "cells": [
  {
   "cell_type": "code",
<<<<<<< HEAD
<<<<<<< HEAD
   "execution_count": 8,
=======
   "execution_count": 16,
>>>>>>> bb40a967184facb6f8e5648ec288378b3f7372aa
=======
   "execution_count": 16,
>>>>>>> bb40a967184facb6f8e5648ec288378b3f7372aa
   "metadata": {},
   "outputs": [],
   "source": [
    "import gym"
   ]
  },
  {
   "cell_type": "code",
<<<<<<< HEAD
<<<<<<< HEAD
   "execution_count": 9,
=======
   "execution_count": 17,
>>>>>>> bb40a967184facb6f8e5648ec288378b3f7372aa
=======
   "execution_count": 17,
>>>>>>> bb40a967184facb6f8e5648ec288378b3f7372aa
   "metadata": {},
   "outputs": [],
   "source": [
    "env = gym.make('SpaceInvaders-v0')"
   ]
  },
  {
   "cell_type": "code",
<<<<<<< HEAD
<<<<<<< HEAD
   "execution_count": 10,
=======
   "execution_count": 18,
>>>>>>> bb40a967184facb6f8e5648ec288378b3f7372aa
=======
   "execution_count": 18,
>>>>>>> bb40a967184facb6f8e5648ec288378b3f7372aa
   "metadata": {},
   "outputs": [
    {
     "data": {
      "text/plain": [
       "True"
      ]
     },
<<<<<<< HEAD
<<<<<<< HEAD
     "execution_count": 10,
=======
     "execution_count": 18,
>>>>>>> bb40a967184facb6f8e5648ec288378b3f7372aa
=======
     "execution_count": 18,
>>>>>>> bb40a967184facb6f8e5648ec288378b3f7372aa
     "metadata": {},
     "output_type": "execute_result"
    }
   ],
   "source": [
    "env.reset()\n",
    "env.render()"
   ]
  },
  {
   "cell_type": "code",
<<<<<<< HEAD
<<<<<<< HEAD
   "execution_count": 11,
   "metadata": {},
   "outputs": [],
   "source": [
    "for t in range(10000):\n",
=======
=======
>>>>>>> bb40a967184facb6f8e5648ec288378b3f7372aa
   "execution_count": null,
   "metadata": {},
   "outputs": [],
   "source": [
    "for t in range(10000000):\n",
<<<<<<< HEAD
>>>>>>> bb40a967184facb6f8e5648ec288378b3f7372aa
=======
>>>>>>> bb40a967184facb6f8e5648ec288378b3f7372aa
    "    env.render()\n",
    "    ac =env.action_space.sample()\n",
    "    o,r,d,i = env.step(ac)\n",
    "    if d:\n",
    "        env.reset()\n",
    "env.close()"
   ]
  },
  {
   "cell_type": "code",
<<<<<<< HEAD
<<<<<<< HEAD
   "execution_count": 7,
=======
   "execution_count": null,
>>>>>>> bb40a967184facb6f8e5648ec288378b3f7372aa
=======
   "execution_count": null,
>>>>>>> bb40a967184facb6f8e5648ec288378b3f7372aa
   "metadata": {},
   "outputs": [],
   "source": [
    "env.close()"
   ]
<<<<<<< HEAD
<<<<<<< HEAD
  },
  {
   "cell_type": "code",
   "execution_count": null,
   "metadata": {},
   "outputs": [],
   "source": []
=======
>>>>>>> bb40a967184facb6f8e5648ec288378b3f7372aa
=======
>>>>>>> bb40a967184facb6f8e5648ec288378b3f7372aa
  }
 ],
 "metadata": {
  "kernelspec": {
   "display_name": "Python 3",
   "language": "python",
   "name": "python3"
  },
  "language_info": {
   "codemirror_mode": {
    "name": "ipython",
    "version": 3
   },
   "file_extension": ".py",
   "mimetype": "text/x-python",
   "name": "python",
   "nbconvert_exporter": "python",
   "pygments_lexer": "ipython3",
   "version": "3.7.4"
  }
 },
 "nbformat": 4,
 "nbformat_minor": 2
}
