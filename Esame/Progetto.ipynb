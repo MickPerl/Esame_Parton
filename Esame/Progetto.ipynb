{
 "cells": [
  {
   "cell_type": "markdown",
   "metadata": {},
   "source": [
    "Importiamo tutte le librerie che ci interessano"
   ]
  },
  {
   "cell_type": "code",
   "execution_count": 2,
   "metadata": {},
   "outputs": [
    {
     "name": "stderr",
     "output_type": "stream",
     "text": [
      "Using TensorFlow backend.\n"
     ]
    }
   ],
   "source": [
    "import gym\n",
    "import random\n",
    "import numpy as np\n",
    "from keras.layers import Input, Conv2D, Dense, MaxPooling2D , Flatten\n",
    "from keras.models import Model, Sequential, load_model\n",
    "from collections import deque\n",
    "from keras.optimizers import Adam\n",
    "import keras\n",
    "import matplotlib.pyplot as plt"
   ]
  },
  {
   "cell_type": "markdown",
   "metadata": {},
   "source": [
    "Creo l'ambiente SpaceInvaders-vo"
   ]
  },
  {
   "cell_type": "code",
   "execution_count": 3,
   "metadata": {},
   "outputs": [],
   "source": [
    "env = gym.make('SpaceInvaders-v0')"
   ]
  },
  {
   "cell_type": "markdown",
   "metadata": {},
   "source": [
    "Creiamo la nostra rete neurale"
   ]
  },
  {
   "cell_type": "code",
   "execution_count": 5,
   "metadata": {},
   "outputs": [],
   "source": [
    "class DQN:\n",
    "    def __init__(self, input_shape, output_shape, discount=0.99, update_target_every=10, memory_size=2000):\n",
    "        self.input_shape=input_shape\n",
    "        self.output_shape=output_shape\n",
    "        self.discount=discount\n",
    "        self.update_target_every=update_target_every\n",
    "        self.policy_net=self.create_model()\n",
    "        self.memory=deque(maxlen=memory_size)\n",
    "        self.target_counter=0 \n",
    "    \n",
    "    def create_model(self):\n",
    "        model=Sequential()\n",
    "        model.add(Conv2D(input_shape=self.input_shape, filters=16, kernel_size=(8,8), strides=(4,4), padding=\"valid\", \n",
    "                        activation=\"relu\", use_bias=True,))\n",
    "        model.add(Conv2D(filters=16, kernel_size=(4,4), strides=(2,2), padding=\"valid\", \n",
    "                       activation=\"relu\", use_bias=True,))\n",
    "        #model.add(Conv2D(filters=32, kernel_size=(2,2), padding=\"valid\", \n",
    "        #                activation=\"relu\", use_bias=True,))\n",
    "        model.add(Flatten())\n",
    "        model.add(Dense(128, activation=\"relu\"))\n",
    "        model.add(Dense(self.output_shape)) # era softmax\n",
    "        adm=Adam(lr=0.001, beta_1=0.9, beta_2=0.999, amsgrad=False)\n",
    "        model.compile(loss=\"mse\", optimizer=adm, metrics=[\"accuracy\"] )\n",
    "        return model        "
   ]
  },
  {
   "cell_type": "markdown",
   "metadata": {},
   "source": [
    "Definiamo tre metodi per preprocessare la nostra immagine croppandola e portandola ad una scala di grigi"
   ]
  },
  {
   "cell_type": "code",
   "execution_count": 6,
   "metadata": {},
   "outputs": [],
   "source": [
    "def to_greyscale(img):\n",
    "        return np.mean(img , axis=2).astype(np.uint8)"
   ]
  },
  {
   "cell_type": "code",
   "execution_count": 7,
   "metadata": {},
   "outputs": [],
   "source": [
    "def downsample(img):\n",
    "        return img[::2 , ::2]"
   ]
  },
  {
   "cell_type": "code",
   "execution_count": 8,
   "metadata": {},
   "outputs": [],
   "source": [
    "def crop(img):\n",
    "    return img[10:100 ,:]"
   ]
  },
  {
   "cell_type": "code",
   "execution_count": 9,
   "metadata": {},
   "outputs": [
    {
     "ename": "NameError",
     "evalue": "name 'preprocess' is not defined",
     "output_type": "error",
     "traceback": [
      "\u001b[1;31m---------------------------------------------------------------------------\u001b[0m",
      "\u001b[1;31mNameError\u001b[0m                                 Traceback (most recent call last)",
      "\u001b[1;32m<ipython-input-9-1f4bc6d4d3ad>\u001b[0m in \u001b[0;36m<module>\u001b[1;34m\u001b[0m\n\u001b[0;32m      1\u001b[0m \u001b[0mimg\u001b[0m \u001b[1;33m=\u001b[0m \u001b[0menv\u001b[0m\u001b[1;33m.\u001b[0m\u001b[0mreset\u001b[0m\u001b[1;33m(\u001b[0m\u001b[1;33m)\u001b[0m\u001b[1;33m\u001b[0m\u001b[1;33m\u001b[0m\u001b[0m\n\u001b[1;32m----> 2\u001b[1;33m \u001b[0mplt\u001b[0m\u001b[1;33m.\u001b[0m\u001b[0mimshow\u001b[0m\u001b[1;33m(\u001b[0m\u001b[0mpreprocess\u001b[0m\u001b[1;33m(\u001b[0m\u001b[0mimg\u001b[0m\u001b[1;33m)\u001b[0m\u001b[1;33m)\u001b[0m\u001b[1;33m\u001b[0m\u001b[1;33m\u001b[0m\u001b[0m\n\u001b[0m\u001b[0;32m      3\u001b[0m \u001b[1;31m#print(preprocess(img).shape)\u001b[0m\u001b[1;33m\u001b[0m\u001b[1;33m\u001b[0m\u001b[1;33m\u001b[0m\u001b[0m\n",
      "\u001b[1;31mNameError\u001b[0m: name 'preprocess' is not defined"
     ]
    }
   ],
   "source": [
    "img = env.reset()\n",
    "plt.imshow(preprocess(img))\n",
    "#print(preprocess(img).shape)"
   ]
  },
  {
   "cell_type": "code",
   "execution_count": null,
   "metadata": {
    "scrolled": true
   },
   "outputs": [],
   "source": [
    "plt.imshow(to_greyscale(downsample(img)))"
   ]
  },
  {
   "cell_type": "code",
   "execution_count": 20,
   "metadata": {},
   "outputs": [],
   "source": [
    "def preprocess(img):\n",
    "        return crop(to_greyscale(downsample(img)))/255"
   ]
  },
  {
   "cell_type": "markdown",
   "metadata": {},
   "source": [
    "Definiamo un metodo per trasformare ogni ricompensa in (-1, 0, +1)"
   ]
  },
  {
   "cell_type": "code",
   "execution_count": null,
   "metadata": {},
   "outputs": [],
   "source": [
    "def transform_reward(reward):\n",
    "    return np.sign(reward)"
   ]
  },
  {
   "cell_type": "markdown",
   "metadata": {},
   "source": []
  },
  {
   "cell_type": "code",
   "execution_count": 13,
   "metadata": {},
   "outputs": [],
   "source": [
    "class Memory:\n",
    "    def __init__(self , memory = [] , maxsize = 10000):\n",
    "            self.iteration = 0\n",
    "            self.memory = memory\n",
    "            self.maxsize = maxsize"
   ]
  },
  {
   "cell_type": "markdown",
   "metadata": {},
   "source": []
  },
  {
   "cell_type": "code",
   "execution_count": 14,
   "metadata": {},
   "outputs": [],
   "source": [
    "def iteration(env  , model  , mem):\n",
    "    env.reset()\n",
    "    epsilon =  (0.995)**(mem.iteration)\n",
    "    o,r,d,i = env.step(0)\n",
    "    env.render()\n",
    "    processed_state = preprocess(o)\n",
    "    processed_state = processed_state.reshape((1,90,80,1))\n",
    "    mem.memory = []\n",
    "    for i in range(mem.maxsize):\n",
    "        if  random.random() < epsilon:\n",
    "            ac = env.action_space.sample()\n",
    "        else:\n",
    "            ac = np.argmax(model.policy_net.predict(processed_state))\n",
    "        next_state,reward,done,info = env.step(ac)\n",
    "        if done:\n",
    "            next_processed_state = preprocess(next_state)\n",
    "            next_processed_state = next_processed_state.reshape((1,90,80,1))\n",
    "            mem.memory.append((processed_state,ac  , next_processed_state , reward, done ))\n",
    "            break\n",
    "        env.render()\n",
    "        next_processed_state = preprocess(next_state)\n",
    "        next_processed_state = next_processed_state.reshape((1,90,80,1))\n",
    "        mem.memory.append((processed_state,ac  , next_processed_state , reward, done ))\n",
    "        processed_state=next_processed_state\n",
    "    mem.iteration=mem.iteration+1   "
   ]
  },
  {
   "cell_type": "code",
   "execution_count": 15,
   "metadata": {},
   "outputs": [
    {
     "name": "stdout",
     "output_type": "stream",
     "text": [
      "WARNING:tensorflow:From D:\\Anaconda\\lib\\site-packages\\keras\\backend\\tensorflow_backend.py:74: The name tf.get_default_graph is deprecated. Please use tf.compat.v1.get_default_graph instead.\n",
      "\n",
      "WARNING:tensorflow:From D:\\Anaconda\\lib\\site-packages\\keras\\backend\\tensorflow_backend.py:517: The name tf.placeholder is deprecated. Please use tf.compat.v1.placeholder instead.\n",
      "\n",
      "WARNING:tensorflow:From D:\\Anaconda\\lib\\site-packages\\keras\\backend\\tensorflow_backend.py:4138: The name tf.random_uniform is deprecated. Please use tf.random.uniform instead.\n",
      "\n",
      "WARNING:tensorflow:From D:\\Anaconda\\lib\\site-packages\\keras\\optimizers.py:790: The name tf.train.Optimizer is deprecated. Please use tf.compat.v1.train.Optimizer instead.\n",
      "\n"
     ]
    }
   ],
   "source": [
    "mem = Memory()\n",
    "dqn = DQN((90,80,1),6)"
   ]
  },
  {
   "cell_type": "code",
   "execution_count": 16,
   "metadata": {},
   "outputs": [
    {
     "name": "stdout",
     "output_type": "stream",
     "text": [
      "_________________________________________________________________\n",
      "Layer (type)                 Output Shape              Param #   \n",
      "=================================================================\n",
      "conv2d_1 (Conv2D)            (None, 21, 19, 16)        1040      \n",
      "_________________________________________________________________\n",
      "conv2d_2 (Conv2D)            (None, 9, 8, 16)          4112      \n",
      "_________________________________________________________________\n",
      "flatten_1 (Flatten)          (None, 1152)              0         \n",
      "_________________________________________________________________\n",
      "dense_1 (Dense)              (None, 128)               147584    \n",
      "_________________________________________________________________\n",
      "dense_2 (Dense)              (None, 6)                 774       \n",
      "=================================================================\n",
      "Total params: 153,510\n",
      "Trainable params: 153,510\n",
      "Non-trainable params: 0\n",
      "_________________________________________________________________\n"
     ]
    }
   ],
   "source": [
    "dqn.policy_net.summary()"
   ]
  },
  {
   "cell_type": "code",
   "execution_count": 10,
   "metadata": {},
   "outputs": [
    {
     "ename": "NameError",
     "evalue": "name 'iteration' is not defined",
     "output_type": "error",
     "traceback": [
      "\u001b[1;31m---------------------------------------------------------------------------\u001b[0m",
      "\u001b[1;31mNameError\u001b[0m                                 Traceback (most recent call last)",
      "\u001b[1;32m<ipython-input-10-b1671e62f501>\u001b[0m in \u001b[0;36m<module>\u001b[1;34m\u001b[0m\n\u001b[1;32m----> 1\u001b[1;33m \u001b[0miteration\u001b[0m\u001b[1;33m(\u001b[0m\u001b[0menv\u001b[0m \u001b[1;33m,\u001b[0m \u001b[0mdqn\u001b[0m \u001b[1;33m,\u001b[0m \u001b[0mmem\u001b[0m\u001b[1;33m)\u001b[0m\u001b[1;33m\u001b[0m\u001b[1;33m\u001b[0m\u001b[0m\n\u001b[0m",
      "\u001b[1;31mNameError\u001b[0m: name 'iteration' is not defined"
     ]
    }
   ],
   "source": [
    "iteration(env , dqn , mem)"
   ]
  },
  {
   "cell_type": "code",
   "execution_count": null,
   "metadata": {},
   "outputs": [],
   "source": [
    "env.close()"
   ]
  },
  {
   "cell_type": "code",
   "execution_count": null,
   "metadata": {},
   "outputs": [],
   "source": [
    "len(mem.memory)"
   ]
  },
  {
   "cell_type": "code",
   "execution_count": null,
   "metadata": {},
   "outputs": [],
   "source": [
    "iteration(env , dqn , mem)"
   ]
  },
  {
   "cell_type": "code",
   "execution_count": null,
   "metadata": {},
   "outputs": [],
   "source": [
    "len(mem.memory)"
   ]
  },
  {
   "cell_type": "code",
   "execution_count": null,
   "metadata": {},
   "outputs": [],
   "source": [
    "mem.iteration"
   ]
  },
  {
   "cell_type": "code",
   "execution_count": null,
   "metadata": {},
   "outputs": [],
   "source": [
    "dqn.policy_net.predict(mem.memory[0][0])"
   ]
  },
  {
   "cell_type": "code",
   "execution_count": null,
   "metadata": {},
   "outputs": [],
   "source": [
    "for index, _  in enumerate(mem.memory):\n",
    "    print(index , dqn.policy_net.predict(mem.memory[index][0]))"
   ]
  },
  {
   "cell_type": "code",
   "execution_count": null,
   "metadata": {},
   "outputs": [],
   "source": [
    "for index, _  in enumerate(mem.memory):\n",
    "    print(index ,mem.memory[index][3])"
   ]
  },
  {
   "cell_type": "code",
   "execution_count": null,
   "metadata": {},
   "outputs": [],
   "source": [
    "env.close()"
   ]
  },
  {
   "cell_type": "code",
   "execution_count": 17,
   "metadata": {},
   "outputs": [],
   "source": [
    "def train ( mem , model,gamma = 0.99 ):\n",
    "    i=0\n",
    "    for state , action , next_state , reward ,done in mem.memory:\n",
    "        i+=1\n",
    "        if i >44:\n",
    "            #rewards = np.zeros(6)\n",
    "            #rewards[action]=reward\n",
    "            #q_values = np.zeros(6)\n",
    "            #q_values[best]=1\n",
    "            #target = rewards+ (  gamma * q_values)\n",
    "            #target = target.reshape(1,6)\n",
    "            target =model.policy_net.predict(state)[0]\n",
    "            if not done:\n",
    "                #best = np.argmax(model.policy_net.predict(next_state))\n",
    "                target[action]= reward + gamma* np.max(model.policy_net.predict(next_state)[0])\n",
    "            else:\n",
    "                target[action]= 0\n",
    "            target =target.reshape(1,6)\n",
    "            model.policy_net.fit(state , target , verbose=0)"
   ]
  },
  {
   "cell_type": "code",
   "execution_count": 18,
   "metadata": {},
   "outputs": [],
   "source": [
    "train(mem , dqn)"
   ]
  },
  {
   "cell_type": "code",
   "execution_count": 21,
   "metadata": {},
   "outputs": [],
   "source": [
    "iteration(env,dqn,mem)\n",
    "env.close()"
   ]
  },
  {
   "cell_type": "code",
   "execution_count": 22,
   "metadata": {},
   "outputs": [
    {
     "data": {
      "text/plain": [
       "353"
      ]
     },
     "execution_count": 22,
     "metadata": {},
     "output_type": "execute_result"
    }
   ],
   "source": [
    "len(mem.memory)"
   ]
  },
  {
   "cell_type": "code",
   "execution_count": 23,
   "metadata": {},
   "outputs": [],
   "source": [
    "mem = Memory()\n",
    "dqn = DQN((90,80,1),6)"
   ]
  },
  {
   "cell_type": "code",
   "execution_count": null,
   "metadata": {},
   "outputs": [
    {
     "name": "stdout",
     "output_type": "stream",
     "text": [
      "iterazione: 1\t memoria: 419\t esplorazione: 0.990025\n",
      "WARNING:tensorflow:From D:\\Anaconda\\lib\\site-packages\\keras\\backend\\tensorflow_backend.py:2741: The name tf.Session is deprecated. Please use tf.compat.v1.Session instead.\n",
      "\n",
      "WARNING:tensorflow:From D:\\Anaconda\\lib\\site-packages\\keras\\backend\\tensorflow_backend.py:174: The name tf.get_default_session is deprecated. Please use tf.compat.v1.get_default_session instead.\n",
      "\n",
      "WARNING:tensorflow:From D:\\Anaconda\\lib\\site-packages\\keras\\backend\\tensorflow_backend.py:181: The name tf.ConfigProto is deprecated. Please use tf.compat.v1.ConfigProto instead.\n",
      "\n",
      "WARNING:tensorflow:From D:\\Anaconda\\lib\\site-packages\\keras\\backend\\tensorflow_backend.py:190: The name tf.global_variables is deprecated. Please use tf.compat.v1.global_variables instead.\n",
      "\n",
      "WARNING:tensorflow:From D:\\Anaconda\\lib\\site-packages\\keras\\backend\\tensorflow_backend.py:199: The name tf.is_variable_initialized is deprecated. Please use tf.compat.v1.is_variable_initialized instead.\n",
      "\n",
      "WARNING:tensorflow:From D:\\Anaconda\\lib\\site-packages\\keras\\backend\\tensorflow_backend.py:206: The name tf.variables_initializer is deprecated. Please use tf.compat.v1.variables_initializer instead.\n",
      "\n",
      "WARNING:tensorflow:From D:\\Anaconda\\lib\\site-packages\\keras\\backend\\tensorflow_backend.py:986: The name tf.assign_add is deprecated. Please use tf.compat.v1.assign_add instead.\n",
      "\n",
      "WARNING:tensorflow:From D:\\Anaconda\\lib\\site-packages\\keras\\backend\\tensorflow_backend.py:973: The name tf.assign is deprecated. Please use tf.compat.v1.assign instead.\n",
      "\n",
      "iterazione: 2\t memoria: 602\t esplorazione: 0.985074875\n",
      "iterazione: 3\t memoria: 691\t esplorazione: 0.980149500625\n",
      "iterazione: 4\t memoria: 1002\t esplorazione: 0.975248753121875\n",
      "iterazione: 5\t memoria: 743\t esplorazione: 0.9703725093562656\n",
      "iterazione: 6\t memoria: 816\t esplorazione: 0.9655206468094842\n",
      "iterazione: 7\t memoria: 402\t esplorazione: 0.9606930435754368\n",
      "iterazione: 8\t memoria: 623\t esplorazione: 0.9558895783575596\n",
      "iterazione: 9\t memoria: 1269\t esplorazione: 0.9511101304657719\n",
      "iterazione: 10\t memoria: 849\t esplorazione: 0.946354579813443\n",
      "iterazione: 11\t memoria: 669\t esplorazione: 0.9416228069143757\n",
      "iterazione: 12\t memoria: 669\t esplorazione: 0.9369146928798039\n",
      "iterazione: 13\t memoria: 807\t esplorazione: 0.9322301194154049\n",
      "iterazione: 14\t memoria: 421\t esplorazione: 0.9275689688183278\n",
      "iterazione: 15\t memoria: 410\t esplorazione: 0.9229311239742362\n",
      "iterazione: 16\t memoria: 931\t esplorazione: 0.918316468354365\n",
      "iterazione: 17\t memoria: 1465\t esplorazione: 0.9137248860125932\n",
      "iterazione: 18\t memoria: 1095\t esplorazione: 0.9091562615825302\n",
      "iterazione: 19\t memoria: 697\t esplorazione: 0.9046104802746175\n",
      "iterazione: 20\t memoria: 579\t esplorazione: 0.9000874278732445\n",
      "iterazione: 21\t memoria: 639\t esplorazione: 0.8955869907338783\n",
      "iterazione: 22\t memoria: 530\t esplorazione: 0.8911090557802088\n",
      "iterazione: 23\t memoria: 644\t esplorazione: 0.8866535105013078\n",
      "iterazione: 24\t memoria: 928\t esplorazione: 0.8822202429488012\n",
      "iterazione: 25\t memoria: 1137\t esplorazione: 0.8778091417340572\n",
      "iterazione: 26\t memoria: 757\t esplorazione: 0.873420096025387\n",
      "iterazione: 27\t memoria: 464\t esplorazione: 0.86905299554526\n",
      "iterazione: 28\t memoria: 771\t esplorazione: 0.8647077305675337\n",
      "iterazione: 29\t memoria: 610\t esplorazione: 0.8603841919146961\n",
      "iterazione: 30\t memoria: 613\t esplorazione: 0.8560822709551226\n",
      "iterazione: 31\t memoria: 416\t esplorazione: 0.8518018596003469\n",
      "iterazione: 32\t memoria: 921\t esplorazione: 0.8475428503023452\n",
      "iterazione: 33\t memoria: 831\t esplorazione: 0.8433051360508335\n",
      "iterazione: 34\t memoria: 635\t esplorazione: 0.8390886103705792\n",
      "iterazione: 35\t memoria: 767\t esplorazione: 0.8348931673187264\n",
      "iterazione: 36\t memoria: 665\t esplorazione: 0.8307187014821328\n",
      "iterazione: 37\t memoria: 809\t esplorazione: 0.826565107974722\n",
      "iterazione: 38\t memoria: 624\t esplorazione: 0.8224322824348484\n",
      "iterazione: 39\t memoria: 676\t esplorazione: 0.8183201210226743\n",
      "iterazione: 40\t memoria: 836\t esplorazione: 0.8142285204175609\n",
      "iterazione: 41\t memoria: 565\t esplorazione: 0.810157377815473\n",
      "iterazione: 42\t memoria: 388\t esplorazione: 0.8061065909263957\n",
      "iterazione: 43\t memoria: 859\t esplorazione: 0.8020760579717637\n",
      "iterazione: 44\t memoria: 623\t esplorazione: 0.7980656776819048\n",
      "iterazione: 45\t memoria: 797\t esplorazione: 0.7940753492934953\n",
      "iterazione: 46\t memoria: 781\t esplorazione: 0.7901049725470278\n",
      "iterazione: 47\t memoria: 836\t esplorazione: 0.7861544476842928\n",
      "iterazione: 48\t memoria: 762\t esplorazione: 0.7822236754458712\n",
      "iterazione: 49\t memoria: 754\t esplorazione: 0.7783125570686419\n",
      "iterazione: 50\t memoria: 790\t esplorazione: 0.7744209942832987\n",
      "iterazione: 51\t memoria: 1020\t esplorazione: 0.7705488893118821\n",
      "iterazione: 52\t memoria: 724\t esplorazione: 0.7666961448653228\n",
      "iterazione: 53\t memoria: 864\t esplorazione: 0.7628626641409961\n",
      "iterazione: 54\t memoria: 561\t esplorazione: 0.7590483508202912\n",
      "iterazione: 55\t memoria: 852\t esplorazione: 0.7552531090661897\n",
      "iterazione: 56\t memoria: 795\t esplorazione: 0.7514768435208588\n",
      "iterazione: 57\t memoria: 643\t esplorazione: 0.7477194593032545\n",
      "iterazione: 58\t memoria: 776\t esplorazione: 0.7439808620067382\n",
      "iterazione: 59\t memoria: 957\t esplorazione: 0.7402609576967045\n",
      "iterazione: 60\t memoria: 646\t esplorazione: 0.736559652908221\n",
      "iterazione: 61\t memoria: 864\t esplorazione: 0.7328768546436799\n",
      "iterazione: 62\t memoria: 829\t esplorazione: 0.7292124703704614\n",
      "iterazione: 63\t memoria: 823\t esplorazione: 0.7255664080186092\n",
      "iterazione: 64\t memoria: 585\t esplorazione: 0.7219385759785161\n",
      "iterazione: 65\t memoria: 815\t esplorazione: 0.7183288830986235\n",
      "iterazione: 66\t memoria: 653\t esplorazione: 0.7147372386831304\n",
      "iterazione: 67\t memoria: 560\t esplorazione: 0.7111635524897147\n",
      "iterazione: 68\t memoria: 558\t esplorazione: 0.7076077347272661\n",
      "iterazione: 69\t memoria: 855\t esplorazione: 0.7040696960536298\n",
      "iterazione: 70\t memoria: 645\t esplorazione: 0.7005493475733616\n",
      "iterazione: 71\t memoria: 779\t esplorazione: 0.6970466008354949\n",
      "iterazione: 72\t memoria: 857\t esplorazione: 0.6935613678313174\n",
      "iterazione: 73\t memoria: 509\t esplorazione: 0.6900935609921608\n",
      "iterazione: 74\t memoria: 393\t esplorazione: 0.6866430931872\n",
      "iterazione: 75\t memoria: 627\t esplorazione: 0.683209877721264\n",
      "iterazione: 76\t memoria: 849\t esplorazione: 0.6797938283326577\n",
      "iterazione: 77\t memoria: 646\t esplorazione: 0.6763948591909944\n",
      "iterazione: 78\t memoria: 1013\t esplorazione: 0.6730128848950394\n",
      "iterazione: 79\t memoria: 617\t esplorazione: 0.6696478204705641\n",
      "iterazione: 80\t memoria: 562\t esplorazione: 0.6662995813682113\n",
      "iterazione: 81\t memoria: 658\t esplorazione: 0.6629680834613703\n",
      "iterazione: 82\t memoria: 636\t esplorazione: 0.6596532430440635\n",
      "iterazione: 83\t memoria: 939\t esplorazione: 0.6563549768288431\n",
      "iterazione: 84\t memoria: 655\t esplorazione: 0.6530732019446989\n",
      "iterazione: 85\t memoria: 530\t esplorazione: 0.6498078359349754\n",
      "iterazione: 86\t memoria: 786\t esplorazione: 0.6465587967553006\n",
      "iterazione: 87\t memoria: 783\t esplorazione: 0.6433260027715241\n",
      "iterazione: 88\t memoria: 551\t esplorazione: 0.6401093727576664\n",
      "iterazione: 89\t memoria: 1042\t esplorazione: 0.6369088258938781\n",
      "iterazione: 90\t memoria: 695\t esplorazione: 0.6337242817644086\n",
      "iterazione: 91\t memoria: 645\t esplorazione: 0.6305556603555866\n",
      "iterazione: 92\t memoria: 493\t esplorazione: 0.6274028820538087\n",
      "iterazione: 93\t memoria: 829\t esplorazione: 0.6242658676435396\n",
      "iterazione: 94\t memoria: 765\t esplorazione: 0.6211445383053219\n",
      "iterazione: 95\t memoria: 748\t esplorazione: 0.6180388156137954\n",
      "iterazione: 96\t memoria: 1170\t esplorazione: 0.6149486215357264\n",
      "iterazione: 97\t memoria: 629\t esplorazione: 0.6118738784280477\n",
      "iterazione: 98\t memoria: 899\t esplorazione: 0.6088145090359075\n",
      "iterazione: 99\t memoria: 1242\t esplorazione: 0.6057704364907279\n",
      "iterazione: 100\t memoria: 806\t esplorazione: 0.6027415843082743\n",
      "iterazione: 101\t memoria: 655\t esplorazione: 0.599727876386733\n",
      "iterazione: 102\t memoria: 657\t esplorazione: 0.5967292370047993\n",
      "iterazione: 103\t memoria: 576\t esplorazione: 0.5937455908197753\n",
      "iterazione: 104\t memoria: 1137\t esplorazione: 0.5907768628656764\n",
      "iterazione: 105\t memoria: 809\t esplorazione: 0.587822978551348\n",
      "iterazione: 106\t memoria: 760\t esplorazione: 0.5848838636585912\n",
      "iterazione: 107\t memoria: 1385\t esplorazione: 0.5819594443402983\n"
     ]
    },
    {
     "name": "stdout",
     "output_type": "stream",
     "text": [
      "iterazione: 108\t memoria: 551\t esplorazione: 0.5790496471185969\n",
      "iterazione: 109\t memoria: 672\t esplorazione: 0.5761543988830038\n",
      "iterazione: 110\t memoria: 1218\t esplorazione: 0.5732736268885888\n",
      "iterazione: 111\t memoria: 359\t esplorazione: 0.5704072587541459\n",
      "iterazione: 112\t memoria: 827\t esplorazione: 0.5675552224603752\n",
      "iterazione: 113\t memoria: 935\t esplorazione: 0.5647174463480732\n",
      "iterazione: 114\t memoria: 846\t esplorazione: 0.5618938591163328\n",
      "iterazione: 115\t memoria: 395\t esplorazione: 0.5590843898207511\n",
      "iterazione: 116\t memoria: 448\t esplorazione: 0.5562889678716475\n",
      "iterazione: 117\t memoria: 645\t esplorazione: 0.5535075230322892\n",
      "iterazione: 118\t memoria: 696\t esplorazione: 0.5507399854171278\n",
      "iterazione: 119\t memoria: 829\t esplorazione: 0.5479862854900421\n",
      "iterazione: 120\t memoria: 793\t esplorazione: 0.5452463540625919\n",
      "iterazione: 121\t memoria: 612\t esplorazione: 0.542520122292279\n",
      "iterazione: 122\t memoria: 796\t esplorazione: 0.5398075216808176\n",
      "iterazione: 123\t memoria: 1632\t esplorazione: 0.5371084840724134\n",
      "iterazione: 124\t memoria: 463\t esplorazione: 0.5344229416520514\n",
      "iterazione: 125\t memoria: 1084\t esplorazione: 0.5317508269437912\n",
      "iterazione: 126\t memoria: 683\t esplorazione: 0.5290920728090721\n",
      "iterazione: 127\t memoria: 669\t esplorazione: 0.5264466124450268\n",
      "iterazione: 128\t memoria: 645\t esplorazione: 0.5238143793828016\n",
      "iterazione: 129\t memoria: 692\t esplorazione: 0.5211953074858876\n",
      "iterazione: 130\t memoria: 657\t esplorazione: 0.5185893309484582\n",
      "iterazione: 131\t memoria: 487\t esplorazione: 0.515996384293716\n",
      "iterazione: 132\t memoria: 313\t esplorazione: 0.5134164023722474\n",
      "iterazione: 133\t memoria: 1191\t esplorazione: 0.5108493203603861\n",
      "iterazione: 134\t memoria: 947\t esplorazione: 0.5082950737585842\n",
      "iterazione: 135\t memoria: 1060\t esplorazione: 0.5057535983897913\n",
      "iterazione: 136\t memoria: 791\t esplorazione: 0.5032248303978423\n",
      "iterazione: 137\t memoria: 794\t esplorazione: 0.5007087062458531\n",
      "iterazione: 138\t memoria: 597\t esplorazione: 0.4982051627146238\n",
      "iterazione: 139\t memoria: 820\t esplorazione: 0.4957141369010507\n",
      "iterazione: 140\t memoria: 1037\t esplorazione: 0.4932355662165454\n",
      "iterazione: 141\t memoria: 970\t esplorazione: 0.4907693883854627\n",
      "iterazione: 142\t memoria: 401\t esplorazione: 0.4883155414435354\n",
      "iterazione: 143\t memoria: 677\t esplorazione: 0.4858739637363177\n",
      "iterazione: 144\t memoria: 797\t esplorazione: 0.4834445939176361\n",
      "iterazione: 145\t memoria: 687\t esplorazione: 0.4810273709480479\n",
      "iterazione: 146\t memoria: 778\t esplorazione: 0.4786222340933077\n",
      "iterazione: 147\t memoria: 1077\t esplorazione: 0.47622912292284114\n",
      "iterazione: 148\t memoria: 508\t esplorazione: 0.4738479773082269\n",
      "iterazione: 149\t memoria: 499\t esplorazione: 0.4714787374216858\n",
      "iterazione: 150\t memoria: 762\t esplorazione: 0.46912134373457737\n",
      "iterazione: 151\t memoria: 950\t esplorazione: 0.46677573701590447\n",
      "iterazione: 152\t memoria: 1292\t esplorazione: 0.46444185833082496\n",
      "iterazione: 153\t memoria: 541\t esplorazione: 0.46211964903917085\n",
      "iterazione: 154\t memoria: 1092\t esplorazione: 0.459809050793975\n",
      "iterazione: 155\t memoria: 778\t esplorazione: 0.4575100055400051\n",
      "iterazione: 156\t memoria: 564\t esplorazione: 0.45522245551230506\n",
      "iterazione: 157\t memoria: 779\t esplorazione: 0.45294634323474353\n",
      "iterazione: 158\t memoria: 965\t esplorazione: 0.45068161151856984\n",
      "iterazione: 159\t memoria: 462\t esplorazione: 0.44842820346097695\n",
      "iterazione: 160\t memoria: 829\t esplorazione: 0.4461860624436721\n",
      "iterazione: 161\t memoria: 792\t esplorazione: 0.4439551321314537\n",
      "iterazione: 162\t memoria: 745\t esplorazione: 0.4417353564707965\n",
      "iterazione: 163\t memoria: 637\t esplorazione: 0.43952667968844245\n",
      "iterazione: 164\t memoria: 1097\t esplorazione: 0.43732904629000025\n",
      "iterazione: 165\t memoria: 658\t esplorazione: 0.43514240105855023\n",
      "iterazione: 166\t memoria: 845\t esplorazione: 0.4329666890532575\n",
      "iterazione: 167\t memoria: 786\t esplorazione: 0.4308018556079912\n",
      "iterazione: 168\t memoria: 592\t esplorazione: 0.42864784632995123\n",
      "iterazione: 169\t memoria: 840\t esplorazione: 0.4265046070983015\n",
      "iterazione: 170\t memoria: 672\t esplorazione: 0.42437208406280996\n",
      "iterazione: 171\t memoria: 628\t esplorazione: 0.4222502236424959\n",
      "iterazione: 172\t memoria: 1224\t esplorazione: 0.42013897252428345\n",
      "iterazione: 173\t memoria: 1508\t esplorazione: 0.418038277661662\n",
      "iterazione: 174\t memoria: 1141\t esplorazione: 0.4159480862733537\n",
      "iterazione: 175\t memoria: 1223\t esplorazione: 0.41386834584198695\n",
      "iterazione: 176\t memoria: 1305\t esplorazione: 0.41179900411277703\n",
      "iterazione: 177\t memoria: 816\t esplorazione: 0.40974000909221314\n",
      "iterazione: 178\t memoria: 957\t esplorazione: 0.40769130904675205\n",
      "iterazione: 179\t memoria: 1041\t esplorazione: 0.4056528525015183\n",
      "iterazione: 180\t memoria: 927\t esplorazione: 0.4036245882390107\n",
      "iterazione: 181\t memoria: 788\t esplorazione: 0.40160646529781563\n",
      "iterazione: 182\t memoria: 641\t esplorazione: 0.3995984329713266\n",
      "iterazione: 183\t memoria: 407\t esplorazione: 0.39760044080646995\n",
      "iterazione: 184\t memoria: 648\t esplorazione: 0.39561243860243755\n",
      "iterazione: 185\t memoria: 802\t esplorazione: 0.3936343764094254\n",
      "iterazione: 186\t memoria: 1362\t esplorazione: 0.39166620452737827\n",
      "iterazione: 187\t memoria: 603\t esplorazione: 0.3897078735047414\n",
      "iterazione: 188\t memoria: 670\t esplorazione: 0.38775933413721764\n",
      "iterazione: 189\t memoria: 628\t esplorazione: 0.38582053746653155\n",
      "iterazione: 190\t memoria: 1150\t esplorazione: 0.3838914347791989\n",
      "iterazione: 191\t memoria: 1085\t esplorazione: 0.38197197760530294\n"
     ]
    }
   ],
   "source": [
    "for i in range(10000):\n",
    "    train(mem , dqn)\n",
    "    iteration(env,dqn,mem)\n",
    "    env.close()\n",
    "    print(f\"iterazione: {mem.iteration}\\t memoria: { len(mem.memory)}\\t esplorazione: {(0.995)**(mem.iteration+1)}\")\n",
    "    #print(\"memoria\" , len(mem.memory))\n",
    "    #print(\"esplorazione\" ,(0.995)**(mem.iteration+1))"
   ]
  },
  {
   "cell_type": "code",
   "execution_count": null,
   "metadata": {},
   "outputs": [],
   "source": [
    "def play_network(env , model):\n",
    "    env.reset()\n",
    "    o,r,d,i = env.step(0)\n",
    "    env.render()\n",
    "    processed_state = preprocess(o)\n",
    "    processed_state = processed_state.reshape((1,90,80,1))\n",
    "    for i in range(10000):\n",
    "        ac = np.argmax(model.policy_net.predict(processed_state))\n",
    "        next_state,reward,done,info = env.step(ac)\n",
    "        if done:\n",
    "            break\n",
    "        env.render() "
   ]
  },
  {
   "cell_type": "code",
   "execution_count": null,
   "metadata": {
    "scrolled": true
   },
   "outputs": [],
   "source": [
    "play_network(env , dqn)"
   ]
  },
  {
   "cell_type": "code",
   "execution_count": null,
   "metadata": {},
   "outputs": [],
   "source": [
    "env.close()"
   ]
  },
  {
   "cell_type": "code",
   "execution_count": null,
   "metadata": {},
   "outputs": [],
   "source": [
    "#salviamo la rete\n",
    "dqn.policy_net.save(\"modello_prova.h5\")"
   ]
  },
  {
   "cell_type": "code",
   "execution_count": null,
   "metadata": {},
   "outputs": [],
   "source": [
    "plt.imshow(mem.memory[540][0].reshape((90,80)))"
   ]
  },
  {
   "cell_type": "code",
   "execution_count": null,
   "metadata": {},
   "outputs": [],
   "source": []
  }
 ],
 "metadata": {
  "kernelspec": {
   "display_name": "Python 3",
   "language": "python",
   "name": "python3"
  },
  "language_info": {
   "codemirror_mode": {
    "name": "ipython",
    "version": 3
   },
   "file_extension": ".py",
   "mimetype": "text/x-python",
   "name": "python",
   "nbconvert_exporter": "python",
   "pygments_lexer": "ipython3",
   "version": "3.7.4"
  }
 },
 "nbformat": 4,
 "nbformat_minor": 2
}
