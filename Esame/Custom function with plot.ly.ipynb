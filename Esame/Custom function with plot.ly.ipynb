{
 "cells": [
  {
   "cell_type": "markdown",
   "metadata": {},
   "source": [
    "# Funzione con cui creare grafici personalizzati tramite plot.ly\n",
    "Nel nostro progetto occorre calcolarla per:\n",
    "- RMSE per iterazione\n",
    "- ritorno per episodio\n",
    "\n",
    "Spero di aver definito una funzione abbastanza chiara e generalizzabile: in caso di errori, comunicatemeli."
   ]
  },
  {
   "cell_type": "code",
   "execution_count": 85,
   "metadata": {},
   "outputs": [],
   "source": [
    "def graficoFigo (title, y, x_title, y_title, y_upperBound) : \n",
    "    '''\n",
    "        Print a scatter plot with:\n",
    "            x-axis: sequential integer \n",
    "            y-axis: list y's values\n",
    "        \n",
    "        Args:\n",
    "            title (str): plot's title\n",
    "            y (list): n-value of n-iterations \n",
    "            x_title (str): x-axis's title\n",
    "            y_title (str): y-axis's title\n",
    "            y_upperBound (int): y-axis's upper bound \n",
    "        \n",
    "        Code to install modules required:\n",
    "            pip install plotly\n",
    "            pip install \"ipywidgets>=7.2\"\n",
    "            pip install chart-studio\n",
    "        \n",
    "        Code to import modules required:\n",
    "            import chart_studio.plotly as py\n",
    "            from plotly.graph_objs import *\n",
    "    '''\n",
    "      \n",
    "    py.sign_in('mickPar', 'vc7gPeON5gTXA6gmfrO7')\n",
    "    x_value = []\n",
    "    y_value = []\n",
    "    for index, rmse in enumerate(y) :\n",
    "        x_value.append(index)\n",
    "        y_value.append(rmse)\n",
    "\n",
    "    trace1 = {\n",
    "      \"uid\": \"5eacaf\", \n",
    "      \"name\": \"RMSE (Root Mean Square Error)\", \n",
    "      \"type\": \"scatter\", \n",
    "      \"x\": x_value, \n",
    "      \"y\": y_value\n",
    "    }\n",
    "    \n",
    "    data = Data([trace1])\n",
    "    layout = {\n",
    "          \"title\": title, \n",
    "      \"width\": 1050, \n",
    "      \"xaxis\": {\n",
    "        \"type\": \"linear\", \n",
    "        \"range\": [0, 500], \n",
    "        \"title\": x_title, \n",
    "        \"autorange\": False\n",
    "      }, \n",
    "      \"yaxis\": {\n",
    "        \"type\": \"linear\", \n",
    "        \"range\": [0, y_upperBound], \n",
    "        \"title\": y_title, \n",
    "        \"autorange\": False\n",
    "      }, \n",
    "      \"height\": 793, \n",
    "      \"autosize\": True, \n",
    "      \"annotations\": [\n",
    "        {\n",
    "          \"x\": 350, \n",
    "          \"y\": y_upperBound - 5, \n",
    "          \"font\": {\"size\": 16}, \n",
    "          \"text\": \"α (Learning rate) = 0.001, epsilon: 0.995**(#episodes)\", \n",
    "          \"showarrow\": False\n",
    "        }\n",
    "      ]\n",
    "    }\n",
    "    fig = Figure(data=data, layout=layout)\n",
    "    # per aprire il grafico nel browser (per condividere, creare dashboard...)\n",
    "    # plot_url = py.plot(fig)\n",
    "    fig.show()"
   ]
  },
  {
   "cell_type": "code",
   "execution_count": 87,
   "metadata": {},
   "outputs": [
    {
     "data": {
      "application/vnd.plotly.v1+json": {
       "config": {
        "plotlyServerURL": "https://plot.ly"
       },
       "data": [
        {
         "name": "RMSE (Root Mean Square Error)",
         "type": "scatter",
         "uid": "5eacaf",
         "x": [
          0,
          1,
          2,
          3,
          4,
          5,
          6,
          7,
          8
         ],
         "y": [
          14,
          9,
          5,
          10,
          2,
          5,
          7,
          8,
          22
         ]
        }
       ],
       "layout": {
        "annotations": [
         {
          "font": {
           "size": 16
          },
          "showarrow": false,
          "text": "α (Learning rate) = 0.001, epsilon: 0.995**(#episodes)",
          "x": 350,
          "y": 25
         }
        ],
        "autosize": true,
        "height": 793,
        "template": {
         "data": {
          "bar": [
           {
            "error_x": {
             "color": "#2a3f5f"
            },
            "error_y": {
             "color": "#2a3f5f"
            },
            "marker": {
             "line": {
              "color": "#E5ECF6",
              "width": 0.5
             }
            },
            "type": "bar"
           }
          ],
          "barpolar": [
           {
            "marker": {
             "line": {
              "color": "#E5ECF6",
              "width": 0.5
             }
            },
            "type": "barpolar"
           }
          ],
          "carpet": [
           {
            "aaxis": {
             "endlinecolor": "#2a3f5f",
             "gridcolor": "white",
             "linecolor": "white",
             "minorgridcolor": "white",
             "startlinecolor": "#2a3f5f"
            },
            "baxis": {
             "endlinecolor": "#2a3f5f",
             "gridcolor": "white",
             "linecolor": "white",
             "minorgridcolor": "white",
             "startlinecolor": "#2a3f5f"
            },
            "type": "carpet"
           }
          ],
          "choropleth": [
           {
            "colorbar": {
             "outlinewidth": 0,
             "ticks": ""
            },
            "type": "choropleth"
           }
          ],
          "contour": [
           {
            "colorbar": {
             "outlinewidth": 0,
             "ticks": ""
            },
            "colorscale": [
             [
              0,
              "#0d0887"
             ],
             [
              0.1111111111111111,
              "#46039f"
             ],
             [
              0.2222222222222222,
              "#7201a8"
             ],
             [
              0.3333333333333333,
              "#9c179e"
             ],
             [
              0.4444444444444444,
              "#bd3786"
             ],
             [
              0.5555555555555556,
              "#d8576b"
             ],
             [
              0.6666666666666666,
              "#ed7953"
             ],
             [
              0.7777777777777778,
              "#fb9f3a"
             ],
             [
              0.8888888888888888,
              "#fdca26"
             ],
             [
              1,
              "#f0f921"
             ]
            ],
            "type": "contour"
           }
          ],
          "contourcarpet": [
           {
            "colorbar": {
             "outlinewidth": 0,
             "ticks": ""
            },
            "type": "contourcarpet"
           }
          ],
          "heatmap": [
           {
            "colorbar": {
             "outlinewidth": 0,
             "ticks": ""
            },
            "colorscale": [
             [
              0,
              "#0d0887"
             ],
             [
              0.1111111111111111,
              "#46039f"
             ],
             [
              0.2222222222222222,
              "#7201a8"
             ],
             [
              0.3333333333333333,
              "#9c179e"
             ],
             [
              0.4444444444444444,
              "#bd3786"
             ],
             [
              0.5555555555555556,
              "#d8576b"
             ],
             [
              0.6666666666666666,
              "#ed7953"
             ],
             [
              0.7777777777777778,
              "#fb9f3a"
             ],
             [
              0.8888888888888888,
              "#fdca26"
             ],
             [
              1,
              "#f0f921"
             ]
            ],
            "type": "heatmap"
           }
          ],
          "heatmapgl": [
           {
            "colorbar": {
             "outlinewidth": 0,
             "ticks": ""
            },
            "colorscale": [
             [
              0,
              "#0d0887"
             ],
             [
              0.1111111111111111,
              "#46039f"
             ],
             [
              0.2222222222222222,
              "#7201a8"
             ],
             [
              0.3333333333333333,
              "#9c179e"
             ],
             [
              0.4444444444444444,
              "#bd3786"
             ],
             [
              0.5555555555555556,
              "#d8576b"
             ],
             [
              0.6666666666666666,
              "#ed7953"
             ],
             [
              0.7777777777777778,
              "#fb9f3a"
             ],
             [
              0.8888888888888888,
              "#fdca26"
             ],
             [
              1,
              "#f0f921"
             ]
            ],
            "type": "heatmapgl"
           }
          ],
          "histogram": [
           {
            "marker": {
             "colorbar": {
              "outlinewidth": 0,
              "ticks": ""
             }
            },
            "type": "histogram"
           }
          ],
          "histogram2d": [
           {
            "colorbar": {
             "outlinewidth": 0,
             "ticks": ""
            },
            "colorscale": [
             [
              0,
              "#0d0887"
             ],
             [
              0.1111111111111111,
              "#46039f"
             ],
             [
              0.2222222222222222,
              "#7201a8"
             ],
             [
              0.3333333333333333,
              "#9c179e"
             ],
             [
              0.4444444444444444,
              "#bd3786"
             ],
             [
              0.5555555555555556,
              "#d8576b"
             ],
             [
              0.6666666666666666,
              "#ed7953"
             ],
             [
              0.7777777777777778,
              "#fb9f3a"
             ],
             [
              0.8888888888888888,
              "#fdca26"
             ],
             [
              1,
              "#f0f921"
             ]
            ],
            "type": "histogram2d"
           }
          ],
          "histogram2dcontour": [
           {
            "colorbar": {
             "outlinewidth": 0,
             "ticks": ""
            },
            "colorscale": [
             [
              0,
              "#0d0887"
             ],
             [
              0.1111111111111111,
              "#46039f"
             ],
             [
              0.2222222222222222,
              "#7201a8"
             ],
             [
              0.3333333333333333,
              "#9c179e"
             ],
             [
              0.4444444444444444,
              "#bd3786"
             ],
             [
              0.5555555555555556,
              "#d8576b"
             ],
             [
              0.6666666666666666,
              "#ed7953"
             ],
             [
              0.7777777777777778,
              "#fb9f3a"
             ],
             [
              0.8888888888888888,
              "#fdca26"
             ],
             [
              1,
              "#f0f921"
             ]
            ],
            "type": "histogram2dcontour"
           }
          ],
          "mesh3d": [
           {
            "colorbar": {
             "outlinewidth": 0,
             "ticks": ""
            },
            "type": "mesh3d"
           }
          ],
          "parcoords": [
           {
            "line": {
             "colorbar": {
              "outlinewidth": 0,
              "ticks": ""
             }
            },
            "type": "parcoords"
           }
          ],
          "pie": [
           {
            "automargin": true,
            "type": "pie"
           }
          ],
          "scatter": [
           {
            "marker": {
             "colorbar": {
              "outlinewidth": 0,
              "ticks": ""
             }
            },
            "type": "scatter"
           }
          ],
          "scatter3d": [
           {
            "line": {
             "colorbar": {
              "outlinewidth": 0,
              "ticks": ""
             }
            },
            "marker": {
             "colorbar": {
              "outlinewidth": 0,
              "ticks": ""
             }
            },
            "type": "scatter3d"
           }
          ],
          "scattercarpet": [
           {
            "marker": {
             "colorbar": {
              "outlinewidth": 0,
              "ticks": ""
             }
            },
            "type": "scattercarpet"
           }
          ],
          "scattergeo": [
           {
            "marker": {
             "colorbar": {
              "outlinewidth": 0,
              "ticks": ""
             }
            },
            "type": "scattergeo"
           }
          ],
          "scattergl": [
           {
            "marker": {
             "colorbar": {
              "outlinewidth": 0,
              "ticks": ""
             }
            },
            "type": "scattergl"
           }
          ],
          "scattermapbox": [
           {
            "marker": {
             "colorbar": {
              "outlinewidth": 0,
              "ticks": ""
             }
            },
            "type": "scattermapbox"
           }
          ],
          "scatterpolar": [
           {
            "marker": {
             "colorbar": {
              "outlinewidth": 0,
              "ticks": ""
             }
            },
            "type": "scatterpolar"
           }
          ],
          "scatterpolargl": [
           {
            "marker": {
             "colorbar": {
              "outlinewidth": 0,
              "ticks": ""
             }
            },
            "type": "scatterpolargl"
           }
          ],
          "scatterternary": [
           {
            "marker": {
             "colorbar": {
              "outlinewidth": 0,
              "ticks": ""
             }
            },
            "type": "scatterternary"
           }
          ],
          "surface": [
           {
            "colorbar": {
             "outlinewidth": 0,
             "ticks": ""
            },
            "colorscale": [
             [
              0,
              "#0d0887"
             ],
             [
              0.1111111111111111,
              "#46039f"
             ],
             [
              0.2222222222222222,
              "#7201a8"
             ],
             [
              0.3333333333333333,
              "#9c179e"
             ],
             [
              0.4444444444444444,
              "#bd3786"
             ],
             [
              0.5555555555555556,
              "#d8576b"
             ],
             [
              0.6666666666666666,
              "#ed7953"
             ],
             [
              0.7777777777777778,
              "#fb9f3a"
             ],
             [
              0.8888888888888888,
              "#fdca26"
             ],
             [
              1,
              "#f0f921"
             ]
            ],
            "type": "surface"
           }
          ],
          "table": [
           {
            "cells": {
             "fill": {
              "color": "#EBF0F8"
             },
             "line": {
              "color": "white"
             }
            },
            "header": {
             "fill": {
              "color": "#C8D4E3"
             },
             "line": {
              "color": "white"
             }
            },
            "type": "table"
           }
          ]
         },
         "layout": {
          "annotationdefaults": {
           "arrowcolor": "#2a3f5f",
           "arrowhead": 0,
           "arrowwidth": 1
          },
          "coloraxis": {
           "colorbar": {
            "outlinewidth": 0,
            "ticks": ""
           }
          },
          "colorscale": {
           "diverging": [
            [
             0,
             "#8e0152"
            ],
            [
             0.1,
             "#c51b7d"
            ],
            [
             0.2,
             "#de77ae"
            ],
            [
             0.3,
             "#f1b6da"
            ],
            [
             0.4,
             "#fde0ef"
            ],
            [
             0.5,
             "#f7f7f7"
            ],
            [
             0.6,
             "#e6f5d0"
            ],
            [
             0.7,
             "#b8e186"
            ],
            [
             0.8,
             "#7fbc41"
            ],
            [
             0.9,
             "#4d9221"
            ],
            [
             1,
             "#276419"
            ]
           ],
           "sequential": [
            [
             0,
             "#0d0887"
            ],
            [
             0.1111111111111111,
             "#46039f"
            ],
            [
             0.2222222222222222,
             "#7201a8"
            ],
            [
             0.3333333333333333,
             "#9c179e"
            ],
            [
             0.4444444444444444,
             "#bd3786"
            ],
            [
             0.5555555555555556,
             "#d8576b"
            ],
            [
             0.6666666666666666,
             "#ed7953"
            ],
            [
             0.7777777777777778,
             "#fb9f3a"
            ],
            [
             0.8888888888888888,
             "#fdca26"
            ],
            [
             1,
             "#f0f921"
            ]
           ],
           "sequentialminus": [
            [
             0,
             "#0d0887"
            ],
            [
             0.1111111111111111,
             "#46039f"
            ],
            [
             0.2222222222222222,
             "#7201a8"
            ],
            [
             0.3333333333333333,
             "#9c179e"
            ],
            [
             0.4444444444444444,
             "#bd3786"
            ],
            [
             0.5555555555555556,
             "#d8576b"
            ],
            [
             0.6666666666666666,
             "#ed7953"
            ],
            [
             0.7777777777777778,
             "#fb9f3a"
            ],
            [
             0.8888888888888888,
             "#fdca26"
            ],
            [
             1,
             "#f0f921"
            ]
           ]
          },
          "colorway": [
           "#636efa",
           "#EF553B",
           "#00cc96",
           "#ab63fa",
           "#FFA15A",
           "#19d3f3",
           "#FF6692",
           "#B6E880",
           "#FF97FF",
           "#FECB52"
          ],
          "font": {
           "color": "#2a3f5f"
          },
          "geo": {
           "bgcolor": "white",
           "lakecolor": "white",
           "landcolor": "#E5ECF6",
           "showlakes": true,
           "showland": true,
           "subunitcolor": "white"
          },
          "hoverlabel": {
           "align": "left"
          },
          "hovermode": "closest",
          "mapbox": {
           "style": "light"
          },
          "paper_bgcolor": "white",
          "plot_bgcolor": "#E5ECF6",
          "polar": {
           "angularaxis": {
            "gridcolor": "white",
            "linecolor": "white",
            "ticks": ""
           },
           "bgcolor": "#E5ECF6",
           "radialaxis": {
            "gridcolor": "white",
            "linecolor": "white",
            "ticks": ""
           }
          },
          "scene": {
           "xaxis": {
            "backgroundcolor": "#E5ECF6",
            "gridcolor": "white",
            "gridwidth": 2,
            "linecolor": "white",
            "showbackground": true,
            "ticks": "",
            "zerolinecolor": "white"
           },
           "yaxis": {
            "backgroundcolor": "#E5ECF6",
            "gridcolor": "white",
            "gridwidth": 2,
            "linecolor": "white",
            "showbackground": true,
            "ticks": "",
            "zerolinecolor": "white"
           },
           "zaxis": {
            "backgroundcolor": "#E5ECF6",
            "gridcolor": "white",
            "gridwidth": 2,
            "linecolor": "white",
            "showbackground": true,
            "ticks": "",
            "zerolinecolor": "white"
           }
          },
          "shapedefaults": {
           "line": {
            "color": "#2a3f5f"
           }
          },
          "ternary": {
           "aaxis": {
            "gridcolor": "white",
            "linecolor": "white",
            "ticks": ""
           },
           "baxis": {
            "gridcolor": "white",
            "linecolor": "white",
            "ticks": ""
           },
           "bgcolor": "#E5ECF6",
           "caxis": {
            "gridcolor": "white",
            "linecolor": "white",
            "ticks": ""
           }
          },
          "title": {
           "x": 0.05
          },
          "xaxis": {
           "automargin": true,
           "gridcolor": "white",
           "linecolor": "white",
           "ticks": "",
           "title": {
            "standoff": 15
           },
           "zerolinecolor": "white",
           "zerolinewidth": 2
          },
          "yaxis": {
           "automargin": true,
           "gridcolor": "white",
           "linecolor": "white",
           "ticks": "",
           "title": {
            "standoff": 15
           },
           "zerolinecolor": "white",
           "zerolinewidth": 2
          }
         }
        },
        "title": {
         "text": "RMSE vs #ITERATIONS"
        },
        "width": 1050,
        "xaxis": {
         "autorange": false,
         "range": [
          0,
          500
         ],
         "title": {
          "text": "# episodes"
         },
         "type": "linear"
        },
        "yaxis": {
         "autorange": false,
         "range": [
          0,
          30
         ],
         "title": {
          "text": "Root mean square error"
         },
         "type": "linear"
        }
       }
      },
      "text/html": [
       "<div>\n",
       "        \n",
       "        \n",
       "            <div id=\"2590c1b6-bcb6-44a9-bd5d-62b751c17343\" class=\"plotly-graph-div\" style=\"height:793px; width:1050px;\"></div>\n",
       "            <script type=\"text/javascript\">\n",
       "                require([\"plotly\"], function(Plotly) {\n",
       "                    window.PLOTLYENV=window.PLOTLYENV || {};\n",
       "                    \n",
       "                if (document.getElementById(\"2590c1b6-bcb6-44a9-bd5d-62b751c17343\")) {\n",
       "                    Plotly.newPlot(\n",
       "                        '2590c1b6-bcb6-44a9-bd5d-62b751c17343',\n",
       "                        [{\"name\": \"RMSE (Root Mean Square Error)\", \"type\": \"scatter\", \"uid\": \"5eacaf\", \"x\": [0, 1, 2, 3, 4, 5, 6, 7, 8], \"y\": [14, 9, 5, 10, 2, 5, 7, 8, 22]}],\n",
       "                        {\"annotations\": [{\"font\": {\"size\": 16}, \"showarrow\": false, \"text\": \"\\u03b1 (Learning rate) = 0.001, epsilon: 0.995**(#episodes)\", \"x\": 350, \"y\": 25}], \"autosize\": true, \"height\": 793, \"template\": {\"data\": {\"bar\": [{\"error_x\": {\"color\": \"#2a3f5f\"}, \"error_y\": {\"color\": \"#2a3f5f\"}, \"marker\": {\"line\": {\"color\": \"#E5ECF6\", \"width\": 0.5}}, \"type\": \"bar\"}], \"barpolar\": [{\"marker\": {\"line\": {\"color\": \"#E5ECF6\", \"width\": 0.5}}, \"type\": \"barpolar\"}], \"carpet\": [{\"aaxis\": {\"endlinecolor\": \"#2a3f5f\", \"gridcolor\": \"white\", \"linecolor\": \"white\", \"minorgridcolor\": \"white\", \"startlinecolor\": \"#2a3f5f\"}, \"baxis\": {\"endlinecolor\": \"#2a3f5f\", \"gridcolor\": \"white\", \"linecolor\": \"white\", \"minorgridcolor\": \"white\", \"startlinecolor\": \"#2a3f5f\"}, \"type\": \"carpet\"}], \"choropleth\": [{\"colorbar\": {\"outlinewidth\": 0, \"ticks\": \"\"}, \"type\": \"choropleth\"}], \"contour\": [{\"colorbar\": {\"outlinewidth\": 0, \"ticks\": \"\"}, \"colorscale\": [[0.0, \"#0d0887\"], [0.1111111111111111, \"#46039f\"], [0.2222222222222222, \"#7201a8\"], [0.3333333333333333, \"#9c179e\"], [0.4444444444444444, \"#bd3786\"], [0.5555555555555556, \"#d8576b\"], [0.6666666666666666, \"#ed7953\"], [0.7777777777777778, \"#fb9f3a\"], [0.8888888888888888, \"#fdca26\"], [1.0, \"#f0f921\"]], \"type\": \"contour\"}], \"contourcarpet\": [{\"colorbar\": {\"outlinewidth\": 0, \"ticks\": \"\"}, \"type\": \"contourcarpet\"}], \"heatmap\": [{\"colorbar\": {\"outlinewidth\": 0, \"ticks\": \"\"}, \"colorscale\": [[0.0, \"#0d0887\"], [0.1111111111111111, \"#46039f\"], [0.2222222222222222, \"#7201a8\"], [0.3333333333333333, \"#9c179e\"], [0.4444444444444444, \"#bd3786\"], [0.5555555555555556, \"#d8576b\"], [0.6666666666666666, \"#ed7953\"], [0.7777777777777778, \"#fb9f3a\"], [0.8888888888888888, \"#fdca26\"], [1.0, \"#f0f921\"]], \"type\": \"heatmap\"}], \"heatmapgl\": [{\"colorbar\": {\"outlinewidth\": 0, \"ticks\": \"\"}, \"colorscale\": [[0.0, \"#0d0887\"], [0.1111111111111111, \"#46039f\"], [0.2222222222222222, \"#7201a8\"], [0.3333333333333333, \"#9c179e\"], [0.4444444444444444, \"#bd3786\"], [0.5555555555555556, \"#d8576b\"], [0.6666666666666666, \"#ed7953\"], [0.7777777777777778, \"#fb9f3a\"], [0.8888888888888888, \"#fdca26\"], [1.0, \"#f0f921\"]], \"type\": \"heatmapgl\"}], \"histogram\": [{\"marker\": {\"colorbar\": {\"outlinewidth\": 0, \"ticks\": \"\"}}, \"type\": \"histogram\"}], \"histogram2d\": [{\"colorbar\": {\"outlinewidth\": 0, \"ticks\": \"\"}, \"colorscale\": [[0.0, \"#0d0887\"], [0.1111111111111111, \"#46039f\"], [0.2222222222222222, \"#7201a8\"], [0.3333333333333333, \"#9c179e\"], [0.4444444444444444, \"#bd3786\"], [0.5555555555555556, \"#d8576b\"], [0.6666666666666666, \"#ed7953\"], [0.7777777777777778, \"#fb9f3a\"], [0.8888888888888888, \"#fdca26\"], [1.0, \"#f0f921\"]], \"type\": \"histogram2d\"}], \"histogram2dcontour\": [{\"colorbar\": {\"outlinewidth\": 0, \"ticks\": \"\"}, \"colorscale\": [[0.0, \"#0d0887\"], [0.1111111111111111, \"#46039f\"], [0.2222222222222222, \"#7201a8\"], [0.3333333333333333, \"#9c179e\"], [0.4444444444444444, \"#bd3786\"], [0.5555555555555556, \"#d8576b\"], [0.6666666666666666, \"#ed7953\"], [0.7777777777777778, \"#fb9f3a\"], [0.8888888888888888, \"#fdca26\"], [1.0, \"#f0f921\"]], \"type\": \"histogram2dcontour\"}], \"mesh3d\": [{\"colorbar\": {\"outlinewidth\": 0, \"ticks\": \"\"}, \"type\": \"mesh3d\"}], \"parcoords\": [{\"line\": {\"colorbar\": {\"outlinewidth\": 0, \"ticks\": \"\"}}, \"type\": \"parcoords\"}], \"pie\": [{\"automargin\": true, \"type\": \"pie\"}], \"scatter\": [{\"marker\": {\"colorbar\": {\"outlinewidth\": 0, \"ticks\": \"\"}}, \"type\": \"scatter\"}], \"scatter3d\": [{\"line\": {\"colorbar\": {\"outlinewidth\": 0, \"ticks\": \"\"}}, \"marker\": {\"colorbar\": {\"outlinewidth\": 0, \"ticks\": \"\"}}, \"type\": \"scatter3d\"}], \"scattercarpet\": [{\"marker\": {\"colorbar\": {\"outlinewidth\": 0, \"ticks\": \"\"}}, \"type\": \"scattercarpet\"}], \"scattergeo\": [{\"marker\": {\"colorbar\": {\"outlinewidth\": 0, \"ticks\": \"\"}}, \"type\": \"scattergeo\"}], \"scattergl\": [{\"marker\": {\"colorbar\": {\"outlinewidth\": 0, \"ticks\": \"\"}}, \"type\": \"scattergl\"}], \"scattermapbox\": [{\"marker\": {\"colorbar\": {\"outlinewidth\": 0, \"ticks\": \"\"}}, \"type\": \"scattermapbox\"}], \"scatterpolar\": [{\"marker\": {\"colorbar\": {\"outlinewidth\": 0, \"ticks\": \"\"}}, \"type\": \"scatterpolar\"}], \"scatterpolargl\": [{\"marker\": {\"colorbar\": {\"outlinewidth\": 0, \"ticks\": \"\"}}, \"type\": \"scatterpolargl\"}], \"scatterternary\": [{\"marker\": {\"colorbar\": {\"outlinewidth\": 0, \"ticks\": \"\"}}, \"type\": \"scatterternary\"}], \"surface\": [{\"colorbar\": {\"outlinewidth\": 0, \"ticks\": \"\"}, \"colorscale\": [[0.0, \"#0d0887\"], [0.1111111111111111, \"#46039f\"], [0.2222222222222222, \"#7201a8\"], [0.3333333333333333, \"#9c179e\"], [0.4444444444444444, \"#bd3786\"], [0.5555555555555556, \"#d8576b\"], [0.6666666666666666, \"#ed7953\"], [0.7777777777777778, \"#fb9f3a\"], [0.8888888888888888, \"#fdca26\"], [1.0, \"#f0f921\"]], \"type\": \"surface\"}], \"table\": [{\"cells\": {\"fill\": {\"color\": \"#EBF0F8\"}, \"line\": {\"color\": \"white\"}}, \"header\": {\"fill\": {\"color\": \"#C8D4E3\"}, \"line\": {\"color\": \"white\"}}, \"type\": \"table\"}]}, \"layout\": {\"annotationdefaults\": {\"arrowcolor\": \"#2a3f5f\", \"arrowhead\": 0, \"arrowwidth\": 1}, \"coloraxis\": {\"colorbar\": {\"outlinewidth\": 0, \"ticks\": \"\"}}, \"colorscale\": {\"diverging\": [[0, \"#8e0152\"], [0.1, \"#c51b7d\"], [0.2, \"#de77ae\"], [0.3, \"#f1b6da\"], [0.4, \"#fde0ef\"], [0.5, \"#f7f7f7\"], [0.6, \"#e6f5d0\"], [0.7, \"#b8e186\"], [0.8, \"#7fbc41\"], [0.9, \"#4d9221\"], [1, \"#276419\"]], \"sequential\": [[0.0, \"#0d0887\"], [0.1111111111111111, \"#46039f\"], [0.2222222222222222, \"#7201a8\"], [0.3333333333333333, \"#9c179e\"], [0.4444444444444444, \"#bd3786\"], [0.5555555555555556, \"#d8576b\"], [0.6666666666666666, \"#ed7953\"], [0.7777777777777778, \"#fb9f3a\"], [0.8888888888888888, \"#fdca26\"], [1.0, \"#f0f921\"]], \"sequentialminus\": [[0.0, \"#0d0887\"], [0.1111111111111111, \"#46039f\"], [0.2222222222222222, \"#7201a8\"], [0.3333333333333333, \"#9c179e\"], [0.4444444444444444, \"#bd3786\"], [0.5555555555555556, \"#d8576b\"], [0.6666666666666666, \"#ed7953\"], [0.7777777777777778, \"#fb9f3a\"], [0.8888888888888888, \"#fdca26\"], [1.0, \"#f0f921\"]]}, \"colorway\": [\"#636efa\", \"#EF553B\", \"#00cc96\", \"#ab63fa\", \"#FFA15A\", \"#19d3f3\", \"#FF6692\", \"#B6E880\", \"#FF97FF\", \"#FECB52\"], \"font\": {\"color\": \"#2a3f5f\"}, \"geo\": {\"bgcolor\": \"white\", \"lakecolor\": \"white\", \"landcolor\": \"#E5ECF6\", \"showlakes\": true, \"showland\": true, \"subunitcolor\": \"white\"}, \"hoverlabel\": {\"align\": \"left\"}, \"hovermode\": \"closest\", \"mapbox\": {\"style\": \"light\"}, \"paper_bgcolor\": \"white\", \"plot_bgcolor\": \"#E5ECF6\", \"polar\": {\"angularaxis\": {\"gridcolor\": \"white\", \"linecolor\": \"white\", \"ticks\": \"\"}, \"bgcolor\": \"#E5ECF6\", \"radialaxis\": {\"gridcolor\": \"white\", \"linecolor\": \"white\", \"ticks\": \"\"}}, \"scene\": {\"xaxis\": {\"backgroundcolor\": \"#E5ECF6\", \"gridcolor\": \"white\", \"gridwidth\": 2, \"linecolor\": \"white\", \"showbackground\": true, \"ticks\": \"\", \"zerolinecolor\": \"white\"}, \"yaxis\": {\"backgroundcolor\": \"#E5ECF6\", \"gridcolor\": \"white\", \"gridwidth\": 2, \"linecolor\": \"white\", \"showbackground\": true, \"ticks\": \"\", \"zerolinecolor\": \"white\"}, \"zaxis\": {\"backgroundcolor\": \"#E5ECF6\", \"gridcolor\": \"white\", \"gridwidth\": 2, \"linecolor\": \"white\", \"showbackground\": true, \"ticks\": \"\", \"zerolinecolor\": \"white\"}}, \"shapedefaults\": {\"line\": {\"color\": \"#2a3f5f\"}}, \"ternary\": {\"aaxis\": {\"gridcolor\": \"white\", \"linecolor\": \"white\", \"ticks\": \"\"}, \"baxis\": {\"gridcolor\": \"white\", \"linecolor\": \"white\", \"ticks\": \"\"}, \"bgcolor\": \"#E5ECF6\", \"caxis\": {\"gridcolor\": \"white\", \"linecolor\": \"white\", \"ticks\": \"\"}}, \"title\": {\"x\": 0.05}, \"xaxis\": {\"automargin\": true, \"gridcolor\": \"white\", \"linecolor\": \"white\", \"ticks\": \"\", \"title\": {\"standoff\": 15}, \"zerolinecolor\": \"white\", \"zerolinewidth\": 2}, \"yaxis\": {\"automargin\": true, \"gridcolor\": \"white\", \"linecolor\": \"white\", \"ticks\": \"\", \"title\": {\"standoff\": 15}, \"zerolinecolor\": \"white\", \"zerolinewidth\": 2}}}, \"title\": {\"text\": \"RMSE vs #ITERATIONS\"}, \"width\": 1050, \"xaxis\": {\"autorange\": false, \"range\": [0, 500], \"title\": {\"text\": \"# episodes\"}, \"type\": \"linear\"}, \"yaxis\": {\"autorange\": false, \"range\": [0, 30], \"title\": {\"text\": \"Root mean square error\"}, \"type\": \"linear\"}},\n",
       "                        {\"responsive\": true}\n",
       "                    ).then(function(){\n",
       "                            \n",
       "var gd = document.getElementById('2590c1b6-bcb6-44a9-bd5d-62b751c17343');\n",
       "var x = new MutationObserver(function (mutations, observer) {{\n",
       "        var display = window.getComputedStyle(gd).display;\n",
       "        if (!display || display === 'none') {{\n",
       "            console.log([gd, 'removed!']);\n",
       "            Plotly.purge(gd);\n",
       "            observer.disconnect();\n",
       "        }}\n",
       "}});\n",
       "\n",
       "// Listen for the removal of the full notebook cells\n",
       "var notebookContainer = gd.closest('#notebook-container');\n",
       "if (notebookContainer) {{\n",
       "    x.observe(notebookContainer, {childList: true});\n",
       "}}\n",
       "\n",
       "// Listen for the clearing of the current output cell\n",
       "var outputEl = gd.closest('.output');\n",
       "if (outputEl) {{\n",
       "    x.observe(outputEl, {childList: true});\n",
       "}}\n",
       "\n",
       "                        })\n",
       "                };\n",
       "                });\n",
       "            </script>\n",
       "        </div>"
      ]
     },
     "metadata": {},
     "output_type": "display_data"
    }
   ],
   "source": [
    "import chart_studio.plotly as py\n",
    "from plotly.graph_objs import *\n",
    "graficoFigo (\"RMSE vs #ITERATIONS\", [14,9,5,10,2,5,7,8,22], '# episodes', 'Root mean square error', 30)"
   ]
  },
  {
   "cell_type": "code",
   "execution_count": 88,
   "metadata": {},
   "outputs": [
    {
     "name": "stdout",
     "output_type": "stream",
     "text": [
      "Help on function graficoFigo in module __main__:\n",
      "\n",
      "graficoFigo(title, y, x_title, y_title, y_upperBound)\n",
      "    Print a scatter plot with:\n",
      "        x-axis: sequential integer \n",
      "        y-axis: list y's values\n",
      "    \n",
      "    Args:\n",
      "        title (str): plot's title\n",
      "        y (list): n-value of n-iterations \n",
      "        x_title (str): x-axis's title\n",
      "        y_title (str): y-axis's title\n",
      "        y_upperBound (int): y-axis's upper bound \n",
      "    \n",
      "    Code to install modules required:\n",
      "        pip install plotly\n",
      "        pip install \"ipywidgets>=7.2\"\n",
      "        pip install chart-studio\n",
      "    \n",
      "    Code to import modules required:\n",
      "        import chart_studio.plotly as py\n",
      "        from plotly.graph_objs import *\n",
      "\n"
     ]
    }
   ],
   "source": [
    "help(graficoFigo)"
   ]
  },
  {
   "cell_type": "code",
   "execution_count": 89,
   "metadata": {},
   "outputs": [
    {
     "data": {
      "application/vnd.plotly.v1+json": {
       "config": {
        "plotlyServerURL": "https://plot.ly"
       },
       "data": [
        {
         "name": "RMSE (Root Mean Square Error)",
         "type": "scatter",
         "uid": "5eacaf",
         "x": [
          0,
          1,
          2,
          3,
          4,
          5,
          6,
          7,
          8,
          9,
          10,
          11,
          12,
          13,
          14,
          15,
          16,
          17,
          18,
          19,
          20,
          21,
          22,
          23,
          24,
          25,
          26,
          27,
          28,
          29,
          30,
          31,
          32,
          33,
          34,
          35,
          36,
          37,
          38,
          39,
          40,
          41,
          42,
          43,
          44,
          45,
          46,
          47,
          48,
          49,
          50,
          51,
          52,
          53,
          54,
          55,
          56,
          57,
          58,
          59,
          60,
          61,
          62,
          63,
          64,
          65,
          66,
          67,
          68,
          69,
          70,
          71,
          72,
          73,
          74,
          75,
          76,
          77,
          78,
          79,
          80,
          81,
          82,
          83,
          84,
          85,
          86,
          87,
          88,
          89,
          90,
          91,
          92,
          93,
          94,
          95,
          96,
          97,
          98,
          99,
          100,
          101,
          102,
          103,
          104,
          105,
          106,
          107,
          108,
          109,
          110,
          111,
          112,
          113,
          114,
          115,
          116,
          117,
          118,
          119,
          120,
          121,
          122,
          123,
          124,
          125,
          126,
          127,
          128,
          129,
          130,
          131,
          132,
          133,
          134,
          135,
          136,
          137,
          138,
          139,
          140,
          141,
          142,
          143,
          144,
          145,
          146,
          147,
          148,
          149,
          150,
          151,
          152,
          153,
          154,
          155,
          156,
          157,
          158,
          159,
          160,
          161,
          162,
          163,
          164,
          165,
          166,
          167,
          168,
          169,
          170,
          171,
          172,
          173,
          174,
          175,
          176,
          177,
          178,
          179,
          180,
          181,
          182,
          183,
          184,
          185,
          186,
          187,
          188,
          189,
          190,
          191,
          192,
          193,
          194,
          195,
          196,
          197,
          198,
          199,
          200,
          201,
          202,
          203,
          204,
          205,
          206,
          207,
          208,
          209,
          210,
          211,
          212,
          213,
          214,
          215,
          216,
          217,
          218,
          219,
          220,
          221,
          222,
          223,
          224,
          225,
          226,
          227,
          228,
          229,
          230,
          231,
          232,
          233,
          234,
          235,
          236,
          237,
          238,
          239,
          240,
          241,
          242,
          243,
          244,
          245,
          246,
          247,
          248,
          249,
          250,
          251,
          252,
          253,
          254,
          255,
          256,
          257,
          258,
          259,
          260,
          261,
          262,
          263,
          264,
          265,
          266,
          267,
          268,
          269,
          270,
          271,
          272,
          273,
          274,
          275,
          276,
          277,
          278,
          279,
          280,
          281,
          282,
          283,
          284,
          285,
          286,
          287,
          288,
          289,
          290,
          291,
          292,
          293,
          294,
          295,
          296,
          297,
          298,
          299,
          300,
          301,
          302,
          303,
          304,
          305,
          306,
          307,
          308,
          309,
          310,
          311,
          312,
          313,
          314,
          315,
          316,
          317,
          318,
          319,
          320,
          321,
          322,
          323,
          324,
          325,
          326,
          327,
          328,
          329,
          330,
          331,
          332,
          333,
          334,
          335,
          336,
          337,
          338,
          339,
          340,
          341,
          342,
          343,
          344,
          345,
          346,
          347,
          348,
          349,
          350,
          351,
          352,
          353,
          354,
          355,
          356,
          357,
          358,
          359,
          360,
          361,
          362,
          363,
          364,
          365,
          366,
          367,
          368,
          369,
          370,
          371,
          372,
          373,
          374,
          375,
          376,
          377,
          378,
          379,
          380,
          381,
          382,
          383,
          384,
          385,
          386,
          387,
          388,
          389,
          390,
          391,
          392,
          393,
          394,
          395,
          396,
          397,
          398,
          399,
          400,
          401,
          402,
          403,
          404,
          405,
          406,
          407,
          408,
          409,
          410,
          411,
          412,
          413,
          414,
          415,
          416,
          417,
          418,
          419,
          420,
          421,
          422,
          423,
          424,
          425,
          426,
          427,
          428,
          429,
          430,
          431,
          432,
          433,
          434,
          435,
          436,
          437,
          438,
          439,
          440,
          441,
          442,
          443,
          444,
          445,
          446,
          447,
          448,
          449,
          450,
          451,
          452,
          453,
          454,
          455,
          456,
          457,
          458,
          459,
          460,
          461,
          462,
          463,
          464,
          465,
          466,
          467,
          468,
          469,
          470,
          471,
          472,
          473,
          474,
          475,
          476,
          477,
          478,
          479,
          480,
          481,
          482,
          483,
          484,
          485,
          486,
          487,
          488,
          489,
          490,
          491,
          492,
          493,
          494,
          495,
          496,
          497,
          498,
          499
         ],
         "y": [
          1,
          0.995,
          0.990025,
          0.985074875,
          0.980149500625,
          0.975248753121875,
          0.9703725093562656,
          0.9655206468094842,
          0.9606930435754368,
          0.9558895783575596,
          0.9511101304657719,
          0.946354579813443,
          0.9416228069143757,
          0.9369146928798039,
          0.9322301194154049,
          0.9275689688183278,
          0.9229311239742362,
          0.918316468354365,
          0.9137248860125932,
          0.9091562615825302,
          0.9046104802746175,
          0.9000874278732445,
          0.8955869907338783,
          0.8911090557802088,
          0.8866535105013078,
          0.8822202429488012,
          0.8778091417340572,
          0.873420096025387,
          0.86905299554526,
          0.8647077305675337,
          0.8603841919146961,
          0.8560822709551226,
          0.8518018596003469,
          0.8475428503023452,
          0.8433051360508335,
          0.8390886103705792,
          0.8348931673187264,
          0.8307187014821328,
          0.826565107974722,
          0.8224322824348484,
          0.8183201210226743,
          0.8142285204175609,
          0.810157377815473,
          0.8061065909263957,
          0.8020760579717637,
          0.7980656776819048,
          0.7940753492934953,
          0.7901049725470278,
          0.7861544476842928,
          0.7822236754458712,
          0.7783125570686419,
          0.7744209942832987,
          0.7705488893118821,
          0.7666961448653228,
          0.7628626641409961,
          0.7590483508202912,
          0.7552531090661897,
          0.7514768435208588,
          0.7477194593032545,
          0.7439808620067382,
          0.7402609576967045,
          0.736559652908221,
          0.7328768546436799,
          0.7292124703704614,
          0.7255664080186092,
          0.7219385759785161,
          0.7183288830986235,
          0.7147372386831304,
          0.7111635524897147,
          0.7076077347272661,
          0.7040696960536298,
          0.7005493475733616,
          0.6970466008354949,
          0.6935613678313174,
          0.6900935609921608,
          0.6866430931872,
          0.683209877721264,
          0.6797938283326577,
          0.6763948591909944,
          0.6730128848950394,
          0.6696478204705641,
          0.6662995813682113,
          0.6629680834613703,
          0.6596532430440635,
          0.6563549768288431,
          0.6530732019446989,
          0.6498078359349754,
          0.6465587967553006,
          0.6433260027715241,
          0.6401093727576664,
          0.6369088258938781,
          0.6337242817644086,
          0.6305556603555866,
          0.6274028820538087,
          0.6242658676435396,
          0.6211445383053219,
          0.6180388156137954,
          0.6149486215357264,
          0.6118738784280477,
          0.6088145090359075,
          0.6057704364907279,
          0.6027415843082743,
          0.599727876386733,
          0.5967292370047993,
          0.5937455908197753,
          0.5907768628656764,
          0.587822978551348,
          0.5848838636585912,
          0.5819594443402983,
          0.5790496471185969,
          0.5761543988830038,
          0.5732736268885888,
          0.5704072587541459,
          0.5675552224603752,
          0.5647174463480732,
          0.5618938591163328,
          0.5590843898207511,
          0.5562889678716475,
          0.5535075230322892,
          0.5507399854171278,
          0.5479862854900421,
          0.5452463540625919,
          0.542520122292279,
          0.5398075216808176,
          0.5371084840724134,
          0.5344229416520514,
          0.5317508269437912,
          0.5290920728090721,
          0.5264466124450268,
          0.5238143793828016,
          0.5211953074858876,
          0.5185893309484582,
          0.515996384293716,
          0.5134164023722474,
          0.5108493203603861,
          0.5082950737585842,
          0.5057535983897913,
          0.5032248303978423,
          0.5007087062458531,
          0.4982051627146238,
          0.4957141369010507,
          0.4932355662165454,
          0.4907693883854627,
          0.4883155414435354,
          0.4858739637363177,
          0.4834445939176361,
          0.4810273709480479,
          0.4786222340933077,
          0.47622912292284114,
          0.4738479773082269,
          0.4714787374216858,
          0.46912134373457737,
          0.46677573701590447,
          0.46444185833082496,
          0.46211964903917085,
          0.459809050793975,
          0.4575100055400051,
          0.45522245551230506,
          0.45294634323474353,
          0.45068161151856984,
          0.44842820346097695,
          0.4461860624436721,
          0.4439551321314537,
          0.4417353564707965,
          0.43952667968844245,
          0.43732904629000025,
          0.43514240105855023,
          0.4329666890532575,
          0.4308018556079912,
          0.42864784632995123,
          0.4265046070983015,
          0.42437208406280996,
          0.4222502236424959,
          0.42013897252428345,
          0.418038277661662,
          0.4159480862733537,
          0.41386834584198695,
          0.41179900411277703,
          0.40974000909221314,
          0.40769130904675205,
          0.4056528525015183,
          0.4036245882390107,
          0.40160646529781563,
          0.3995984329713266,
          0.39760044080646995,
          0.39561243860243755,
          0.3936343764094254,
          0.39166620452737827,
          0.3897078735047414,
          0.38775933413721764,
          0.38582053746653155,
          0.3838914347791989,
          0.38197197760530294,
          0.3800621177172764,
          0.37816180712869,
          0.37627099809304654,
          0.3743896431025813,
          0.37251769488706843,
          0.37065510641263305,
          0.3688018308805699,
          0.36695782172616703,
          0.3651230326175362,
          0.36329741745444855,
          0.3614809303671763,
          0.3596735257153404,
          0.35787515808676373,
          0.35608578229632987,
          0.35430535338484825,
          0.352533826617924,
          0.3507711574848344,
          0.3490173016974102,
          0.34727221518892315,
          0.34553585411297855,
          0.34380817484241366,
          0.34208913396820156,
          0.34037868829836054,
          0.33867679485686875,
          0.33698341088258443,
          0.3352984938281715,
          0.33362200135903064,
          0.33195389135223546,
          0.3302941218954743,
          0.3286426512859969,
          0.32699943802956694,
          0.3253644408394191,
          0.323737618635222,
          0.3221189305420459,
          0.32050833588933564,
          0.31890579420988896,
          0.3173112652388395,
          0.3157247089126453,
          0.3141460853680821,
          0.31257535494124167,
          0.3110124781665355,
          0.3094574157757028,
          0.30791012869682427,
          0.30637057805334017,
          0.3048387251630735,
          0.30331453153725807,
          0.3017979588795718,
          0.30028896908517394,
          0.2987875242397481,
          0.2972935866185493,
          0.29580711868545656,
          0.2943280830920293,
          0.29285644267656913,
          0.2913921604631863,
          0.2899351996608704,
          0.288485523662566,
          0.2870430960442532,
          0.2856078805640319,
          0.28417984116121175,
          0.2827589419554057,
          0.28134514724562865,
          0.2799384215094005,
          0.27853872940185354,
          0.27714603575484426,
          0.27576030557607,
          0.2743815040481897,
          0.2730095965279487,
          0.271644548545309,
          0.27028632580258244,
          0.2689348941735695,
          0.2675902197027017,
          0.26625226860418816,
          0.26492100726116724,
          0.26359640222486136,
          0.2622784202137371,
          0.26096702811266836,
          0.259662192972105,
          0.2583638820072445,
          0.2570720625972083,
          0.25578670228422223,
          0.2545077687728011,
          0.25323522992893716,
          0.25196905377929246,
          0.25070920851039596,
          0.249455662467844,
          0.24820838415550478,
          0.24696734223472724,
          0.2457325055235536,
          0.24450384299593586,
          0.24328132378095618,
          0.2420649171620514,
          0.24085459257624112,
          0.23965031961335992,
          0.23845206801529312,
          0.23725980767521665,
          0.23607350863684057,
          0.23489314109365636,
          0.23371867538818808,
          0.23255008201124713,
          0.2313873316011909,
          0.23023039494318495,
          0.22907924296846902,
          0.22793384675362668,
          0.22679417751985856,
          0.22566020663225925,
          0.22453190559909794,
          0.22340924607110246,
          0.22229219984074694,
          0.2211807388415432,
          0.2200748351473355,
          0.2189744609715988,
          0.21787958866674081,
          0.2167901907234071,
          0.2157062397697901,
          0.21462770857094113,
          0.21355457002808642,
          0.212486797177946,
          0.21142436319205626,
          0.21036724137609597,
          0.20931540516921548,
          0.20826882814336942,
          0.20722748400265256,
          0.2061913465826393,
          0.20516038984972612,
          0.20413458790047748,
          0.20311391496097508,
          0.20209834538617022,
          0.20108785365923937,
          0.20008241439094315,
          0.19908200231898845,
          0.1980865923073935,
          0.19709615934585653,
          0.19611067854912725,
          0.19513012515638162,
          0.1941544745305997,
          0.1931837021579467,
          0.19221778364715697,
          0.19125669472892118,
          0.19030041125527658,
          0.1893489091990002,
          0.1884021646530052,
          0.18746015382974016,
          0.18652285306059146,
          0.18559023879528852,
          0.18466228760131206,
          0.1837389761633055,
          0.18282028128248898,
          0.18190617987607652,
          0.18099664897669615,
          0.18009166573181265,
          0.1791912074031536,
          0.17829525136613783,
          0.17740377510930713,
          0.1765167562337606,
          0.1756341724525918,
          0.17475600159032884,
          0.1738822215823772,
          0.17301281047446532,
          0.172147746422093,
          0.1712870076899825,
          0.1704305726515326,
          0.16957841978827493,
          0.16873052768933355,
          0.1678868750508869,
          0.16704744067563246,
          0.1662122034722543,
          0.16538114245489302,
          0.16455423674261857,
          0.16373146555890547,
          0.16291280823111093,
          0.1620982441899554,
          0.1612877529690056,
          0.16048131420416056,
          0.15967890763313977,
          0.15888051309497409,
          0.1580861105294992,
          0.1572956799768517,
          0.15650920157696743,
          0.1557266555690826,
          0.1549480222912372,
          0.15417328217978102,
          0.1534024157688821,
          0.1526354036900377,
          0.1518722266715875,
          0.15111286553822956,
          0.15035730121053842,
          0.14960551470448571,
          0.14885748713096328,
          0.14811319969530848,
          0.14737263369683193,
          0.14663577052834778,
          0.14590259167570604,
          0.14517307871732751,
          0.14444721332374086,
          0.14372497725712216,
          0.14300635237083656,
          0.14229132060898236,
          0.14157986400593744,
          0.14087196468590776,
          0.14016760486247823,
          0.13946676683816583,
          0.138769433003975,
          0.13807558583895513,
          0.13738520790976036,
          0.13669828187021155,
          0.13601479046086049,
          0.1353347165085562,
          0.1346580429260134,
          0.13398475271138333,
          0.13331482894782642,
          0.13264825480308728,
          0.13198501352907185,
          0.1313250884614265,
          0.13066846301911936,
          0.13001512070402377,
          0.12936504510050365,
          0.12871821987500112,
          0.12807462877562611,
          0.12743425563174798,
          0.12679708435358925,
          0.1261630989318213,
          0.1255322834371622,
          0.12490462201997637,
          0.1242800989098765,
          0.12365869841532712,
          0.12304040492325048,
          0.12242520289863422,
          0.12181307688414106,
          0.12120401149972035,
          0.12059799144222175,
          0.11999500148501063,
          0.11939502647758558,
          0.11879805134519765,
          0.11820406108847166,
          0.11761304078302931,
          0.11702497557911416,
          0.11643985070121858,
          0.1158576514477125,
          0.11527836319047394,
          0.11470197137452157,
          0.11412846151764895,
          0.11355781921006071,
          0.1129900301140104,
          0.11242507996344035,
          0.11186295456362315,
          0.11130363979080503,
          0.110747121591851,
          0.11019338598389175,
          0.10964241905397229,
          0.10909420695870244,
          0.10854873592390892,
          0.10800599224428938,
          0.10746596228306793,
          0.10692863247165259,
          0.10639398930929432,
          0.10586201936274785,
          0.1053327092659341,
          0.10480604571960443,
          0.10428201549100642,
          0.10376060541355138,
          0.10324180238648363,
          0.10272559337455121,
          0.10221196540767845,
          0.10170090558064006,
          0.10119240105273686,
          0.10068643904747317,
          0.1001830068522358,
          0.09968209181797463,
          0.09918368135888475,
          0.09868776295209034,
          0.09819432413732988,
          0.09770335251664322,
          0.09721483575406001,
          0.09672876157528972,
          0.09624511776741326,
          0.0957638921785762,
          0.09528507271768331,
          0.0948086473540949,
          0.09433460411732442,
          0.0938629310967378,
          0.09339361644125412,
          0.09292664835904783,
          0.0924620151172526,
          0.09199970504166634,
          0.091539706516458,
          0.09108200798387571,
          0.09062659794395633,
          0.09017346495423655,
          0.08972259762946537,
          0.08927398464131804,
          0.08882761471811144,
          0.0883834766445209,
          0.08794155926129829,
          0.0875018514649918,
          0.08706434220766683,
          0.0866290204966285,
          0.08619587539414536,
          0.08576489601717463,
          0.08533607153708876,
          0.08490939117940331,
          0.0844848442235063,
          0.08406242000238877,
          0.08364210790237682,
          0.08322389736286494,
          0.0828077778760506,
          0.08239373898667036,
          0.081981770291737
         ]
        }
       ],
       "layout": {
        "annotations": [
         {
          "font": {
           "size": 16
          },
          "showarrow": false,
          "text": "α (Learning rate) = 0.001, epsilon: 0.995**(#episodes)",
          "x": 350,
          "y": -4
         }
        ],
        "autosize": true,
        "height": 793,
        "template": {
         "data": {
          "bar": [
           {
            "error_x": {
             "color": "#2a3f5f"
            },
            "error_y": {
             "color": "#2a3f5f"
            },
            "marker": {
             "line": {
              "color": "#E5ECF6",
              "width": 0.5
             }
            },
            "type": "bar"
           }
          ],
          "barpolar": [
           {
            "marker": {
             "line": {
              "color": "#E5ECF6",
              "width": 0.5
             }
            },
            "type": "barpolar"
           }
          ],
          "carpet": [
           {
            "aaxis": {
             "endlinecolor": "#2a3f5f",
             "gridcolor": "white",
             "linecolor": "white",
             "minorgridcolor": "white",
             "startlinecolor": "#2a3f5f"
            },
            "baxis": {
             "endlinecolor": "#2a3f5f",
             "gridcolor": "white",
             "linecolor": "white",
             "minorgridcolor": "white",
             "startlinecolor": "#2a3f5f"
            },
            "type": "carpet"
           }
          ],
          "choropleth": [
           {
            "colorbar": {
             "outlinewidth": 0,
             "ticks": ""
            },
            "type": "choropleth"
           }
          ],
          "contour": [
           {
            "colorbar": {
             "outlinewidth": 0,
             "ticks": ""
            },
            "colorscale": [
             [
              0,
              "#0d0887"
             ],
             [
              0.1111111111111111,
              "#46039f"
             ],
             [
              0.2222222222222222,
              "#7201a8"
             ],
             [
              0.3333333333333333,
              "#9c179e"
             ],
             [
              0.4444444444444444,
              "#bd3786"
             ],
             [
              0.5555555555555556,
              "#d8576b"
             ],
             [
              0.6666666666666666,
              "#ed7953"
             ],
             [
              0.7777777777777778,
              "#fb9f3a"
             ],
             [
              0.8888888888888888,
              "#fdca26"
             ],
             [
              1,
              "#f0f921"
             ]
            ],
            "type": "contour"
           }
          ],
          "contourcarpet": [
           {
            "colorbar": {
             "outlinewidth": 0,
             "ticks": ""
            },
            "type": "contourcarpet"
           }
          ],
          "heatmap": [
           {
            "colorbar": {
             "outlinewidth": 0,
             "ticks": ""
            },
            "colorscale": [
             [
              0,
              "#0d0887"
             ],
             [
              0.1111111111111111,
              "#46039f"
             ],
             [
              0.2222222222222222,
              "#7201a8"
             ],
             [
              0.3333333333333333,
              "#9c179e"
             ],
             [
              0.4444444444444444,
              "#bd3786"
             ],
             [
              0.5555555555555556,
              "#d8576b"
             ],
             [
              0.6666666666666666,
              "#ed7953"
             ],
             [
              0.7777777777777778,
              "#fb9f3a"
             ],
             [
              0.8888888888888888,
              "#fdca26"
             ],
             [
              1,
              "#f0f921"
             ]
            ],
            "type": "heatmap"
           }
          ],
          "heatmapgl": [
           {
            "colorbar": {
             "outlinewidth": 0,
             "ticks": ""
            },
            "colorscale": [
             [
              0,
              "#0d0887"
             ],
             [
              0.1111111111111111,
              "#46039f"
             ],
             [
              0.2222222222222222,
              "#7201a8"
             ],
             [
              0.3333333333333333,
              "#9c179e"
             ],
             [
              0.4444444444444444,
              "#bd3786"
             ],
             [
              0.5555555555555556,
              "#d8576b"
             ],
             [
              0.6666666666666666,
              "#ed7953"
             ],
             [
              0.7777777777777778,
              "#fb9f3a"
             ],
             [
              0.8888888888888888,
              "#fdca26"
             ],
             [
              1,
              "#f0f921"
             ]
            ],
            "type": "heatmapgl"
           }
          ],
          "histogram": [
           {
            "marker": {
             "colorbar": {
              "outlinewidth": 0,
              "ticks": ""
             }
            },
            "type": "histogram"
           }
          ],
          "histogram2d": [
           {
            "colorbar": {
             "outlinewidth": 0,
             "ticks": ""
            },
            "colorscale": [
             [
              0,
              "#0d0887"
             ],
             [
              0.1111111111111111,
              "#46039f"
             ],
             [
              0.2222222222222222,
              "#7201a8"
             ],
             [
              0.3333333333333333,
              "#9c179e"
             ],
             [
              0.4444444444444444,
              "#bd3786"
             ],
             [
              0.5555555555555556,
              "#d8576b"
             ],
             [
              0.6666666666666666,
              "#ed7953"
             ],
             [
              0.7777777777777778,
              "#fb9f3a"
             ],
             [
              0.8888888888888888,
              "#fdca26"
             ],
             [
              1,
              "#f0f921"
             ]
            ],
            "type": "histogram2d"
           }
          ],
          "histogram2dcontour": [
           {
            "colorbar": {
             "outlinewidth": 0,
             "ticks": ""
            },
            "colorscale": [
             [
              0,
              "#0d0887"
             ],
             [
              0.1111111111111111,
              "#46039f"
             ],
             [
              0.2222222222222222,
              "#7201a8"
             ],
             [
              0.3333333333333333,
              "#9c179e"
             ],
             [
              0.4444444444444444,
              "#bd3786"
             ],
             [
              0.5555555555555556,
              "#d8576b"
             ],
             [
              0.6666666666666666,
              "#ed7953"
             ],
             [
              0.7777777777777778,
              "#fb9f3a"
             ],
             [
              0.8888888888888888,
              "#fdca26"
             ],
             [
              1,
              "#f0f921"
             ]
            ],
            "type": "histogram2dcontour"
           }
          ],
          "mesh3d": [
           {
            "colorbar": {
             "outlinewidth": 0,
             "ticks": ""
            },
            "type": "mesh3d"
           }
          ],
          "parcoords": [
           {
            "line": {
             "colorbar": {
              "outlinewidth": 0,
              "ticks": ""
             }
            },
            "type": "parcoords"
           }
          ],
          "pie": [
           {
            "automargin": true,
            "type": "pie"
           }
          ],
          "scatter": [
           {
            "marker": {
             "colorbar": {
              "outlinewidth": 0,
              "ticks": ""
             }
            },
            "type": "scatter"
           }
          ],
          "scatter3d": [
           {
            "line": {
             "colorbar": {
              "outlinewidth": 0,
              "ticks": ""
             }
            },
            "marker": {
             "colorbar": {
              "outlinewidth": 0,
              "ticks": ""
             }
            },
            "type": "scatter3d"
           }
          ],
          "scattercarpet": [
           {
            "marker": {
             "colorbar": {
              "outlinewidth": 0,
              "ticks": ""
             }
            },
            "type": "scattercarpet"
           }
          ],
          "scattergeo": [
           {
            "marker": {
             "colorbar": {
              "outlinewidth": 0,
              "ticks": ""
             }
            },
            "type": "scattergeo"
           }
          ],
          "scattergl": [
           {
            "marker": {
             "colorbar": {
              "outlinewidth": 0,
              "ticks": ""
             }
            },
            "type": "scattergl"
           }
          ],
          "scattermapbox": [
           {
            "marker": {
             "colorbar": {
              "outlinewidth": 0,
              "ticks": ""
             }
            },
            "type": "scattermapbox"
           }
          ],
          "scatterpolar": [
           {
            "marker": {
             "colorbar": {
              "outlinewidth": 0,
              "ticks": ""
             }
            },
            "type": "scatterpolar"
           }
          ],
          "scatterpolargl": [
           {
            "marker": {
             "colorbar": {
              "outlinewidth": 0,
              "ticks": ""
             }
            },
            "type": "scatterpolargl"
           }
          ],
          "scatterternary": [
           {
            "marker": {
             "colorbar": {
              "outlinewidth": 0,
              "ticks": ""
             }
            },
            "type": "scatterternary"
           }
          ],
          "surface": [
           {
            "colorbar": {
             "outlinewidth": 0,
             "ticks": ""
            },
            "colorscale": [
             [
              0,
              "#0d0887"
             ],
             [
              0.1111111111111111,
              "#46039f"
             ],
             [
              0.2222222222222222,
              "#7201a8"
             ],
             [
              0.3333333333333333,
              "#9c179e"
             ],
             [
              0.4444444444444444,
              "#bd3786"
             ],
             [
              0.5555555555555556,
              "#d8576b"
             ],
             [
              0.6666666666666666,
              "#ed7953"
             ],
             [
              0.7777777777777778,
              "#fb9f3a"
             ],
             [
              0.8888888888888888,
              "#fdca26"
             ],
             [
              1,
              "#f0f921"
             ]
            ],
            "type": "surface"
           }
          ],
          "table": [
           {
            "cells": {
             "fill": {
              "color": "#EBF0F8"
             },
             "line": {
              "color": "white"
             }
            },
            "header": {
             "fill": {
              "color": "#C8D4E3"
             },
             "line": {
              "color": "white"
             }
            },
            "type": "table"
           }
          ]
         },
         "layout": {
          "annotationdefaults": {
           "arrowcolor": "#2a3f5f",
           "arrowhead": 0,
           "arrowwidth": 1
          },
          "coloraxis": {
           "colorbar": {
            "outlinewidth": 0,
            "ticks": ""
           }
          },
          "colorscale": {
           "diverging": [
            [
             0,
             "#8e0152"
            ],
            [
             0.1,
             "#c51b7d"
            ],
            [
             0.2,
             "#de77ae"
            ],
            [
             0.3,
             "#f1b6da"
            ],
            [
             0.4,
             "#fde0ef"
            ],
            [
             0.5,
             "#f7f7f7"
            ],
            [
             0.6,
             "#e6f5d0"
            ],
            [
             0.7,
             "#b8e186"
            ],
            [
             0.8,
             "#7fbc41"
            ],
            [
             0.9,
             "#4d9221"
            ],
            [
             1,
             "#276419"
            ]
           ],
           "sequential": [
            [
             0,
             "#0d0887"
            ],
            [
             0.1111111111111111,
             "#46039f"
            ],
            [
             0.2222222222222222,
             "#7201a8"
            ],
            [
             0.3333333333333333,
             "#9c179e"
            ],
            [
             0.4444444444444444,
             "#bd3786"
            ],
            [
             0.5555555555555556,
             "#d8576b"
            ],
            [
             0.6666666666666666,
             "#ed7953"
            ],
            [
             0.7777777777777778,
             "#fb9f3a"
            ],
            [
             0.8888888888888888,
             "#fdca26"
            ],
            [
             1,
             "#f0f921"
            ]
           ],
           "sequentialminus": [
            [
             0,
             "#0d0887"
            ],
            [
             0.1111111111111111,
             "#46039f"
            ],
            [
             0.2222222222222222,
             "#7201a8"
            ],
            [
             0.3333333333333333,
             "#9c179e"
            ],
            [
             0.4444444444444444,
             "#bd3786"
            ],
            [
             0.5555555555555556,
             "#d8576b"
            ],
            [
             0.6666666666666666,
             "#ed7953"
            ],
            [
             0.7777777777777778,
             "#fb9f3a"
            ],
            [
             0.8888888888888888,
             "#fdca26"
            ],
            [
             1,
             "#f0f921"
            ]
           ]
          },
          "colorway": [
           "#636efa",
           "#EF553B",
           "#00cc96",
           "#ab63fa",
           "#FFA15A",
           "#19d3f3",
           "#FF6692",
           "#B6E880",
           "#FF97FF",
           "#FECB52"
          ],
          "font": {
           "color": "#2a3f5f"
          },
          "geo": {
           "bgcolor": "white",
           "lakecolor": "white",
           "landcolor": "#E5ECF6",
           "showlakes": true,
           "showland": true,
           "subunitcolor": "white"
          },
          "hoverlabel": {
           "align": "left"
          },
          "hovermode": "closest",
          "mapbox": {
           "style": "light"
          },
          "paper_bgcolor": "white",
          "plot_bgcolor": "#E5ECF6",
          "polar": {
           "angularaxis": {
            "gridcolor": "white",
            "linecolor": "white",
            "ticks": ""
           },
           "bgcolor": "#E5ECF6",
           "radialaxis": {
            "gridcolor": "white",
            "linecolor": "white",
            "ticks": ""
           }
          },
          "scene": {
           "xaxis": {
            "backgroundcolor": "#E5ECF6",
            "gridcolor": "white",
            "gridwidth": 2,
            "linecolor": "white",
            "showbackground": true,
            "ticks": "",
            "zerolinecolor": "white"
           },
           "yaxis": {
            "backgroundcolor": "#E5ECF6",
            "gridcolor": "white",
            "gridwidth": 2,
            "linecolor": "white",
            "showbackground": true,
            "ticks": "",
            "zerolinecolor": "white"
           },
           "zaxis": {
            "backgroundcolor": "#E5ECF6",
            "gridcolor": "white",
            "gridwidth": 2,
            "linecolor": "white",
            "showbackground": true,
            "ticks": "",
            "zerolinecolor": "white"
           }
          },
          "shapedefaults": {
           "line": {
            "color": "#2a3f5f"
           }
          },
          "ternary": {
           "aaxis": {
            "gridcolor": "white",
            "linecolor": "white",
            "ticks": ""
           },
           "baxis": {
            "gridcolor": "white",
            "linecolor": "white",
            "ticks": ""
           },
           "bgcolor": "#E5ECF6",
           "caxis": {
            "gridcolor": "white",
            "linecolor": "white",
            "ticks": ""
           }
          },
          "title": {
           "x": 0.05
          },
          "xaxis": {
           "automargin": true,
           "gridcolor": "white",
           "linecolor": "white",
           "ticks": "",
           "title": {
            "standoff": 15
           },
           "zerolinecolor": "white",
           "zerolinewidth": 2
          },
          "yaxis": {
           "automargin": true,
           "gridcolor": "white",
           "linecolor": "white",
           "ticks": "",
           "title": {
            "standoff": 15
           },
           "zerolinecolor": "white",
           "zerolinewidth": 2
          }
         }
        },
        "title": {
         "text": "ϵ decay"
        },
        "width": 1050,
        "xaxis": {
         "autorange": false,
         "range": [
          0,
          500
         ],
         "title": {
          "text": "# episodes"
         },
         "type": "linear"
        },
        "yaxis": {
         "autorange": false,
         "range": [
          0,
          1
         ],
         "title": {
          "text": "epsilon"
         },
         "type": "linear"
        }
       }
      },
      "text/html": [
       "<div>\n",
       "        \n",
       "        \n",
       "            <div id=\"b52d7505-7810-4028-a062-4ce80a62ad4e\" class=\"plotly-graph-div\" style=\"height:793px; width:1050px;\"></div>\n",
       "            <script type=\"text/javascript\">\n",
       "                require([\"plotly\"], function(Plotly) {\n",
       "                    window.PLOTLYENV=window.PLOTLYENV || {};\n",
       "                    \n",
       "                if (document.getElementById(\"b52d7505-7810-4028-a062-4ce80a62ad4e\")) {\n",
       "                    Plotly.newPlot(\n",
       "                        'b52d7505-7810-4028-a062-4ce80a62ad4e',\n",
       "                        [{\"name\": \"RMSE (Root Mean Square Error)\", \"type\": \"scatter\", \"uid\": \"5eacaf\", \"x\": [0, 1, 2, 3, 4, 5, 6, 7, 8, 9, 10, 11, 12, 13, 14, 15, 16, 17, 18, 19, 20, 21, 22, 23, 24, 25, 26, 27, 28, 29, 30, 31, 32, 33, 34, 35, 36, 37, 38, 39, 40, 41, 42, 43, 44, 45, 46, 47, 48, 49, 50, 51, 52, 53, 54, 55, 56, 57, 58, 59, 60, 61, 62, 63, 64, 65, 66, 67, 68, 69, 70, 71, 72, 73, 74, 75, 76, 77, 78, 79, 80, 81, 82, 83, 84, 85, 86, 87, 88, 89, 90, 91, 92, 93, 94, 95, 96, 97, 98, 99, 100, 101, 102, 103, 104, 105, 106, 107, 108, 109, 110, 111, 112, 113, 114, 115, 116, 117, 118, 119, 120, 121, 122, 123, 124, 125, 126, 127, 128, 129, 130, 131, 132, 133, 134, 135, 136, 137, 138, 139, 140, 141, 142, 143, 144, 145, 146, 147, 148, 149, 150, 151, 152, 153, 154, 155, 156, 157, 158, 159, 160, 161, 162, 163, 164, 165, 166, 167, 168, 169, 170, 171, 172, 173, 174, 175, 176, 177, 178, 179, 180, 181, 182, 183, 184, 185, 186, 187, 188, 189, 190, 191, 192, 193, 194, 195, 196, 197, 198, 199, 200, 201, 202, 203, 204, 205, 206, 207, 208, 209, 210, 211, 212, 213, 214, 215, 216, 217, 218, 219, 220, 221, 222, 223, 224, 225, 226, 227, 228, 229, 230, 231, 232, 233, 234, 235, 236, 237, 238, 239, 240, 241, 242, 243, 244, 245, 246, 247, 248, 249, 250, 251, 252, 253, 254, 255, 256, 257, 258, 259, 260, 261, 262, 263, 264, 265, 266, 267, 268, 269, 270, 271, 272, 273, 274, 275, 276, 277, 278, 279, 280, 281, 282, 283, 284, 285, 286, 287, 288, 289, 290, 291, 292, 293, 294, 295, 296, 297, 298, 299, 300, 301, 302, 303, 304, 305, 306, 307, 308, 309, 310, 311, 312, 313, 314, 315, 316, 317, 318, 319, 320, 321, 322, 323, 324, 325, 326, 327, 328, 329, 330, 331, 332, 333, 334, 335, 336, 337, 338, 339, 340, 341, 342, 343, 344, 345, 346, 347, 348, 349, 350, 351, 352, 353, 354, 355, 356, 357, 358, 359, 360, 361, 362, 363, 364, 365, 366, 367, 368, 369, 370, 371, 372, 373, 374, 375, 376, 377, 378, 379, 380, 381, 382, 383, 384, 385, 386, 387, 388, 389, 390, 391, 392, 393, 394, 395, 396, 397, 398, 399, 400, 401, 402, 403, 404, 405, 406, 407, 408, 409, 410, 411, 412, 413, 414, 415, 416, 417, 418, 419, 420, 421, 422, 423, 424, 425, 426, 427, 428, 429, 430, 431, 432, 433, 434, 435, 436, 437, 438, 439, 440, 441, 442, 443, 444, 445, 446, 447, 448, 449, 450, 451, 452, 453, 454, 455, 456, 457, 458, 459, 460, 461, 462, 463, 464, 465, 466, 467, 468, 469, 470, 471, 472, 473, 474, 475, 476, 477, 478, 479, 480, 481, 482, 483, 484, 485, 486, 487, 488, 489, 490, 491, 492, 493, 494, 495, 496, 497, 498, 499], \"y\": [1.0, 0.995, 0.990025, 0.985074875, 0.980149500625, 0.975248753121875, 0.9703725093562656, 0.9655206468094842, 0.9606930435754368, 0.9558895783575596, 0.9511101304657719, 0.946354579813443, 0.9416228069143757, 0.9369146928798039, 0.9322301194154049, 0.9275689688183278, 0.9229311239742362, 0.918316468354365, 0.9137248860125932, 0.9091562615825302, 0.9046104802746175, 0.9000874278732445, 0.8955869907338783, 0.8911090557802088, 0.8866535105013078, 0.8822202429488012, 0.8778091417340572, 0.873420096025387, 0.86905299554526, 0.8647077305675337, 0.8603841919146961, 0.8560822709551226, 0.8518018596003469, 0.8475428503023452, 0.8433051360508335, 0.8390886103705792, 0.8348931673187264, 0.8307187014821328, 0.826565107974722, 0.8224322824348484, 0.8183201210226743, 0.8142285204175609, 0.810157377815473, 0.8061065909263957, 0.8020760579717637, 0.7980656776819048, 0.7940753492934953, 0.7901049725470278, 0.7861544476842928, 0.7822236754458712, 0.7783125570686419, 0.7744209942832987, 0.7705488893118821, 0.7666961448653228, 0.7628626641409961, 0.7590483508202912, 0.7552531090661897, 0.7514768435208588, 0.7477194593032545, 0.7439808620067382, 0.7402609576967045, 0.736559652908221, 0.7328768546436799, 0.7292124703704614, 0.7255664080186092, 0.7219385759785161, 0.7183288830986235, 0.7147372386831304, 0.7111635524897147, 0.7076077347272661, 0.7040696960536298, 0.7005493475733616, 0.6970466008354949, 0.6935613678313174, 0.6900935609921608, 0.6866430931872, 0.683209877721264, 0.6797938283326577, 0.6763948591909944, 0.6730128848950394, 0.6696478204705641, 0.6662995813682113, 0.6629680834613703, 0.6596532430440635, 0.6563549768288431, 0.6530732019446989, 0.6498078359349754, 0.6465587967553006, 0.6433260027715241, 0.6401093727576664, 0.6369088258938781, 0.6337242817644086, 0.6305556603555866, 0.6274028820538087, 0.6242658676435396, 0.6211445383053219, 0.6180388156137954, 0.6149486215357264, 0.6118738784280477, 0.6088145090359075, 0.6057704364907279, 0.6027415843082743, 0.599727876386733, 0.5967292370047993, 0.5937455908197753, 0.5907768628656764, 0.587822978551348, 0.5848838636585912, 0.5819594443402983, 0.5790496471185969, 0.5761543988830038, 0.5732736268885888, 0.5704072587541459, 0.5675552224603752, 0.5647174463480732, 0.5618938591163328, 0.5590843898207511, 0.5562889678716475, 0.5535075230322892, 0.5507399854171278, 0.5479862854900421, 0.5452463540625919, 0.542520122292279, 0.5398075216808176, 0.5371084840724134, 0.5344229416520514, 0.5317508269437912, 0.5290920728090721, 0.5264466124450268, 0.5238143793828016, 0.5211953074858876, 0.5185893309484582, 0.515996384293716, 0.5134164023722474, 0.5108493203603861, 0.5082950737585842, 0.5057535983897913, 0.5032248303978423, 0.5007087062458531, 0.4982051627146238, 0.4957141369010507, 0.4932355662165454, 0.4907693883854627, 0.4883155414435354, 0.4858739637363177, 0.4834445939176361, 0.4810273709480479, 0.4786222340933077, 0.47622912292284114, 0.4738479773082269, 0.4714787374216858, 0.46912134373457737, 0.46677573701590447, 0.46444185833082496, 0.46211964903917085, 0.459809050793975, 0.4575100055400051, 0.45522245551230506, 0.45294634323474353, 0.45068161151856984, 0.44842820346097695, 0.4461860624436721, 0.4439551321314537, 0.4417353564707965, 0.43952667968844245, 0.43732904629000025, 0.43514240105855023, 0.4329666890532575, 0.4308018556079912, 0.42864784632995123, 0.4265046070983015, 0.42437208406280996, 0.4222502236424959, 0.42013897252428345, 0.418038277661662, 0.4159480862733537, 0.41386834584198695, 0.41179900411277703, 0.40974000909221314, 0.40769130904675205, 0.4056528525015183, 0.4036245882390107, 0.40160646529781563, 0.3995984329713266, 0.39760044080646995, 0.39561243860243755, 0.3936343764094254, 0.39166620452737827, 0.3897078735047414, 0.38775933413721764, 0.38582053746653155, 0.3838914347791989, 0.38197197760530294, 0.3800621177172764, 0.37816180712869, 0.37627099809304654, 0.3743896431025813, 0.37251769488706843, 0.37065510641263305, 0.3688018308805699, 0.36695782172616703, 0.3651230326175362, 0.36329741745444855, 0.3614809303671763, 0.3596735257153404, 0.35787515808676373, 0.35608578229632987, 0.35430535338484825, 0.352533826617924, 0.3507711574848344, 0.3490173016974102, 0.34727221518892315, 0.34553585411297855, 0.34380817484241366, 0.34208913396820156, 0.34037868829836054, 0.33867679485686875, 0.33698341088258443, 0.3352984938281715, 0.33362200135903064, 0.33195389135223546, 0.3302941218954743, 0.3286426512859969, 0.32699943802956694, 0.3253644408394191, 0.323737618635222, 0.3221189305420459, 0.32050833588933564, 0.31890579420988896, 0.3173112652388395, 0.3157247089126453, 0.3141460853680821, 0.31257535494124167, 0.3110124781665355, 0.3094574157757028, 0.30791012869682427, 0.30637057805334017, 0.3048387251630735, 0.30331453153725807, 0.3017979588795718, 0.30028896908517394, 0.2987875242397481, 0.2972935866185493, 0.29580711868545656, 0.2943280830920293, 0.29285644267656913, 0.2913921604631863, 0.2899351996608704, 0.288485523662566, 0.2870430960442532, 0.2856078805640319, 0.28417984116121175, 0.2827589419554057, 0.28134514724562865, 0.2799384215094005, 0.27853872940185354, 0.27714603575484426, 0.27576030557607, 0.2743815040481897, 0.2730095965279487, 0.271644548545309, 0.27028632580258244, 0.2689348941735695, 0.2675902197027017, 0.26625226860418816, 0.26492100726116724, 0.26359640222486136, 0.2622784202137371, 0.26096702811266836, 0.259662192972105, 0.2583638820072445, 0.2570720625972083, 0.25578670228422223, 0.2545077687728011, 0.25323522992893716, 0.25196905377929246, 0.25070920851039596, 0.249455662467844, 0.24820838415550478, 0.24696734223472724, 0.2457325055235536, 0.24450384299593586, 0.24328132378095618, 0.2420649171620514, 0.24085459257624112, 0.23965031961335992, 0.23845206801529312, 0.23725980767521665, 0.23607350863684057, 0.23489314109365636, 0.23371867538818808, 0.23255008201124713, 0.2313873316011909, 0.23023039494318495, 0.22907924296846902, 0.22793384675362668, 0.22679417751985856, 0.22566020663225925, 0.22453190559909794, 0.22340924607110246, 0.22229219984074694, 0.2211807388415432, 0.2200748351473355, 0.2189744609715988, 0.21787958866674081, 0.2167901907234071, 0.2157062397697901, 0.21462770857094113, 0.21355457002808642, 0.212486797177946, 0.21142436319205626, 0.21036724137609597, 0.20931540516921548, 0.20826882814336942, 0.20722748400265256, 0.2061913465826393, 0.20516038984972612, 0.20413458790047748, 0.20311391496097508, 0.20209834538617022, 0.20108785365923937, 0.20008241439094315, 0.19908200231898845, 0.1980865923073935, 0.19709615934585653, 0.19611067854912725, 0.19513012515638162, 0.1941544745305997, 0.1931837021579467, 0.19221778364715697, 0.19125669472892118, 0.19030041125527658, 0.1893489091990002, 0.1884021646530052, 0.18746015382974016, 0.18652285306059146, 0.18559023879528852, 0.18466228760131206, 0.1837389761633055, 0.18282028128248898, 0.18190617987607652, 0.18099664897669615, 0.18009166573181265, 0.1791912074031536, 0.17829525136613783, 0.17740377510930713, 0.1765167562337606, 0.1756341724525918, 0.17475600159032884, 0.1738822215823772, 0.17301281047446532, 0.172147746422093, 0.1712870076899825, 0.1704305726515326, 0.16957841978827493, 0.16873052768933355, 0.1678868750508869, 0.16704744067563246, 0.1662122034722543, 0.16538114245489302, 0.16455423674261857, 0.16373146555890547, 0.16291280823111093, 0.1620982441899554, 0.1612877529690056, 0.16048131420416056, 0.15967890763313977, 0.15888051309497409, 0.1580861105294992, 0.1572956799768517, 0.15650920157696743, 0.1557266555690826, 0.1549480222912372, 0.15417328217978102, 0.1534024157688821, 0.1526354036900377, 0.1518722266715875, 0.15111286553822956, 0.15035730121053842, 0.14960551470448571, 0.14885748713096328, 0.14811319969530848, 0.14737263369683193, 0.14663577052834778, 0.14590259167570604, 0.14517307871732751, 0.14444721332374086, 0.14372497725712216, 0.14300635237083656, 0.14229132060898236, 0.14157986400593744, 0.14087196468590776, 0.14016760486247823, 0.13946676683816583, 0.138769433003975, 0.13807558583895513, 0.13738520790976036, 0.13669828187021155, 0.13601479046086049, 0.1353347165085562, 0.1346580429260134, 0.13398475271138333, 0.13331482894782642, 0.13264825480308728, 0.13198501352907185, 0.1313250884614265, 0.13066846301911936, 0.13001512070402377, 0.12936504510050365, 0.12871821987500112, 0.12807462877562611, 0.12743425563174798, 0.12679708435358925, 0.1261630989318213, 0.1255322834371622, 0.12490462201997637, 0.1242800989098765, 0.12365869841532712, 0.12304040492325048, 0.12242520289863422, 0.12181307688414106, 0.12120401149972035, 0.12059799144222175, 0.11999500148501063, 0.11939502647758558, 0.11879805134519765, 0.11820406108847166, 0.11761304078302931, 0.11702497557911416, 0.11643985070121858, 0.1158576514477125, 0.11527836319047394, 0.11470197137452157, 0.11412846151764895, 0.11355781921006071, 0.1129900301140104, 0.11242507996344035, 0.11186295456362315, 0.11130363979080503, 0.110747121591851, 0.11019338598389175, 0.10964241905397229, 0.10909420695870244, 0.10854873592390892, 0.10800599224428938, 0.10746596228306793, 0.10692863247165259, 0.10639398930929432, 0.10586201936274785, 0.1053327092659341, 0.10480604571960443, 0.10428201549100642, 0.10376060541355138, 0.10324180238648363, 0.10272559337455121, 0.10221196540767845, 0.10170090558064006, 0.10119240105273686, 0.10068643904747317, 0.1001830068522358, 0.09968209181797463, 0.09918368135888475, 0.09868776295209034, 0.09819432413732988, 0.09770335251664322, 0.09721483575406001, 0.09672876157528972, 0.09624511776741326, 0.0957638921785762, 0.09528507271768331, 0.0948086473540949, 0.09433460411732442, 0.0938629310967378, 0.09339361644125412, 0.09292664835904783, 0.0924620151172526, 0.09199970504166634, 0.091539706516458, 0.09108200798387571, 0.09062659794395633, 0.09017346495423655, 0.08972259762946537, 0.08927398464131804, 0.08882761471811144, 0.0883834766445209, 0.08794155926129829, 0.0875018514649918, 0.08706434220766683, 0.0866290204966285, 0.08619587539414536, 0.08576489601717463, 0.08533607153708876, 0.08490939117940331, 0.0844848442235063, 0.08406242000238877, 0.08364210790237682, 0.08322389736286494, 0.0828077778760506, 0.08239373898667036, 0.081981770291737]}],\n",
       "                        {\"annotations\": [{\"font\": {\"size\": 16}, \"showarrow\": false, \"text\": \"\\u03b1 (Learning rate) = 0.001, epsilon: 0.995**(#episodes)\", \"x\": 350, \"y\": -4}], \"autosize\": true, \"height\": 793, \"template\": {\"data\": {\"bar\": [{\"error_x\": {\"color\": \"#2a3f5f\"}, \"error_y\": {\"color\": \"#2a3f5f\"}, \"marker\": {\"line\": {\"color\": \"#E5ECF6\", \"width\": 0.5}}, \"type\": \"bar\"}], \"barpolar\": [{\"marker\": {\"line\": {\"color\": \"#E5ECF6\", \"width\": 0.5}}, \"type\": \"barpolar\"}], \"carpet\": [{\"aaxis\": {\"endlinecolor\": \"#2a3f5f\", \"gridcolor\": \"white\", \"linecolor\": \"white\", \"minorgridcolor\": \"white\", \"startlinecolor\": \"#2a3f5f\"}, \"baxis\": {\"endlinecolor\": \"#2a3f5f\", \"gridcolor\": \"white\", \"linecolor\": \"white\", \"minorgridcolor\": \"white\", \"startlinecolor\": \"#2a3f5f\"}, \"type\": \"carpet\"}], \"choropleth\": [{\"colorbar\": {\"outlinewidth\": 0, \"ticks\": \"\"}, \"type\": \"choropleth\"}], \"contour\": [{\"colorbar\": {\"outlinewidth\": 0, \"ticks\": \"\"}, \"colorscale\": [[0.0, \"#0d0887\"], [0.1111111111111111, \"#46039f\"], [0.2222222222222222, \"#7201a8\"], [0.3333333333333333, \"#9c179e\"], [0.4444444444444444, \"#bd3786\"], [0.5555555555555556, \"#d8576b\"], [0.6666666666666666, \"#ed7953\"], [0.7777777777777778, \"#fb9f3a\"], [0.8888888888888888, \"#fdca26\"], [1.0, \"#f0f921\"]], \"type\": \"contour\"}], \"contourcarpet\": [{\"colorbar\": {\"outlinewidth\": 0, \"ticks\": \"\"}, \"type\": \"contourcarpet\"}], \"heatmap\": [{\"colorbar\": {\"outlinewidth\": 0, \"ticks\": \"\"}, \"colorscale\": [[0.0, \"#0d0887\"], [0.1111111111111111, \"#46039f\"], [0.2222222222222222, \"#7201a8\"], [0.3333333333333333, \"#9c179e\"], [0.4444444444444444, \"#bd3786\"], [0.5555555555555556, \"#d8576b\"], [0.6666666666666666, \"#ed7953\"], [0.7777777777777778, \"#fb9f3a\"], [0.8888888888888888, \"#fdca26\"], [1.0, \"#f0f921\"]], \"type\": \"heatmap\"}], \"heatmapgl\": [{\"colorbar\": {\"outlinewidth\": 0, \"ticks\": \"\"}, \"colorscale\": [[0.0, \"#0d0887\"], [0.1111111111111111, \"#46039f\"], [0.2222222222222222, \"#7201a8\"], [0.3333333333333333, \"#9c179e\"], [0.4444444444444444, \"#bd3786\"], [0.5555555555555556, \"#d8576b\"], [0.6666666666666666, \"#ed7953\"], [0.7777777777777778, \"#fb9f3a\"], [0.8888888888888888, \"#fdca26\"], [1.0, \"#f0f921\"]], \"type\": \"heatmapgl\"}], \"histogram\": [{\"marker\": {\"colorbar\": {\"outlinewidth\": 0, \"ticks\": \"\"}}, \"type\": \"histogram\"}], \"histogram2d\": [{\"colorbar\": {\"outlinewidth\": 0, \"ticks\": \"\"}, \"colorscale\": [[0.0, \"#0d0887\"], [0.1111111111111111, \"#46039f\"], [0.2222222222222222, \"#7201a8\"], [0.3333333333333333, \"#9c179e\"], [0.4444444444444444, \"#bd3786\"], [0.5555555555555556, \"#d8576b\"], [0.6666666666666666, \"#ed7953\"], [0.7777777777777778, \"#fb9f3a\"], [0.8888888888888888, \"#fdca26\"], [1.0, \"#f0f921\"]], \"type\": \"histogram2d\"}], \"histogram2dcontour\": [{\"colorbar\": {\"outlinewidth\": 0, \"ticks\": \"\"}, \"colorscale\": [[0.0, \"#0d0887\"], [0.1111111111111111, \"#46039f\"], [0.2222222222222222, \"#7201a8\"], [0.3333333333333333, \"#9c179e\"], [0.4444444444444444, \"#bd3786\"], [0.5555555555555556, \"#d8576b\"], [0.6666666666666666, \"#ed7953\"], [0.7777777777777778, \"#fb9f3a\"], [0.8888888888888888, \"#fdca26\"], [1.0, \"#f0f921\"]], \"type\": \"histogram2dcontour\"}], \"mesh3d\": [{\"colorbar\": {\"outlinewidth\": 0, \"ticks\": \"\"}, \"type\": \"mesh3d\"}], \"parcoords\": [{\"line\": {\"colorbar\": {\"outlinewidth\": 0, \"ticks\": \"\"}}, \"type\": \"parcoords\"}], \"pie\": [{\"automargin\": true, \"type\": \"pie\"}], \"scatter\": [{\"marker\": {\"colorbar\": {\"outlinewidth\": 0, \"ticks\": \"\"}}, \"type\": \"scatter\"}], \"scatter3d\": [{\"line\": {\"colorbar\": {\"outlinewidth\": 0, \"ticks\": \"\"}}, \"marker\": {\"colorbar\": {\"outlinewidth\": 0, \"ticks\": \"\"}}, \"type\": \"scatter3d\"}], \"scattercarpet\": [{\"marker\": {\"colorbar\": {\"outlinewidth\": 0, \"ticks\": \"\"}}, \"type\": \"scattercarpet\"}], \"scattergeo\": [{\"marker\": {\"colorbar\": {\"outlinewidth\": 0, \"ticks\": \"\"}}, \"type\": \"scattergeo\"}], \"scattergl\": [{\"marker\": {\"colorbar\": {\"outlinewidth\": 0, \"ticks\": \"\"}}, \"type\": \"scattergl\"}], \"scattermapbox\": [{\"marker\": {\"colorbar\": {\"outlinewidth\": 0, \"ticks\": \"\"}}, \"type\": \"scattermapbox\"}], \"scatterpolar\": [{\"marker\": {\"colorbar\": {\"outlinewidth\": 0, \"ticks\": \"\"}}, \"type\": \"scatterpolar\"}], \"scatterpolargl\": [{\"marker\": {\"colorbar\": {\"outlinewidth\": 0, \"ticks\": \"\"}}, \"type\": \"scatterpolargl\"}], \"scatterternary\": [{\"marker\": {\"colorbar\": {\"outlinewidth\": 0, \"ticks\": \"\"}}, \"type\": \"scatterternary\"}], \"surface\": [{\"colorbar\": {\"outlinewidth\": 0, \"ticks\": \"\"}, \"colorscale\": [[0.0, \"#0d0887\"], [0.1111111111111111, \"#46039f\"], [0.2222222222222222, \"#7201a8\"], [0.3333333333333333, \"#9c179e\"], [0.4444444444444444, \"#bd3786\"], [0.5555555555555556, \"#d8576b\"], [0.6666666666666666, \"#ed7953\"], [0.7777777777777778, \"#fb9f3a\"], [0.8888888888888888, \"#fdca26\"], [1.0, \"#f0f921\"]], \"type\": \"surface\"}], \"table\": [{\"cells\": {\"fill\": {\"color\": \"#EBF0F8\"}, \"line\": {\"color\": \"white\"}}, \"header\": {\"fill\": {\"color\": \"#C8D4E3\"}, \"line\": {\"color\": \"white\"}}, \"type\": \"table\"}]}, \"layout\": {\"annotationdefaults\": {\"arrowcolor\": \"#2a3f5f\", \"arrowhead\": 0, \"arrowwidth\": 1}, \"coloraxis\": {\"colorbar\": {\"outlinewidth\": 0, \"ticks\": \"\"}}, \"colorscale\": {\"diverging\": [[0, \"#8e0152\"], [0.1, \"#c51b7d\"], [0.2, \"#de77ae\"], [0.3, \"#f1b6da\"], [0.4, \"#fde0ef\"], [0.5, \"#f7f7f7\"], [0.6, \"#e6f5d0\"], [0.7, \"#b8e186\"], [0.8, \"#7fbc41\"], [0.9, \"#4d9221\"], [1, \"#276419\"]], \"sequential\": [[0.0, \"#0d0887\"], [0.1111111111111111, \"#46039f\"], [0.2222222222222222, \"#7201a8\"], [0.3333333333333333, \"#9c179e\"], [0.4444444444444444, \"#bd3786\"], [0.5555555555555556, \"#d8576b\"], [0.6666666666666666, \"#ed7953\"], [0.7777777777777778, \"#fb9f3a\"], [0.8888888888888888, \"#fdca26\"], [1.0, \"#f0f921\"]], \"sequentialminus\": [[0.0, \"#0d0887\"], [0.1111111111111111, \"#46039f\"], [0.2222222222222222, \"#7201a8\"], [0.3333333333333333, \"#9c179e\"], [0.4444444444444444, \"#bd3786\"], [0.5555555555555556, \"#d8576b\"], [0.6666666666666666, \"#ed7953\"], [0.7777777777777778, \"#fb9f3a\"], [0.8888888888888888, \"#fdca26\"], [1.0, \"#f0f921\"]]}, \"colorway\": [\"#636efa\", \"#EF553B\", \"#00cc96\", \"#ab63fa\", \"#FFA15A\", \"#19d3f3\", \"#FF6692\", \"#B6E880\", \"#FF97FF\", \"#FECB52\"], \"font\": {\"color\": \"#2a3f5f\"}, \"geo\": {\"bgcolor\": \"white\", \"lakecolor\": \"white\", \"landcolor\": \"#E5ECF6\", \"showlakes\": true, \"showland\": true, \"subunitcolor\": \"white\"}, \"hoverlabel\": {\"align\": \"left\"}, \"hovermode\": \"closest\", \"mapbox\": {\"style\": \"light\"}, \"paper_bgcolor\": \"white\", \"plot_bgcolor\": \"#E5ECF6\", \"polar\": {\"angularaxis\": {\"gridcolor\": \"white\", \"linecolor\": \"white\", \"ticks\": \"\"}, \"bgcolor\": \"#E5ECF6\", \"radialaxis\": {\"gridcolor\": \"white\", \"linecolor\": \"white\", \"ticks\": \"\"}}, \"scene\": {\"xaxis\": {\"backgroundcolor\": \"#E5ECF6\", \"gridcolor\": \"white\", \"gridwidth\": 2, \"linecolor\": \"white\", \"showbackground\": true, \"ticks\": \"\", \"zerolinecolor\": \"white\"}, \"yaxis\": {\"backgroundcolor\": \"#E5ECF6\", \"gridcolor\": \"white\", \"gridwidth\": 2, \"linecolor\": \"white\", \"showbackground\": true, \"ticks\": \"\", \"zerolinecolor\": \"white\"}, \"zaxis\": {\"backgroundcolor\": \"#E5ECF6\", \"gridcolor\": \"white\", \"gridwidth\": 2, \"linecolor\": \"white\", \"showbackground\": true, \"ticks\": \"\", \"zerolinecolor\": \"white\"}}, \"shapedefaults\": {\"line\": {\"color\": \"#2a3f5f\"}}, \"ternary\": {\"aaxis\": {\"gridcolor\": \"white\", \"linecolor\": \"white\", \"ticks\": \"\"}, \"baxis\": {\"gridcolor\": \"white\", \"linecolor\": \"white\", \"ticks\": \"\"}, \"bgcolor\": \"#E5ECF6\", \"caxis\": {\"gridcolor\": \"white\", \"linecolor\": \"white\", \"ticks\": \"\"}}, \"title\": {\"x\": 0.05}, \"xaxis\": {\"automargin\": true, \"gridcolor\": \"white\", \"linecolor\": \"white\", \"ticks\": \"\", \"title\": {\"standoff\": 15}, \"zerolinecolor\": \"white\", \"zerolinewidth\": 2}, \"yaxis\": {\"automargin\": true, \"gridcolor\": \"white\", \"linecolor\": \"white\", \"ticks\": \"\", \"title\": {\"standoff\": 15}, \"zerolinecolor\": \"white\", \"zerolinewidth\": 2}}}, \"title\": {\"text\": \"\\u03f5 decay\"}, \"width\": 1050, \"xaxis\": {\"autorange\": false, \"range\": [0, 500], \"title\": {\"text\": \"# episodes\"}, \"type\": \"linear\"}, \"yaxis\": {\"autorange\": false, \"range\": [0, 1], \"title\": {\"text\": \"epsilon\"}, \"type\": \"linear\"}},\n",
       "                        {\"responsive\": true}\n",
       "                    ).then(function(){\n",
       "                            \n",
       "var gd = document.getElementById('b52d7505-7810-4028-a062-4ce80a62ad4e');\n",
       "var x = new MutationObserver(function (mutations, observer) {{\n",
       "        var display = window.getComputedStyle(gd).display;\n",
       "        if (!display || display === 'none') {{\n",
       "            console.log([gd, 'removed!']);\n",
       "            Plotly.purge(gd);\n",
       "            observer.disconnect();\n",
       "        }}\n",
       "}});\n",
       "\n",
       "// Listen for the removal of the full notebook cells\n",
       "var notebookContainer = gd.closest('#notebook-container');\n",
       "if (notebookContainer) {{\n",
       "    x.observe(notebookContainer, {childList: true});\n",
       "}}\n",
       "\n",
       "// Listen for the clearing of the current output cell\n",
       "var outputEl = gd.closest('.output');\n",
       "if (outputEl) {{\n",
       "    x.observe(outputEl, {childList: true});\n",
       "}}\n",
       "\n",
       "                        })\n",
       "                };\n",
       "                });\n",
       "            </script>\n",
       "        </div>"
      ]
     },
     "metadata": {},
     "output_type": "display_data"
    }
   ],
   "source": [
    "epsilon = []\n",
    "nrEpisodes = 500\n",
    "for i in range (nrEpisodes): \n",
    "    epsilon.append(0.995**i)\n",
    "\n",
    "graficoFigo('ϵ decay', epsilon, '# episodes', 'epsilon', 1)"
   ]
  },
  {
   "cell_type": "code",
   "execution_count": null,
   "metadata": {},
   "outputs": [],
   "source": []
  }
 ],
 "metadata": {
  "kernelspec": {
   "display_name": "Python 3",
   "language": "python",
   "name": "python3"
  },
  "language_info": {
   "codemirror_mode": {
    "name": "ipython",
    "version": 3
   },
   "file_extension": ".py",
   "mimetype": "text/x-python",
   "name": "python",
   "nbconvert_exporter": "python",
   "pygments_lexer": "ipython3",
   "version": "3.7.3"
  }
 },
 "nbformat": 4,
 "nbformat_minor": 2
}
